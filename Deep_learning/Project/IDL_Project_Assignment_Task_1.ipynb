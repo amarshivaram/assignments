{
  "cells": [
    {
      "cell_type": "markdown",
      "metadata": {
        "colab_type": "text",
        "id": "EXsjB33TOCQM"
      },
      "source": [
        "# **IDL Project Assignment: Task 1 - Optimizers**"
      ]
    },
    {
      "cell_type": "markdown",
      "metadata": {
        "colab_type": "text",
        "id": "_W6d2xNvOd8s"
      },
      "source": [
        "###Importing required Libraries"
      ]
    },
    {
      "cell_type": "code",
      "execution_count": null,
      "metadata": {
        "colab": {},
        "colab_type": "code",
        "id": "_XtYCARJ6vBt",
        "vscode": {
          "languageId": "python"
        }
      },
      "outputs": [],
      "source": [
        "%tensorflow_version 2.x\n",
        "\n",
        "import tensorflow as tf\n",
        "import numpy as np\n",
        "import matplotlib.pyplot as plt\n",
        "import pandas as pd\n",
        "import seaborn as sns\n",
        "import os\n",
        "import keras"
      ]
    },
    {
      "cell_type": "code",
      "execution_count": null,
      "metadata": {
        "colab": {
          "base_uri": "https://localhost:8080/",
          "height": 35
        },
        "colab_type": "code",
        "id": "ByiBqJR863ww",
        "outputId": "3140d767-06d9-433c-9e00-011eb61d1ba7",
        "vscode": {
          "languageId": "python"
        }
      },
      "outputs": [
        {
          "data": {
            "application/vnd.google.colaboratory.intrinsic+json": {
              "type": "string"
            },
            "text/plain": [
              "'2.3.0'"
            ]
          },
          "execution_count": 28,
          "metadata": {
            "tags": []
          },
          "output_type": "execute_result"
        }
      ],
      "source": [
        "tf.__version__"
      ]
    },
    {
      "cell_type": "code",
      "execution_count": null,
      "metadata": {
        "colab": {
          "base_uri": "https://localhost:8080/",
          "height": 283
        },
        "colab_type": "code",
        "id": "82obHVXF63zW",
        "outputId": "58e6aa7e-81bc-45c1-aec2-de6e92d92153",
        "vscode": {
          "languageId": "python"
        }
      },
      "outputs": [
        {
          "data": {
            "text/plain": [
              "<matplotlib.image.AxesImage at 0x7f57a2dbab38>"
            ]
          },
          "execution_count": 29,
          "metadata": {
            "tags": []
          },
          "output_type": "execute_result"
        },
        {
          "data": {
            "image/png": "[encoded data removed]",
            "text/plain": [
              "<Figure size 432x288 with 1 Axes>"
            ]
          },
          "metadata": {
            "needs_background": "light",
            "tags": []
          },
          "output_type": "display_data"
        }
      ],
      "source": [
        "(train_images, train_labels), (test_images, test_labels) = tf.keras.datasets.cifar10.load_data()\n",
        "plt.imshow(train_images[10], cmap=plt.cm.binary)"
      ]
    },
    {
      "cell_type": "code",
      "execution_count": null,
      "metadata": {
        "colab": {
          "base_uri": "https://localhost:8080/",
          "height": 35
        },
        "colab_type": "code",
        "id": "dWyvyUTyWSRm",
        "outputId": "ec86408b-7a58-4948-de6b-403954f1bcc8",
        "vscode": {
          "languageId": "python"
        }
      },
      "outputs": [
        {
          "data": {
            "text/plain": [
              "((50000, 32, 32, 3), (50000, 1))"
            ]
          },
          "execution_count": 30,
          "metadata": {
            "tags": []
          },
          "output_type": "execute_result"
        }
      ],
      "source": [
        "train_images.shape, train_labels.shape"
      ]
    },
    {
      "cell_type": "code",
      "execution_count": null,
      "metadata": {
        "colab": {},
        "colab_type": "code",
        "id": "B4wL0B5XYt8H",
        "vscode": {
          "languageId": "python"
        }
      },
      "outputs": [],
      "source": [
        "batch_size = 2048\n",
        "train_data = tf.data.Dataset.from_tensor_slices((train_images, train_labels))\n",
        "train_data = train_data.shuffle(10000, seed=1, reshuffle_each_iteration=True)\n",
        "train_data = train_data.batch(batch_size)\n",
        "test_data = tf.data.Dataset.from_tensor_slices((test_images, test_labels))\n",
        "test_data = test_data.shuffle(10000, seed=1, reshuffle_each_iteration=True)\n",
        "test_data = test_data.batch(batch_size)"
      ]
    },
    {
      "cell_type": "code",
      "execution_count": null,
      "metadata": {
        "colab": {
          "base_uri": "https://localhost:8080/",
          "height": 156
        },
        "colab_type": "code",
        "id": "CoDD-2PGdMuZ",
        "outputId": "3aa60418-8aae-4e8d-e33a-246b99763d1c",
        "vscode": {
          "languageId": "python"
        }
      },
      "outputs": [
        {
          "name": "stdout",
          "output_type": "stream",
          "text": [
            "Downloading data from https://storage.googleapis.com/tensorflow/tf-keras-datasets/train-labels-idx1-ubyte.gz\n",
            "32768/29515 [=================================] - 0s 0us/step\n",
            "Downloading data from https://storage.googleapis.com/tensorflow/tf-keras-datasets/train-images-idx3-ubyte.gz\n",
            "26427392/26421880 [==============================] - 0s 0us/step\n",
            "Downloading data from https://storage.googleapis.com/tensorflow/tf-keras-datasets/t10k-labels-idx1-ubyte.gz\n",
            "8192/5148 [===============================================] - 0s 0us/step\n",
            "Downloading data from https://storage.googleapis.com/tensorflow/tf-keras-datasets/t10k-images-idx3-ubyte.gz\n",
            "4423680/4422102 [==============================] - 0s 0us/step\n"
          ]
        }
      ],
      "source": [
        "fashion_mnist = keras.datasets.fashion_mnist\n",
        "(train_images, train_labels), (test_images, test_labels) =fashion_mnist.load_data() \n",
        "# print(train_labels[0])\n",
        "# plt.imshow(train_images[0], cmap= 'Greys_r')\n",
        "data = tf.data.Dataset.from_tensor_slices(\n",
        "    (train_images.reshape([-1,28,28,1]).astype(np.float32)/255,train_labels.astype(np.int32)))\n",
        "data_fmnist = data.shuffle(buffer_size =120000).batch(2048).repeat(4)\n",
        "\n",
        "test_data_fmnist = tf.data.Dataset.from_tensor_slices(\n",
        "    (test_images.reshape([-1,28,28,1]).astype(np.float32)/255, test_labels.astype(np.int32))).batch(128)"
      ]
    },
    {
      "cell_type": "code",
      "execution_count": null,
      "metadata": {
        "colab": {
          "base_uri": "https://localhost:8080/",
          "height": 35
        },
        "colab_type": "code",
        "id": "6rnl-3XUXVfW",
        "outputId": "25fdd73f-6d87-4dab-d691-c88d7679e30e",
        "vscode": {
          "languageId": "python"
        }
      },
      "outputs": [
        {
          "data": {
            "text/plain": [
              "<RepeatDataset shapes: ((None, 28, 28, 1), (None,)), types: (tf.float32, tf.int32)>"
            ]
          },
          "execution_count": 58,
          "metadata": {
            "tags": []
          },
          "output_type": "execute_result"
        }
      ],
      "source": [
        "data_fmnist"
      ]
    },
    {
      "cell_type": "code",
      "execution_count": null,
      "metadata": {
        "colab": {},
        "colab_type": "code",
        "id": "2rdzhY--7KBE",
        "vscode": {
          "languageId": "python"
        }
      },
      "outputs": [],
      "source": [
        "def model_config(act_fn, config):\n",
        "  ## Architecture 1\n",
        "  layers_config1 = [\n",
        "          tf.keras.layers.Conv2D(32,3,padding='same',activation=act_fn,input_shape=(32,32,3)),\n",
        "          tf.keras.layers.Conv2D(32,3,padding='same',activation=act_fn),\n",
        "          tf.keras.layers.MaxPool2D((2,2)),\n",
        "          tf.keras.layers.Dropout(0.2),\n",
        "\n",
        "          tf.keras.layers.Conv2D(64,3,padding='same',activation=act_fn),\n",
        "          tf.keras.layers.Conv2D(64,3,padding='same',activation=act_fn),\n",
        "          tf.keras.layers.MaxPool2D((2,2)),\n",
        "          tf.keras.layers.Dropout(0.3),\n",
        "\n",
        "          tf.keras.layers.Conv2D(128,3,padding='same',activation=act_fn),\n",
        "          tf.keras.layers.Conv2D(128,3,padding='same',activation=act_fn),\n",
        "          tf.keras.layers.MaxPool2D((2,2)),\n",
        "          tf.keras.layers.Dropout(0.4),\n",
        "\n",
        "          tf.keras.layers.Conv2D(256,3,padding='same',activation=act_fn),\n",
        "          tf.keras.layers.MaxPool2D((2,2)),\n",
        "          tf.keras.layers.Dropout(0.25),\n",
        "\n",
        "          tf.keras.layers.Flatten(),\n",
        "          tf.keras.layers.Dense(128,activation=act_fn),\n",
        "          #tf.keras.layers.Dropout(0.5),\n",
        "\n",
        "          tf.keras.layers.Dense(256,activation=act_fn),\n",
        "          tf.keras.layers.Dense(512,activation=act_fn),\n",
        "          tf.keras.layers.Dense(10)]\n",
        "  \n",
        "  ## Architecture 2\n",
        "  layers_config2 = [\n",
        "          # tf.keras.layers.Conv2D(8,3,padding='same',activation=act_fn,input_shape=(32,32,3)),\n",
        "          # tf.keras.layers.Conv2D(8,3,padding='same',activation=act_fn),\n",
        "          # tf.keras.layers.MaxPool2D((2,2)),\n",
        "          # tf.keras.layers.Dropout(0.1),\n",
        "\n",
        "          # tf.keras.layers.Conv2D(16,3,padding='same',activation=act_fn),\n",
        "          # tf.keras.layers.Conv2D(16,3,padding='same',activation=act_fn),\n",
        "          # tf.keras.layers.MaxPool2D((2,2)),\n",
        "          # tf.keras.layers.Dropout(0.2),\n",
        "          \n",
        "          \n",
        "          keras.layers.Conv2D(filters= 16,kernel_size=[5,5],kernel_initializer = keras.initializers.RandomUniform(minval=-0.05, maxval=0.05, seed=None),use_bias = True,bias_initializer='zeros',padding = 'same',activation = 'relu',input_shape=(28,28,1)),\n",
        "                          keras.layers.MaxPool2D(pool_size=(2,2),padding='same'),\n",
        "                          keras.layers.Conv2D(filters= 32,kernel_size=[5,5],kernel_initializer = keras.initializers.RandomUniform(minval=-0.05, maxval=0.05, seed=None),use_bias = True,bias_initializer='zeros',padding = 'same',activation = 'relu'),\n",
        "                          keras.layers.MaxPool2D(pool_size=(2,2),padding='same'),\n",
        "                          keras.layers.Flatten(),\n",
        "                          keras.layers.Dense(10,use_bias= True,bias_initializer='zeros' )\n",
        "                          ]\n",
        "  \n",
        "\n",
        "    ## Define the model\n",
        "  if config == 'layers_config1':\n",
        "    model = tf.keras.Sequential(layers_config1)\n",
        "       \n",
        "  else:\n",
        "    model = tf.keras.Sequential(layers_config2)\n",
        "   \n",
        "\n",
        "  return model"
      ]
    },
    {
      "cell_type": "code",
      "execution_count": null,
      "metadata": {
        "colab": {},
        "colab_type": "code",
        "id": "AfQkdmzFc70G",
        "vscode": {
          "languageId": "python"
        }
      },
      "outputs": [],
      "source": []
    },
    {
      "cell_type": "code",
      "execution_count": null,
      "metadata": {
        "colab": {},
        "colab_type": "code",
        "id": "xtz1uG7h-VhR",
        "vscode": {
          "languageId": "python"
        }
      },
      "outputs": [],
      "source": [
        "## Train the model\n",
        "def train(opt_type, n_epochs, model, lr):\n",
        "    if opt_type == 'Adam':\n",
        "        opt = tf.keras.optimizers.Adam(learning_rate=lr)\n",
        "    elif opt_type == 'SGD':\n",
        "        opt = tf.keras.optimizers.SGD(learning_rate=lr)\n",
        "    else:\n",
        "        opt = tf.keras.optimizers.RMSprop(learning_rate=lr)\n",
        "    loss_fn = tf.keras.losses.SparseCategoricalCrossentropy(from_logits=True)\n",
        "    train_acc_metric = tf.keras.metrics.SparseCategoricalAccuracy()\n",
        "    test_acc_metric = tf.keras.metrics.SparseCategoricalAccuracy()\n",
        "    loss_list = []\n",
        "    step_list = []\n",
        "    acc_list = []\n",
        "    steps = 0\n",
        "    for epoch in range(n_epochs):\n",
        "       \n",
        "        for img_batch, lbl_batch in data_fmnist:\n",
        "            # print(img_batch.shape, lbl_batch.shape)\n",
        "            steps = steps+1\n",
        "            with tf.GradientTape(persistent=True) as tape:\n",
        "                logits = model(img_batch, training=True)\n",
        "                loss_value = loss_fn(lbl_batch, logits)\n",
        "            grads = tape.gradient(loss_value, model.trainable_weights)\n",
        "\n",
        "            opt.apply_gradients(zip(grads, model.trainable_weights))\n",
        "            acc = train_acc_metric(lbl_batch, logits)\n",
        "            \n",
        "        if not epoch % 2:\n",
        "          print('Epoch no %d' % (epoch,))\n",
        "          print(\"Loss: {} Accuracy: {}\".format(loss_value, train_acc_metric.result()))\n",
        "          train_acc_metric.reset_states()\n",
        "        loss_list.append(loss_value)\n",
        "        step_list.append(steps)\n",
        "        acc_list.append(acc)\n",
        "    return loss_list, step_list, acc_list"
      ]
    },
    {
      "cell_type": "markdown",
      "metadata": {
        "colab_type": "text",
        "id": "8Bpc3BDiTE_h"
      },
      "source": [
        "###For Architecture 1 and CIFAR 10:"
      ]
    },
    {
      "cell_type": "code",
      "execution_count": null,
      "metadata": {
        "colab": {},
        "colab_type": "code",
        "id": "PipQwdK66E1L",
        "vscode": {
          "languageId": "python"
        }
      },
      "outputs": [],
      "source": []
    },
    {
      "cell_type": "code",
      "execution_count": null,
      "metadata": {
        "colab": {
          "base_uri": "https://localhost:8080/",
          "height": 1000
        },
        "colab_type": "code",
        "id": "Bkp4DLrfXIeG",
        "outputId": "dc886982-e22d-4513-d127-9c3e63c39ffd",
        "vscode": {
          "languageId": "python"
        }
      },
      "outputs": [
        {
          "name": "stdout",
          "output_type": "stream",
          "text": [
            "Epoch no 0\n",
            "Loss: 2.3005337715148926 Accuracy: 0.10412000119686127\n",
            "Epoch no 2\n",
            "Loss: 2.019705057144165 Accuracy: 0.1693200021982193\n",
            "Epoch no 4\n",
            "Loss: 1.7608832120895386 Accuracy: 0.2888199985027313\n",
            "Epoch no 6\n",
            "Loss: 1.6121619939804077 Accuracy: 0.3804300129413605\n",
            "Epoch no 8\n",
            "Loss: 1.3765660524368286 Accuracy: 0.4414199888706207\n",
            "Epoch no 10\n",
            "Loss: 1.335778832435608 Accuracy: 0.49035000801086426\n",
            "Epoch no 12\n",
            "Loss: 1.2968050241470337 Accuracy: 0.527180016040802\n",
            "Epoch no 14\n",
            "Loss: 1.1562373638153076 Accuracy: 0.5648099780082703\n",
            "Epoch no 16\n",
            "Loss: 1.1090513467788696 Accuracy: 0.5919399857521057\n",
            "Epoch no 18\n",
            "Loss: 1.0315881967544556 Accuracy: 0.6202200055122375\n",
            "Epoch no 20\n",
            "Loss: 1.015511155128479 Accuracy: 0.6479300260543823\n",
            "Epoch no 22\n",
            "Loss: 0.8581581115722656 Accuracy: 0.6672599911689758\n",
            "Epoch no 24\n",
            "Loss: 0.7952304482460022 Accuracy: 0.684469997882843\n",
            "Epoch no 26\n",
            "Loss: 0.826123058795929 Accuracy: 0.7009400129318237\n",
            "Epoch no 28\n",
            "Loss: 0.7811809778213501 Accuracy: 0.7149099707603455\n",
            "Epoch no 30\n",
            "Loss: 0.7793139219284058 Accuracy: 0.7254700064659119\n",
            "Epoch no 32\n",
            "Loss: 0.6988473534584045 Accuracy: 0.739080011844635\n",
            "Epoch no 34\n",
            "Loss: 0.7134488224983215 Accuracy: 0.7486699819564819\n",
            "Epoch no 36\n",
            "Loss: 0.6497390866279602 Accuracy: 0.754800021648407\n",
            "Epoch no 38\n",
            "Loss: 0.644021213054657 Accuracy: 0.768280029296875\n",
            "Epoch no 40\n",
            "Loss: 0.5680693984031677 Accuracy: 0.7750399708747864\n",
            "Epoch no 42\n",
            "Loss: 0.6223074793815613 Accuracy: 0.7857199907302856\n",
            "Epoch no 44\n",
            "Loss: 0.5889459848403931 Accuracy: 0.7836199998855591\n",
            "Epoch no 46\n",
            "Loss: 0.5662450194358826 Accuracy: 0.7958800196647644\n",
            "Epoch no 48\n",
            "Loss: 0.5513029098510742 Accuracy: 0.7972699999809265\n",
            "Epoch no 50\n",
            "Loss: 0.5761112570762634 Accuracy: 0.8058300018310547\n",
            "Epoch no 52\n",
            "Loss: 0.5317112803459167 Accuracy: 0.8132399916648865\n",
            "Epoch no 54\n",
            "Loss: 0.516771674156189 Accuracy: 0.8119999766349792\n",
            "Epoch no 56\n",
            "Loss: 0.48524031043052673 Accuracy: 0.8192899823188782\n",
            "Epoch no 58\n",
            "Loss: 0.4674227237701416 Accuracy: 0.8224300146102905\n",
            "Epoch no 60\n",
            "Loss: 0.4303981065750122 Accuracy: 0.8275799751281738\n",
            "Epoch no 62\n",
            "Loss: 0.4763791561126709 Accuracy: 0.833329975605011\n",
            "Epoch no 64\n",
            "Loss: 0.4813929796218872 Accuracy: 0.8370100259780884\n",
            "Epoch no 66\n",
            "Loss: 0.4079250395298004 Accuracy: 0.8423699736595154\n",
            "Epoch no 68\n",
            "Loss: 0.44653111696243286 Accuracy: 0.8450800180435181\n",
            "Epoch no 70\n",
            "Loss: 0.43481022119522095 Accuracy: 0.8456000089645386\n",
            "Epoch no 72\n",
            "Loss: 0.45390549302101135 Accuracy: 0.8464199900627136\n",
            "Epoch no 74\n",
            "Loss: 0.4020540416240692 Accuracy: 0.8521199822425842\n",
            "Epoch no 76\n",
            "Loss: 0.373727411031723 Accuracy: 0.8522199988365173\n",
            "Epoch no 78\n",
            "Loss: 0.4034474790096283 Accuracy: 0.85698002576828\n",
            "Epoch no 80\n",
            "Loss: 0.39932703971862793 Accuracy: 0.8597599864006042\n",
            "Epoch no 82\n",
            "Loss: 0.3530319035053253 Accuracy: 0.8636000156402588\n",
            "Epoch no 84\n",
            "Loss: 0.3711755573749542 Accuracy: 0.8644499778747559\n",
            "Epoch no 86\n",
            "Loss: 0.369112491607666 Accuracy: 0.8683000206947327\n",
            "Epoch no 88\n",
            "Loss: 0.38053184747695923 Accuracy: 0.870140016078949\n",
            "Epoch no 90\n",
            "Loss: 0.35074061155319214 Accuracy: 0.8736299872398376\n",
            "Epoch no 92\n",
            "Loss: 0.3470263183116913 Accuracy: 0.8740699887275696\n",
            "Epoch no 94\n",
            "Loss: 0.35191646218299866 Accuracy: 0.8752999901771545\n",
            "Epoch no 96\n",
            "Loss: 0.3342399299144745 Accuracy: 0.8809000253677368\n",
            "Epoch no 98\n",
            "Loss: 0.35187849402427673 Accuracy: 0.8810200095176697\n",
            "Test acc: 0.8284000158309937\n"
          ]
        }
      ],
      "source": [
        "# Layer Architecture 1 : Adam : Relu\n",
        "\n",
        "n_epoch, lr = 100, 0.001\n",
        "opt_type, act_fn, config = 'Adam', 'relu', 'layers_config1'\n",
        "model = model_config(act_fn, config)\n",
        "loss_list, step_list, acc_list = train(opt_type, n_epoch, model, lr)\n",
        "\n",
        "\n",
        "\n",
        "arc1_loss, arc1_acc, arc1_steps = loss_list, acc_list, step_list\n",
        "arc1_acc, arc1_loss, arc1_steps = [elem.numpy() for elem in arc1_acc], [elem.numpy() for elem in arc1_loss], arc1_steps\n",
        "AR1 = pd.DataFrame([arc1_steps, arc1_acc, arc1_loss]).T\n",
        "AR1.columns = ['Steps', 'Accuracy', 'Loss']\n",
        "\n",
        "\n",
        "test_acc_metric = tf.keras.metrics.SparseCategoricalAccuracy()\n",
        "for img_batch, lbl_batch in test_data:\n",
        "    test_acc_metric(lbl_batch, model(img_batch))\n",
        "print(\"Test acc: {}\".format(test_acc_metric.result()))"
      ]
    },
    {
      "cell_type": "code",
      "execution_count": null,
      "metadata": {
        "colab": {
          "base_uri": "https://localhost:8080/",
          "height": 1000
        },
        "colab_type": "code",
        "id": "DVBswsTWg2Sh",
        "outputId": "d6331999-5bba-403e-cb9c-cd906e06caf7",
        "vscode": {
          "languageId": "python"
        }
      },
      "outputs": [
        {
          "name": "stdout",
          "output_type": "stream",
          "text": [
            "Epoch no 0\n",
            "Loss: 1.865912675857544 Accuracy: 0.23217999935150146\n",
            "Epoch no 2\n",
            "Loss: 1.5085824728012085 Accuracy: 0.40022000670433044\n",
            "Epoch no 4\n",
            "Loss: 1.2471692562103271 Accuracy: 0.5212200284004211\n",
            "Epoch no 6\n",
            "Loss: 1.1026370525360107 Accuracy: 0.576479971408844\n",
            "Epoch no 8\n",
            "Loss: 1.0787091255187988 Accuracy: 0.6243000030517578\n",
            "Epoch no 10\n",
            "Loss: 0.9418576955795288 Accuracy: 0.654229998588562\n",
            "Epoch no 12\n",
            "Loss: 0.8427178859710693 Accuracy: 0.6773099899291992\n",
            "Epoch no 14\n",
            "Loss: 0.7938975691795349 Accuracy: 0.6942099928855896\n",
            "Epoch no 16\n",
            "Loss: 0.7536179423332214 Accuracy: 0.7172200083732605\n",
            "Epoch no 18\n",
            "Loss: 0.7323787808418274 Accuracy: 0.7307100296020508\n",
            "Epoch no 20\n",
            "Loss: 0.6619481444358826 Accuracy: 0.7422999739646912\n",
            "Epoch no 22\n",
            "Loss: 0.6591154932975769 Accuracy: 0.7522600293159485\n",
            "Epoch no 24\n",
            "Loss: 0.7083302736282349 Accuracy: 0.7655100226402283\n",
            "Epoch no 26\n",
            "Loss: 0.6150623559951782 Accuracy: 0.7730100154876709\n",
            "Epoch no 28\n",
            "Loss: 0.6203017234802246 Accuracy: 0.7780699729919434\n",
            "Epoch no 30\n",
            "Loss: 0.5768035054206848 Accuracy: 0.7871699929237366\n",
            "Epoch no 32\n",
            "Loss: 0.5475313663482666 Accuracy: 0.7953900098800659\n",
            "Epoch no 34\n",
            "Loss: 0.6427611708641052 Accuracy: 0.800279974937439\n",
            "Epoch no 36\n",
            "Loss: 0.5228911638259888 Accuracy: 0.8084999918937683\n",
            "Epoch no 38\n",
            "Loss: 0.5328214764595032 Accuracy: 0.811959981918335\n",
            "Epoch no 40\n",
            "Loss: 0.5138780474662781 Accuracy: 0.8198000192642212\n",
            "Epoch no 42\n",
            "Loss: 0.47643959522247314 Accuracy: 0.8246399760246277\n",
            "Epoch no 44\n",
            "Loss: 0.42189154028892517 Accuracy: 0.8277699947357178\n",
            "Epoch no 46\n",
            "Loss: 0.5315091609954834 Accuracy: 0.8284199833869934\n",
            "Epoch no 48\n",
            "Loss: 0.42970195412635803 Accuracy: 0.8365600109100342\n",
            "Epoch no 50\n",
            "Loss: 0.4504779875278473 Accuracy: 0.8406999707221985\n",
            "Epoch no 52\n",
            "Loss: 0.4680827856063843 Accuracy: 0.8415300250053406\n",
            "Epoch no 54\n",
            "Loss: 0.42111119627952576 Accuracy: 0.8484600186347961\n",
            "Epoch no 56\n",
            "Loss: 0.47029247879981995 Accuracy: 0.848110020160675\n",
            "Epoch no 58\n",
            "Loss: 0.36955660581588745 Accuracy: 0.8507000207901001\n",
            "Epoch no 60\n",
            "Loss: 0.4313463866710663 Accuracy: 0.8561300039291382\n",
            "Epoch no 62\n",
            "Loss: 0.3755395710468292 Accuracy: 0.8575699925422668\n",
            "Epoch no 64\n",
            "Loss: 0.3735736012458801 Accuracy: 0.8592100143432617\n",
            "Epoch no 66\n",
            "Loss: 0.33852824568748474 Accuracy: 0.8605800271034241\n",
            "Epoch no 68\n",
            "Loss: 0.3689759075641632 Accuracy: 0.8632400035858154\n",
            "Epoch no 70\n",
            "Loss: 0.36666277050971985 Accuracy: 0.8646699786186218\n",
            "Epoch no 72\n",
            "Loss: 0.38679376244544983 Accuracy: 0.8668799996376038\n",
            "Epoch no 74\n",
            "Loss: 0.3822462558746338 Accuracy: 0.8708500266075134\n",
            "Epoch no 76\n",
            "Loss: 0.2981420159339905 Accuracy: 0.8693299889564514\n",
            "Epoch no 78\n",
            "Loss: 0.33292555809020996 Accuracy: 0.874779999256134\n",
            "Epoch no 80\n",
            "Loss: 0.3615162968635559 Accuracy: 0.8717399835586548\n",
            "Epoch no 82\n",
            "Loss: 0.3167150616645813 Accuracy: 0.8794800043106079\n",
            "Epoch no 84\n",
            "Loss: 0.2934781610965729 Accuracy: 0.8808599710464478\n",
            "Epoch no 86\n",
            "Loss: 0.3643951416015625 Accuracy: 0.8829100131988525\n",
            "Epoch no 88\n",
            "Loss: 0.34936752915382385 Accuracy: 0.8819000124931335\n",
            "Epoch no 90\n",
            "Loss: 0.3033076524734497 Accuracy: 0.884119987487793\n",
            "Epoch no 92\n",
            "Loss: 0.34870782494544983 Accuracy: 0.8851900100708008\n",
            "Epoch no 94\n",
            "Loss: 0.24138155579566956 Accuracy: 0.885129988193512\n",
            "Epoch no 96\n",
            "Loss: 0.2895016670227051 Accuracy: 0.8912400007247925\n",
            "Epoch no 98\n",
            "Loss: 0.34084269404411316 Accuracy: 0.8902400135993958\n",
            "Test acc: 0.7904000282287598\n"
          ]
        }
      ],
      "source": [
        "# Layer Architecture 1 : Adam : Tanh\n",
        "n_epoch, lr = 100, 0.001\n",
        "opt_type, act_fn, config = 'Adam', 'tanh', 'layers_config1'\n",
        "model = model_config(act_fn, config)\n",
        "loss_list, step_list, acc_list = train(opt_type, n_epoch, model, lr)\n",
        "\n",
        "\n",
        "arc1_loss, arc1_acc, arc1_steps = loss_list, acc_list, step_list\n",
        "# arc1_loss, arc1_acc, arc1_steps = loss_arr, step_arr, acc_arr\n",
        "arc1_acc, arc1_loss, arc1_steps = [elem.numpy() for elem in arc1_acc], [elem.numpy() for elem in arc1_loss], arc1_steps\n",
        "AT1 = pd.DataFrame([arc1_steps, arc1_acc, arc1_loss]).T\n",
        "AT1.columns = ['Steps', 'Accuracy', 'Loss']\n",
        "\n",
        "\n",
        "test_acc_metric = tf.keras.metrics.SparseCategoricalAccuracy()\n",
        "for img_batch, lbl_batch in test_data:\n",
        "    test_acc_metric(lbl_batch, model(img_batch))\n",
        "print(\"Test acc: {}\".format(test_acc_metric.result()))"
      ]
    },
    {
      "cell_type": "code",
      "execution_count": null,
      "metadata": {
        "colab": {
          "base_uri": "https://localhost:8080/",
          "height": 1000
        },
        "colab_type": "code",
        "id": "7Lg8Xi6rg2tM",
        "outputId": "616087ff-09ec-4505-e38c-a70ae531b54b",
        "vscode": {
          "languageId": "python"
        }
      },
      "outputs": [
        {
          "name": "stdout",
          "output_type": "stream",
          "text": [
            "Epoch no 0\n",
            "Loss: 2.2968544960021973 Accuracy: 0.10552000254392624\n",
            "Epoch no 2\n",
            "Loss: 2.2867915630340576 Accuracy: 0.10417000204324722\n",
            "Epoch no 4\n",
            "Loss: 2.270207166671753 Accuracy: 0.10461000353097916\n",
            "Epoch no 6\n",
            "Loss: 2.2806081771850586 Accuracy: 0.11118999868631363\n",
            "Epoch no 8\n",
            "Loss: 2.2691357135772705 Accuracy: 0.1245800033211708\n",
            "Epoch no 10\n",
            "Loss: 2.266116142272949 Accuracy: 0.136680006980896\n",
            "Epoch no 12\n",
            "Loss: 2.2654316425323486 Accuracy: 0.1453000009059906\n",
            "Epoch no 14\n",
            "Loss: 2.252164125442505 Accuracy: 0.15072999894618988\n",
            "Epoch no 16\n",
            "Loss: 2.2450368404388428 Accuracy: 0.16158999502658844\n",
            "Epoch no 18\n",
            "Loss: 2.2296605110168457 Accuracy: 0.16690999269485474\n",
            "Epoch no 20\n",
            "Loss: 2.2467215061187744 Accuracy: 0.17563000321388245\n",
            "Epoch no 22\n",
            "Loss: 2.2028284072875977 Accuracy: 0.1830900013446808\n",
            "Epoch no 24\n",
            "Loss: 2.2142226696014404 Accuracy: 0.18957999348640442\n",
            "Epoch no 26\n",
            "Loss: 2.1943790912628174 Accuracy: 0.19352999329566956\n",
            "Epoch no 28\n",
            "Loss: 2.1800618171691895 Accuracy: 0.20309999585151672\n",
            "Epoch no 30\n",
            "Loss: 2.1510207653045654 Accuracy: 0.20996999740600586\n",
            "Epoch no 32\n",
            "Loss: 2.136321544647217 Accuracy: 0.21414999663829803\n",
            "Epoch no 34\n",
            "Loss: 2.0304691791534424 Accuracy: 0.21382999420166016\n",
            "Epoch no 36\n",
            "Loss: 2.0436832904815674 Accuracy: 0.21047000586986542\n",
            "Epoch no 38\n",
            "Loss: 2.003554344177246 Accuracy: 0.21112999320030212\n",
            "Epoch no 40\n",
            "Loss: 1.9612184762954712 Accuracy: 0.21809999644756317\n",
            "Epoch no 42\n",
            "Loss: 1.9959908723831177 Accuracy: 0.2384900003671646\n",
            "Epoch no 44\n",
            "Loss: 1.9642503261566162 Accuracy: 0.24356000125408173\n",
            "Epoch no 46\n",
            "Loss: 2.0965192317962646 Accuracy: 0.25589999556541443\n",
            "Epoch no 48\n",
            "Loss: 1.9790176153182983 Accuracy: 0.2681100070476532\n",
            "Epoch no 50\n",
            "Loss: 2.0275356769561768 Accuracy: 0.2759400010108948\n",
            "Epoch no 52\n",
            "Loss: 1.8956605195999146 Accuracy: 0.28683000802993774\n",
            "Epoch no 54\n",
            "Loss: 1.796705722808838 Accuracy: 0.2933200001716614\n",
            "Epoch no 56\n",
            "Loss: 1.797406792640686 Accuracy: 0.30375999212265015\n",
            "Epoch no 58\n",
            "Loss: 1.8002609014511108 Accuracy: 0.31036999821662903\n",
            "Epoch no 60\n",
            "Loss: 1.8532276153564453 Accuracy: 0.32036998867988586\n",
            "Epoch no 62\n",
            "Loss: 1.7641222476959229 Accuracy: 0.3268499970436096\n",
            "Epoch no 64\n",
            "Loss: 1.7248471975326538 Accuracy: 0.3314799964427948\n",
            "Epoch no 66\n",
            "Loss: 1.7004296779632568 Accuracy: 0.333730012178421\n",
            "Epoch no 68\n",
            "Loss: 1.8192311525344849 Accuracy: 0.34415000677108765\n",
            "Epoch no 70\n",
            "Loss: 1.6910622119903564 Accuracy: 0.341949999332428\n",
            "Epoch no 72\n",
            "Loss: 1.7157639265060425 Accuracy: 0.34446001052856445\n",
            "Epoch no 74\n",
            "Loss: 1.7092489004135132 Accuracy: 0.355679988861084\n",
            "Epoch no 76\n",
            "Loss: 1.7039289474487305 Accuracy: 0.36239999532699585\n",
            "Epoch no 78\n",
            "Loss: 1.6485012769699097 Accuracy: 0.3687500059604645\n",
            "Epoch no 80\n",
            "Loss: 1.6381877660751343 Accuracy: 0.3745500147342682\n",
            "Epoch no 82\n",
            "Loss: 1.6949487924575806 Accuracy: 0.3595699965953827\n",
            "Epoch no 84\n",
            "Loss: 1.6536980867385864 Accuracy: 0.37977999448776245\n",
            "Epoch no 86\n",
            "Loss: 1.6843762397766113 Accuracy: 0.387580007314682\n",
            "Epoch no 88\n",
            "Loss: 1.564500093460083 Accuracy: 0.39153000712394714\n",
            "Epoch no 90\n",
            "Loss: 1.5483654737472534 Accuracy: 0.39983001351356506\n",
            "Epoch no 92\n",
            "Loss: 1.616215705871582 Accuracy: 0.4020400047302246\n",
            "Epoch no 94\n",
            "Loss: 1.5596498250961304 Accuracy: 0.41470998525619507\n",
            "Epoch no 96\n",
            "Loss: 1.4944899082183838 Accuracy: 0.4125800132751465\n",
            "Epoch no 98\n",
            "Loss: 1.688251256942749 Accuracy: 0.4172999858856201\n",
            "Test acc: 0.4666000008583069\n"
          ]
        }
      ],
      "source": [
        "# Layer Architecture 1 : SGD : Relu\n",
        "n_epoch, lr = 100, 0.01\n",
        "opt_type, act_fn, config = 'SGD', 'relu', 'layers_config1'\n",
        "model = model_config(act_fn, config)\n",
        "loss_list, step_list, acc_list = train(opt_type, n_epoch, model, lr)\n",
        "\n",
        "arc1_loss, arc1_acc, arc1_steps = loss_list, acc_list, step_list\n",
        "# arc1_loss, arc1_acc, arc1_steps = loss_arr, step_arr, acc_arr\n",
        "arc1_acc, arc1_loss, arc1_steps = [elem.numpy() for elem in arc1_acc], [elem.numpy() for elem in arc1_loss], arc1_steps\n",
        "SR1 = pd.DataFrame([arc1_steps, arc1_acc, arc1_loss]).T\n",
        "SR1.columns = ['Steps', 'Accuracy', 'Loss']\n",
        "\n",
        "\n",
        "test_acc_metric = tf.keras.metrics.SparseCategoricalAccuracy()\n",
        "for img_batch, lbl_batch in test_data:\n",
        "    test_acc_metric(lbl_batch, model(img_batch))\n",
        "print(\"Test acc: {}\".format(test_acc_metric.result()))"
      ]
    },
    {
      "cell_type": "code",
      "execution_count": null,
      "metadata": {
        "colab": {
          "base_uri": "https://localhost:8080/",
          "height": 1000
        },
        "colab_type": "code",
        "id": "UKPgiziRg29L",
        "outputId": "3a75f3a3-43c8-4558-a051-89cb0e594b4e",
        "vscode": {
          "languageId": "python"
        }
      },
      "outputs": [
        {
          "name": "stdout",
          "output_type": "stream",
          "text": [
            "Epoch no 0\n",
            "Loss: 2.2849464416503906 Accuracy: 0.11727999895811081\n",
            "Epoch no 2\n",
            "Loss: 2.1691412925720215 Accuracy: 0.16907000541687012\n",
            "Epoch no 4\n",
            "Loss: 2.0942978858947754 Accuracy: 0.1902499943971634\n",
            "Epoch no 6\n",
            "Loss: 2.057551383972168 Accuracy: 0.22458000481128693\n",
            "Epoch no 8\n",
            "Loss: 2.189580202102661 Accuracy: 0.24597999453544617\n",
            "Epoch no 10\n",
            "Loss: 1.8944132328033447 Accuracy: 0.2708500027656555\n",
            "Epoch no 12\n",
            "Loss: 1.8991304636001587 Accuracy: 0.2840900123119354\n",
            "Epoch no 14\n",
            "Loss: 1.9210002422332764 Accuracy: 0.3140999972820282\n",
            "Epoch no 16\n",
            "Loss: 1.7731413841247559 Accuracy: 0.3289799988269806\n",
            "Epoch no 18\n",
            "Loss: 1.7788294553756714 Accuracy: 0.33570000529289246\n",
            "Epoch no 20\n",
            "Loss: 1.7749483585357666 Accuracy: 0.34804999828338623\n",
            "Epoch no 22\n",
            "Loss: 1.7076574563980103 Accuracy: 0.35346001386642456\n",
            "Epoch no 24\n",
            "Loss: 1.6586170196533203 Accuracy: 0.36520999670028687\n",
            "Epoch no 26\n",
            "Loss: 1.6597228050231934 Accuracy: 0.37213000655174255\n",
            "Epoch no 28\n",
            "Loss: 1.7467951774597168 Accuracy: 0.3723500072956085\n",
            "Epoch no 30\n",
            "Loss: 1.6560570001602173 Accuracy: 0.37929999828338623\n",
            "Epoch no 32\n",
            "Loss: 1.67702317237854 Accuracy: 0.3840300142765045\n",
            "Epoch no 34\n",
            "Loss: 1.5964207649230957 Accuracy: 0.3932499885559082\n",
            "Epoch no 36\n",
            "Loss: 1.7486287355422974 Accuracy: 0.39504000544548035\n",
            "Epoch no 38\n",
            "Loss: 1.5739549398422241 Accuracy: 0.401419997215271\n",
            "Epoch no 40\n",
            "Loss: 1.6162643432617188 Accuracy: 0.40327000617980957\n",
            "Epoch no 42\n",
            "Loss: 1.579522728919983 Accuracy: 0.4108099937438965\n",
            "Epoch no 44\n",
            "Loss: 1.641818881034851 Accuracy: 0.4119899868965149\n",
            "Epoch no 46\n",
            "Loss: 1.5375912189483643 Accuracy: 0.4178699851036072\n",
            "Epoch no 48\n",
            "Loss: 1.5099198818206787 Accuracy: 0.4226999878883362\n",
            "Epoch no 50\n",
            "Loss: 1.5998506546020508 Accuracy: 0.4277400076389313\n",
            "Epoch no 52\n",
            "Loss: 1.4775370359420776 Accuracy: 0.42427000403404236\n",
            "Epoch no 54\n",
            "Loss: 1.6079628467559814 Accuracy: 0.4364300072193146\n",
            "Epoch no 56\n",
            "Loss: 1.5520213842391968 Accuracy: 0.4372299909591675\n",
            "Epoch no 58\n",
            "Loss: 1.442002296447754 Accuracy: 0.44484999775886536\n",
            "Epoch no 60\n",
            "Loss: 1.498665690422058 Accuracy: 0.44635000824928284\n",
            "Epoch no 62\n",
            "Loss: 1.4707722663879395 Accuracy: 0.453000009059906\n",
            "Epoch no 64\n",
            "Loss: 1.573364019393921 Accuracy: 0.45249998569488525\n",
            "Epoch no 66\n",
            "Loss: 1.4689106941223145 Accuracy: 0.4584900140762329\n",
            "Epoch no 68\n",
            "Loss: 1.456302285194397 Accuracy: 0.4619300067424774\n",
            "Epoch no 70\n",
            "Loss: 1.4930425882339478 Accuracy: 0.4654499888420105\n",
            "Epoch no 72\n",
            "Loss: 1.3962693214416504 Accuracy: 0.46571001410484314\n",
            "Epoch no 74\n",
            "Loss: 1.378904104232788 Accuracy: 0.47343000769615173\n",
            "Epoch no 76\n",
            "Loss: 1.4516823291778564 Accuracy: 0.4819500148296356\n",
            "Epoch no 78\n",
            "Loss: 1.4420195817947388 Accuracy: 0.47808000445365906\n",
            "Epoch no 80\n",
            "Loss: 1.5215710401535034 Accuracy: 0.4866900146007538\n",
            "Epoch no 82\n",
            "Loss: 1.3730535507202148 Accuracy: 0.4876900017261505\n",
            "Epoch no 84\n",
            "Loss: 1.3655649423599243 Accuracy: 0.4908199906349182\n",
            "Epoch no 86\n",
            "Loss: 1.3789361715316772 Accuracy: 0.4978800117969513\n",
            "Epoch no 88\n",
            "Loss: 1.3100321292877197 Accuracy: 0.4939900040626526\n",
            "Epoch no 90\n",
            "Loss: 1.3447322845458984 Accuracy: 0.49939998984336853\n",
            "Epoch no 92\n",
            "Loss: 1.3824762105941772 Accuracy: 0.5029900074005127\n",
            "Epoch no 94\n",
            "Loss: 1.3740997314453125 Accuracy: 0.5082700252532959\n",
            "Epoch no 96\n",
            "Loss: 1.301132082939148 Accuracy: 0.5139399766921997\n",
            "Epoch no 98\n",
            "Loss: 1.39064359664917 Accuracy: 0.5109999775886536\n",
            "Test acc: 0.5390999913215637\n"
          ]
        }
      ],
      "source": [
        "# Layer Architecture 1 : SGD : Tanh\n",
        "n_epoch, lr = 100, 0.01\n",
        "opt_type, act_fn, config = 'SGD', 'tanh', 'layers_config1'\n",
        "model = model_config(act_fn, config)\n",
        "loss_list, step_list, acc_list = train(opt_type, n_epoch, model, lr)\n",
        "\n",
        "\n",
        "arc1_loss, arc1_acc, arc1_steps = loss_list, acc_list, step_list\n",
        "#arc1_loss, arc1_acc, arc1_steps = loss_arr, step_arr, acc_arr\n",
        "arc1_acc, arc1_loss, arc1_steps = [elem.numpy() for elem in arc1_acc], [elem.numpy() for elem in arc1_loss], arc1_steps\n",
        "ST1 = pd.DataFrame([arc1_steps, arc1_acc, arc1_loss]).T\n",
        "ST1.columns = ['Steps', 'Accuracy', 'Loss']\n",
        "\n",
        "\n",
        "test_acc_metric = tf.keras.metrics.SparseCategoricalAccuracy()\n",
        "for img_batch, lbl_batch in test_data:\n",
        "    test_acc_metric(lbl_batch, model(img_batch))\n",
        "print(\"Test acc: {}\".format(test_acc_metric.result()))"
      ]
    },
    {
      "cell_type": "code",
      "execution_count": null,
      "metadata": {
        "colab": {},
        "colab_type": "code",
        "id": "5eHet-mnsFGA",
        "vscode": {
          "languageId": "python"
        }
      },
      "outputs": [],
      "source": [
        "def plot_performance(df1, df2, df3, df4):\n",
        "  fig = plt.figure(figsize = (12,6))\n",
        "  (ax1, ax2) = fig.subplots(1,2)\n",
        "  steps = df1['Steps']\n",
        "  loss1 = df1['Loss']\n",
        "  accuracy1 = df1['Accuracy']\n",
        "  loss2 = df2['Loss']\n",
        "  accuracy2 = df2['Accuracy']\n",
        "  loss3 = df3['Loss']\n",
        "  accuracy3 = df3['Accuracy']\n",
        "  loss4 = df4['Loss']\n",
        "  accuracy4 = df4['Accuracy']\n",
        "\n",
        "  ax1.plot(steps,loss1, label = 'Loss(Adam and Relu)')\n",
        "  ax1.plot(steps,loss2, label = 'Loss(Adam and Tanh)')\n",
        "  ax1.plot(steps,loss3, label = 'Loss(SGD and Relu)')\n",
        "  ax1.plot(steps,loss4, label = 'Loss(SGD and Tanh)')\n",
        "\n",
        "  ax2.plot(steps,accuracy1, label = 'Accuracy(Adam and Relu)')\n",
        "  ax2.plot(steps,accuracy2, label = 'Accuracy(Adam and Tanh)')\n",
        "  ax2.plot(steps,accuracy3, label = 'Accuracy(SGD and Relu)')\n",
        "  ax2.plot(steps,accuracy4, label = 'Accuracy(SGD and Tanh)')\n",
        "\n",
        "  ax1.set_title('Loss v/s Steps')\n",
        "  ax2.set_title(' Accuracy v/s Steps')\n",
        "  ax1.set_xlabel(\"Steps\", fontsize = 14)\n",
        "  ax1.set_ylabel(\"Loss\", fontsize = 14)\n",
        "  ax2.set_xlabel(\"Steps\", fontsize = 14)\n",
        "  ax2.set_ylabel(\"Accuracy\", fontsize = 14)\n",
        "  ax1.legend(loc=\"upper right\")\n",
        "  ax2.legend(loc=\"lower right\")\n",
        "  plt.tight_layout()"
      ]
    },
    {
      "cell_type": "code",
      "execution_count": null,
      "metadata": {
        "colab": {
          "base_uri": "https://localhost:8080/",
          "height": 441
        },
        "colab_type": "code",
        "id": "3fTfgo7BUMJh",
        "outputId": "fc23b9d5-5b11-41f5-ae01-0cf2f7e4ea89",
        "vscode": {
          "languageId": "python"
        }
      },
      "outputs": [
        {
          "data": {
            "image/png": "[encoded data removed]",
            "text/plain": [
              "<Figure size 864x432 with 2 Axes>"
            ]
          },
          "metadata": {
            "needs_background": "light",
            "tags": []
          },
          "output_type": "display_data"
        }
      ],
      "source": [
        "plot_performance(AR1, AT1, SR1, ST1)"
      ]
    },
    {
      "cell_type": "markdown",
      "metadata": {
        "colab_type": "text",
        "id": "JI4B8ekuTMA6"
      },
      "source": [
        "###For Architecture 2 and FMNIST:"
      ]
    },
    {
      "cell_type": "code",
      "execution_count": null,
      "metadata": {
        "colab": {},
        "colab_type": "code",
        "id": "MZ_AAc-saD7f",
        "vscode": {
          "languageId": "python"
        }
      },
      "outputs": [],
      "source": [
        "del loss_list\n",
        "del step_list\n",
        "del acc_list"
      ]
    },
    {
      "cell_type": "code",
      "execution_count": null,
      "metadata": {
        "colab": {},
        "colab_type": "code",
        "id": "cDc42aSuTJ94",
        "vscode": {
          "languageId": "python"
        }
      },
      "outputs": [],
      "source": [
        "# Layer Architecture 2 : Adam : Relu\n",
        "\n",
        "n_epoch, lr = 100, 0.001\n",
        "opt_type, act_fn, config = 'Adam', 'relu', 'layers_config2'\n",
        "model = model_config(act_fn, config)\n",
        "loss_list, step_list, acc_list = train(opt_type, n_epoch, model, lr)\n",
        "\n",
        "arc1_loss, arc1_acc, arc1_steps = loss_list, acc_list, step_list\n",
        "arc1_acc, arc1_loss, arc1_steps = [elem.numpy() for elem in arc1_acc], [elem.numpy() for elem in arc1_loss], arc1_steps\n",
        "AR1 = pd.DataFrame([arc1_steps, arc1_acc, arc1_loss]).T\n",
        "AR1.columns = ['Steps', 'Accuracy', 'Loss']\n",
        "\n",
        "\n",
        "# test_acc_metric = tf.keras.metrics.SparseCategoricalAccuracy()\n",
        "# for img_batch, lbl_batch in test_data:\n",
        "#     test_acc_metric(lbl_batch, model(img_batch))\n",
        "# print(\"Test acc: {}\".format(test_acc_metric.result()))"
      ]
    },
    {
      "cell_type": "code",
      "execution_count": null,
      "metadata": {
        "colab": {
          "base_uri": "https://localhost:8080/",
          "height": 1000
        },
        "colab_type": "code",
        "id": "t3cjXG_VTWCU",
        "outputId": "23902be1-74fe-46df-fadc-708ece57afcd",
        "vscode": {
          "languageId": "python"
        }
      },
      "outputs": [
        {
          "name": "stdout",
          "output_type": "stream",
          "text": [
            "Epoch no 0\n",
            "Loss: 0.5638625621795654 Accuracy: 0.7173666954040527\n",
            "Epoch no 2\n",
            "Loss: 0.3965514600276947 Accuracy: 0.8508541584014893\n",
            "Epoch no 4\n",
            "Loss: 0.356298565864563 Accuracy: 0.8760687708854675\n",
            "Epoch no 6\n",
            "Loss: 0.25907275080680847 Accuracy: 0.887806236743927\n",
            "Epoch no 8\n",
            "Loss: 0.3508796989917755 Accuracy: 0.8960291743278503\n",
            "Epoch no 10\n",
            "Loss: 0.23862963914871216 Accuracy: 0.9016854166984558\n",
            "Epoch no 12\n",
            "Loss: 0.19861170649528503 Accuracy: 0.9071520566940308\n",
            "Epoch no 14\n",
            "Loss: 0.2681539058685303 Accuracy: 0.9114229083061218\n",
            "Epoch no 16\n",
            "Loss: 0.2864246368408203 Accuracy: 0.9151041507720947\n",
            "Epoch no 18\n",
            "Loss: 0.2026335597038269 Accuracy: 0.9175729155540466\n",
            "Epoch no 20\n",
            "Loss: 0.23425960540771484 Accuracy: 0.9210333228111267\n",
            "Epoch no 22\n",
            "Loss: 0.19234499335289001 Accuracy: 0.9243375062942505\n",
            "Epoch no 24\n",
            "Loss: 0.17005480825901031 Accuracy: 0.9266791939735413\n",
            "Epoch no 26\n",
            "Loss: 0.2023296058177948 Accuracy: 0.929520845413208\n",
            "Epoch no 28\n",
            "Loss: 0.16864842176437378 Accuracy: 0.9314083456993103\n",
            "Epoch no 30\n",
            "Loss: 0.1962398886680603 Accuracy: 0.9340145587921143\n",
            "Epoch no 32\n",
            "Loss: 0.20108790695667267 Accuracy: 0.9357354044914246\n",
            "Epoch no 34\n",
            "Loss: 0.17150960862636566 Accuracy: 0.9386916756629944\n",
            "Epoch no 36\n",
            "Loss: 0.16145376861095428 Accuracy: 0.9397458434104919\n",
            "Epoch no 38\n",
            "Loss: 0.12881839275360107 Accuracy: 0.941489577293396\n",
            "Epoch no 40\n",
            "Loss: 0.15317955613136292 Accuracy: 0.9439833164215088\n",
            "Epoch no 42\n",
            "Loss: 0.16231600940227509 Accuracy: 0.9457895755767822\n",
            "Epoch no 44\n",
            "Loss: 0.1461566984653473 Accuracy: 0.9469937682151794\n",
            "Epoch no 46\n",
            "Loss: 0.13280777633190155 Accuracy: 0.9487416744232178\n",
            "Epoch no 48\n",
            "Loss: 0.11738276481628418 Accuracy: 0.9508625268936157\n",
            "Epoch no 50\n",
            "Loss: 0.16647936403751373 Accuracy: 0.9518312215805054\n",
            "Epoch no 52\n",
            "Loss: 0.13713064789772034 Accuracy: 0.9530603885650635\n",
            "Epoch no 54\n",
            "Loss: 0.1165085956454277 Accuracy: 0.954675018787384\n",
            "Epoch no 56\n",
            "Loss: 0.09619130939245224 Accuracy: 0.9562228918075562\n",
            "Epoch no 58\n",
            "Loss: 0.12252062559127808 Accuracy: 0.9580625295639038\n",
            "Epoch no 60\n",
            "Loss: 0.10861128568649292 Accuracy: 0.9582645893096924\n",
            "Epoch no 62\n",
            "Loss: 0.12063279002904892 Accuracy: 0.9602145552635193\n",
            "Epoch no 64\n",
            "Loss: 0.12985114753246307 Accuracy: 0.961285412311554\n",
            "Epoch no 66\n",
            "Loss: 0.126674085855484 Accuracy: 0.9619250297546387\n",
            "Epoch no 68\n",
            "Loss: 0.08345672488212585 Accuracy: 0.9648500084877014\n",
            "Epoch no 70\n",
            "Loss: 0.11513915657997131 Accuracy: 0.9644520878791809\n",
            "Epoch no 72\n",
            "Loss: 0.09785940498113632 Accuracy: 0.965556263923645\n",
            "Epoch no 74\n",
            "Loss: 0.09040708094835281 Accuracy: 0.9666791558265686\n",
            "Epoch no 76\n",
            "Loss: 0.09718331694602966 Accuracy: 0.9687604308128357\n",
            "Epoch no 78\n",
            "Loss: 0.04713752120733261 Accuracy: 0.969614565372467\n",
            "Epoch no 80\n",
            "Loss: 0.10693223774433136 Accuracy: 0.9706395864486694\n",
            "Epoch no 82\n",
            "Loss: 0.054553572088479996 Accuracy: 0.9727270603179932\n",
            "Epoch no 84\n",
            "Loss: 0.09124092757701874 Accuracy: 0.9717437624931335\n",
            "Epoch no 86\n",
            "Loss: 0.07942724972963333 Accuracy: 0.9735875129699707\n",
            "Epoch no 88\n",
            "Loss: 0.07871581614017487 Accuracy: 0.9742541909217834\n",
            "Epoch no 90\n",
            "Loss: 0.08430089801549911 Accuracy: 0.97492915391922\n",
            "Epoch no 92\n",
            "Loss: 0.06932926923036575 Accuracy: 0.976395845413208\n",
            "Epoch no 94\n",
            "Loss: 0.06696883589029312 Accuracy: 0.9770854115486145\n",
            "Epoch no 96\n",
            "Loss: 0.053052689880132675 Accuracy: 0.9781479239463806\n",
            "Epoch no 98\n",
            "Loss: 0.0469779334962368 Accuracy: 0.9771229028701782\n"
          ]
        }
      ],
      "source": [
        "# Layer Architecture 2 : Adam : Tanh\n",
        "n_epoch, lr = 100, 0.001\n",
        "opt_type, act_fn, config = 'Adam', 'tanh', 'layers_config2'\n",
        "model = model_config(act_fn, config)\n",
        "loss_list, step_list, acc_list = train(opt_type, n_epoch, model, lr)\n",
        "\n",
        "arc1_loss, arc1_acc, arc1_steps = loss_list, acc_list, step_list\n",
        "arc1_acc, arc1_loss, arc1_steps = [elem.numpy() for elem in arc1_acc], [elem.numpy() for elem in arc1_loss], arc1_steps\n",
        "AT1 = pd.DataFrame([arc1_steps, arc1_acc, arc1_loss]).T\n",
        "AT1.columns = ['Steps', 'Accuracy', 'Loss']\n",
        "\n",
        "\n",
        "# test_acc_metric = tf.keras.metrics.SparseCategoricalAccuracy()\n",
        "# for img_batch, lbl_batch in test_data:\n",
        "#     test_acc_metric(lbl_batch, model(img_batch))\n",
        "# print(\"Test acc: {}\".format(test_acc_metric.result()))"
      ]
    },
    {
      "cell_type": "code",
      "execution_count": null,
      "metadata": {
        "colab": {
          "base_uri": "https://localhost:8080/",
          "height": 1000
        },
        "colab_type": "code",
        "id": "4mLf74Rh7KRi",
        "outputId": "0f02206e-1b95-40a2-b7c6-2e1fb53f3e6b",
        "vscode": {
          "languageId": "python"
        }
      },
      "outputs": [
        {
          "name": "stdout",
          "output_type": "stream",
          "text": [
            "Epoch no 0\n",
            "Loss: 2.2459278106689453 Accuracy: 0.21770000457763672\n",
            "Epoch no 2\n",
            "Loss: 0.9676896929740906 Accuracy: 0.5631520748138428\n",
            "Epoch no 4\n",
            "Loss: 0.7844576835632324 Accuracy: 0.7078458070755005\n",
            "Epoch no 6\n",
            "Loss: 0.6730596423149109 Accuracy: 0.7472249865531921\n",
            "Epoch no 8\n",
            "Loss: 0.6158382296562195 Accuracy: 0.7671645879745483\n",
            "Epoch no 10\n",
            "Loss: 0.5967323780059814 Accuracy: 0.7821187376976013\n",
            "Epoch no 12\n",
            "Loss: 0.6269295811653137 Accuracy: 0.7926229238510132\n",
            "Epoch no 14\n",
            "Loss: 0.5758821368217468 Accuracy: 0.8024895787239075\n",
            "Epoch no 16\n",
            "Loss: 0.5322136878967285 Accuracy: 0.8114854097366333\n",
            "Epoch no 18\n",
            "Loss: 0.45635008811950684 Accuracy: 0.8182353973388672\n",
            "Epoch no 20\n",
            "Loss: 0.4663276672363281 Accuracy: 0.8252479434013367\n",
            "Epoch no 22\n",
            "Loss: 0.4845643937587738 Accuracy: 0.830943763256073\n",
            "Epoch no 24\n",
            "Loss: 0.4503120481967926 Accuracy: 0.835881233215332\n",
            "Epoch no 26\n",
            "Loss: 0.40795180201530457 Accuracy: 0.8403124809265137\n",
            "Epoch no 28\n",
            "Loss: 0.44611242413520813 Accuracy: 0.8443312644958496\n",
            "Epoch no 30\n",
            "Loss: 0.42436349391937256 Accuracy: 0.848229169845581\n",
            "Epoch no 32\n",
            "Loss: 0.42292967438697815 Accuracy: 0.8511978983879089\n",
            "Epoch no 34\n",
            "Loss: 0.4384596347808838 Accuracy: 0.8524604439735413\n",
            "Epoch no 36\n",
            "Loss: 0.3875485360622406 Accuracy: 0.8562958240509033\n",
            "Epoch no 38\n",
            "Loss: 0.4100857675075531 Accuracy: 0.8577604293823242\n",
            "Epoch no 40\n",
            "Loss: 0.41359174251556396 Accuracy: 0.861495852470398\n",
            "Epoch no 42\n",
            "Loss: 0.4004785716533661 Accuracy: 0.8613479137420654\n",
            "Epoch no 44\n",
            "Loss: 0.3246135115623474 Accuracy: 0.8635708093643188\n",
            "Epoch no 46\n",
            "Loss: 0.35486769676208496 Accuracy: 0.8659374713897705\n",
            "Epoch no 48\n",
            "Loss: 0.3589564263820648 Accuracy: 0.8664979338645935\n",
            "Epoch no 50\n",
            "Loss: 0.32335782051086426 Accuracy: 0.8690270781517029\n",
            "Epoch no 52\n",
            "Loss: 0.39638635516166687 Accuracy: 0.8698562383651733\n",
            "Epoch no 54\n",
            "Loss: 0.3658415973186493 Accuracy: 0.8712999820709229\n",
            "Epoch no 56\n",
            "Loss: 0.322113037109375 Accuracy: 0.8719708323478699\n",
            "Epoch no 58\n",
            "Loss: 0.37306660413742065 Accuracy: 0.8723124861717224\n",
            "Epoch no 60\n",
            "Loss: 0.36925625801086426 Accuracy: 0.8728749752044678\n",
            "Epoch no 62\n",
            "Loss: 0.3919157087802887 Accuracy: 0.8747020959854126\n",
            "Epoch no 64\n",
            "Loss: 0.3592795431613922 Accuracy: 0.8760250210762024\n",
            "Epoch no 66\n",
            "Loss: 0.31764084100723267 Accuracy: 0.8765228986740112\n",
            "Epoch no 68\n",
            "Loss: 0.3866320848464966 Accuracy: 0.8775374889373779\n",
            "Epoch no 70\n",
            "Loss: 0.39187079668045044 Accuracy: 0.877554178237915\n",
            "Epoch no 72\n",
            "Loss: 0.3675754964351654 Accuracy: 0.8785437345504761\n",
            "Epoch no 74\n",
            "Loss: 0.3194609582424164 Accuracy: 0.8790000081062317\n",
            "Epoch no 76\n",
            "Loss: 0.3169094920158386 Accuracy: 0.8805854320526123\n",
            "Epoch no 78\n",
            "Loss: 0.4195989668369293 Accuracy: 0.8819208145141602\n",
            "Epoch no 80\n",
            "Loss: 0.29024872183799744 Accuracy: 0.8807520866394043\n",
            "Epoch no 82\n",
            "Loss: 0.27449479699134827 Accuracy: 0.8823375105857849\n",
            "Epoch no 84\n",
            "Loss: 0.33080407977104187 Accuracy: 0.8834645748138428\n",
            "Epoch no 86\n",
            "Loss: 0.3568525016307831 Accuracy: 0.8839895725250244\n",
            "Epoch no 88\n",
            "Loss: 0.32349085807800293 Accuracy: 0.8837937712669373\n",
            "Epoch no 90\n",
            "Loss: 0.35741305351257324 Accuracy: 0.8851125240325928\n",
            "Epoch no 92\n",
            "Loss: 0.31493672728538513 Accuracy: 0.8858166933059692\n",
            "Epoch no 94\n",
            "Loss: 0.30892813205718994 Accuracy: 0.885589599609375\n",
            "Epoch no 96\n",
            "Loss: 0.2762925922870636 Accuracy: 0.8866896033287048\n",
            "Epoch no 98\n",
            "Loss: 0.34861835837364197 Accuracy: 0.8873603940010071\n"
          ]
        }
      ],
      "source": [
        "# Layer Architecture 2 : SGD : Relu\n",
        "\n",
        "n_epoch, lr = 100, 0.01\n",
        "opt_type, act_fn, config = 'SGD', 'relu', 'layers_config2'\n",
        "model = model_config(act_fn, config)\n",
        "loss_list, step_list, acc_list = train(opt_type, n_epoch, model, lr)\n",
        "\n",
        "arc1_loss, arc1_acc, arc1_steps = loss_list, acc_list, step_list\n",
        "arc1_acc, arc1_loss, arc1_steps = [elem.numpy() for elem in arc1_acc], [elem.numpy() for elem in arc1_loss], arc1_steps\n",
        "SR1 = pd.DataFrame([arc1_steps, arc1_acc, arc1_loss]).T\n",
        "SR1.columns = ['Steps', 'Accuracy', 'Loss']\n",
        "\n",
        "\n",
        "# test_acc_metric = tf.keras.metrics.SparseCategoricalAccuracy()\n",
        "# for img_batch, lbl_batch in test_data:\n",
        "#     test_acc_metric(lbl_batch, model(img_batch))\n",
        "# print(\"Test acc: {}\".format(test_acc_metric.result()))"
      ]
    },
    {
      "cell_type": "code",
      "execution_count": null,
      "metadata": {
        "colab": {
          "base_uri": "https://localhost:8080/",
          "height": 1000
        },
        "colab_type": "code",
        "id": "6KJ3aw5j7KUO",
        "outputId": "4d996b2d-02d5-4cb1-f82b-53fff61b0c01",
        "vscode": {
          "languageId": "python"
        }
      },
      "outputs": [
        {
          "name": "stdout",
          "output_type": "stream",
          "text": [
            "Epoch no 0\n",
            "Loss: 2.185635805130005 Accuracy: 0.1590166687965393\n",
            "Epoch no 2\n",
            "Loss: 0.8437984585762024 Accuracy: 0.5951770544052124\n",
            "Epoch no 4\n",
            "Loss: 0.7315406799316406 Accuracy: 0.7059375047683716\n",
            "Epoch no 6\n",
            "Loss: 0.5872864127159119 Accuracy: 0.7449416518211365\n",
            "Epoch no 8\n",
            "Loss: 0.6642231941223145 Accuracy: 0.765749990940094\n",
            "Epoch no 10\n",
            "Loss: 0.5917501449584961 Accuracy: 0.7802583575248718\n",
            "Epoch no 12\n",
            "Loss: 0.5412809252738953 Accuracy: 0.7921249866485596\n",
            "Epoch no 14\n",
            "Loss: 0.46717724204063416 Accuracy: 0.8023583292961121\n",
            "Epoch no 16\n",
            "Loss: 0.5286884903907776 Accuracy: 0.811870813369751\n",
            "Epoch no 18\n",
            "Loss: 0.5228907465934753 Accuracy: 0.8210562467575073\n",
            "Epoch no 20\n",
            "Loss: 0.45460274815559387 Accuracy: 0.8290145993232727\n",
            "Epoch no 22\n",
            "Loss: 0.4314950704574585 Accuracy: 0.8348291516304016\n",
            "Epoch no 24\n",
            "Loss: 0.4664632976055145 Accuracy: 0.8396478891372681\n",
            "Epoch no 26\n",
            "Loss: 0.45407891273498535 Accuracy: 0.8439145684242249\n",
            "Epoch no 28\n",
            "Loss: 0.46243512630462646 Accuracy: 0.8483083248138428\n",
            "Epoch no 30\n",
            "Loss: 0.363045334815979 Accuracy: 0.8509708046913147\n",
            "Epoch no 32\n",
            "Loss: 0.38304972648620605 Accuracy: 0.8537729382514954\n",
            "Epoch no 34\n",
            "Loss: 0.4678094685077667 Accuracy: 0.8554666638374329\n",
            "Epoch no 36\n",
            "Loss: 0.5049484372138977 Accuracy: 0.8575666546821594\n",
            "Epoch no 38\n",
            "Loss: 0.3965303599834442 Accuracy: 0.8600687384605408\n",
            "Epoch no 40\n",
            "Loss: 0.3902493119239807 Accuracy: 0.862458348274231\n",
            "Epoch no 42\n",
            "Loss: 0.4023250937461853 Accuracy: 0.8628833293914795\n",
            "Epoch no 44\n",
            "Loss: 0.3743046820163727 Accuracy: 0.8650603890419006\n",
            "Epoch no 46\n",
            "Loss: 0.44544515013694763 Accuracy: 0.8659520745277405\n",
            "Epoch no 48\n",
            "Loss: 0.3859974145889282 Accuracy: 0.8671708106994629\n",
            "Epoch no 50\n",
            "Loss: 0.31544455885887146 Accuracy: 0.8692437410354614\n",
            "Epoch no 52\n",
            "Loss: 0.3329174518585205 Accuracy: 0.8696916699409485\n",
            "Epoch no 54\n",
            "Loss: 0.362898588180542 Accuracy: 0.8712770938873291\n",
            "Epoch no 56\n",
            "Loss: 0.3780788779258728 Accuracy: 0.8718791604042053\n",
            "Epoch no 58\n",
            "Loss: 0.34850892424583435 Accuracy: 0.8741104006767273\n",
            "Epoch no 60\n",
            "Loss: 0.3795078694820404 Accuracy: 0.8744416832923889\n",
            "Epoch no 62\n",
            "Loss: 0.3509312570095062 Accuracy: 0.875864565372467\n",
            "Epoch no 64\n",
            "Loss: 0.32352152466773987 Accuracy: 0.8761333227157593\n",
            "Epoch no 66\n",
            "Loss: 0.3034683167934418 Accuracy: 0.877356231212616\n",
            "Epoch no 68\n",
            "Loss: 0.3266299068927765 Accuracy: 0.8777999877929688\n",
            "Epoch no 70\n",
            "Loss: 0.38284674286842346 Accuracy: 0.8785145878791809\n",
            "Epoch no 72\n",
            "Loss: 0.2835237979888916 Accuracy: 0.87868332862854\n",
            "Epoch no 74\n",
            "Loss: 0.32328000664711 Accuracy: 0.8800125122070312\n",
            "Epoch no 76\n",
            "Loss: 0.2993241846561432 Accuracy: 0.8805833458900452\n",
            "Epoch no 78\n",
            "Loss: 0.3625253736972809 Accuracy: 0.8824583292007446\n",
            "Epoch no 80\n",
            "Loss: 0.31504783034324646 Accuracy: 0.8825728893280029\n",
            "Epoch no 82\n",
            "Loss: 0.3641063868999481 Accuracy: 0.8829833269119263\n",
            "Epoch no 84\n",
            "Loss: 0.3376920223236084 Accuracy: 0.8831999897956848\n",
            "Epoch no 86\n",
            "Loss: 0.35727187991142273 Accuracy: 0.8846562504768372\n",
            "Epoch no 88\n",
            "Loss: 0.3124299943447113 Accuracy: 0.8854416608810425\n",
            "Epoch no 90\n",
            "Loss: 0.3291085362434387 Accuracy: 0.8857062458992004\n",
            "Epoch no 92\n",
            "Loss: 0.31107163429260254 Accuracy: 0.8860437273979187\n",
            "Epoch no 94\n",
            "Loss: 0.3068476915359497 Accuracy: 0.886968731880188\n",
            "Epoch no 96\n",
            "Loss: 0.31237128376960754 Accuracy: 0.8877312541007996\n",
            "Epoch no 98\n",
            "Loss: 0.30604279041290283 Accuracy: 0.8886125087738037\n"
          ]
        }
      ],
      "source": [
        "# Layer Architecture 2 : SGD : Tanh\n",
        "n_epoch, lr = 100, 0.01\n",
        "opt_type, act_fn, config = 'SGD', 'tanh', 'layers_config2'\n",
        "model = model_config(act_fn, config)\n",
        "loss_list, step_list, acc_list = train(opt_type, n_epoch, model, lr)\n",
        "\n",
        "arc1_loss, arc1_acc, arc1_steps = loss_list, acc_list, step_list\n",
        "arc1_acc, arc1_loss, arc1_steps = [elem.numpy() for elem in arc1_acc], [elem.numpy() for elem in arc1_loss], arc1_steps\n",
        "ST1 = pd.DataFrame([arc1_steps, arc1_acc, arc1_loss]).T\n",
        "ST1.columns = ['Steps', 'Accuracy', 'Loss']\n",
        "\n",
        "\n",
        "# test_acc_metric = tf.keras.metrics.SparseCategoricalAccuracy()\n",
        "# for img_batch, lbl_batch in test_data:\n",
        "#     test_acc_metric(lbl_batch, model(img_batch))\n",
        "# print(\"Test acc: {}\".format(test_acc_metric.result()))"
      ]
    },
    {
      "cell_type": "code",
      "execution_count": null,
      "metadata": {
        "colab": {},
        "colab_type": "code",
        "id": "fKhI-A457KPo",
        "vscode": {
          "languageId": "python"
        }
      },
      "outputs": [],
      "source": [
        "def plot_performance(df1, df2, df3, df4):\n",
        "  fig = plt.figure(figsize = (12,6))\n",
        "  (ax1, ax2) = fig.subplots(1,2)\n",
        "  steps = df1['Steps']\n",
        "  loss1 = df1['Loss']\n",
        "  accuracy1 = df1['Accuracy']\n",
        "  loss2 = df2['Loss']\n",
        "  accuracy2 = df2['Accuracy']\n",
        "  loss3 = df3['Loss']\n",
        "  accuracy3 = df3['Accuracy']\n",
        "  loss4 = df4['Loss']\n",
        "  accuracy4 = df4['Accuracy']\n",
        "\n",
        "  ax1.plot(steps,loss1, label = 'Loss(Adam and Relu)')\n",
        "  ax1.plot(steps,loss2, label = 'Loss(Adam and Tanh)')\n",
        "  ax1.plot(steps,loss3, label = 'Loss(SGD and Relu)')\n",
        "  ax1.plot(steps,loss4, label = 'Loss(SGD and Tanh)')\n",
        "\n",
        "  ax2.plot(steps,accuracy1, label = 'Accuracy(Adam and Relu)')\n",
        "  ax2.plot(steps,accuracy2, label = 'Accuracy(Adam and Tanh)')\n",
        "  ax2.plot(steps,accuracy3, label = 'Accuracy(SGD and Relu)')\n",
        "  ax2.plot(steps,accuracy4, label = 'Accuracy(SGD and Tanh)')\n",
        "\n",
        "  ax1.set_title('Loss v/s Steps')\n",
        "  ax2.set_title(' Accuracy v/s Steps')\n",
        "  ax1.set_xlabel(\"Steps\", fontsize = 14)\n",
        "  ax1.set_ylabel(\"Loss\", fontsize = 14)\n",
        "  ax2.set_xlabel(\"Steps\", fontsize = 14)\n",
        "  ax2.set_ylabel(\"Accuracy\", fontsize = 14)\n",
        "  ax1.legend(loc=\"upper right\")\n",
        "  ax2.legend(loc=\"lower right\")\n",
        "  plt.tight_layout()"
      ]
    },
    {
      "cell_type": "code",
      "execution_count": null,
      "metadata": {
        "colab": {
          "base_uri": "https://localhost:8080/",
          "height": 441
        },
        "colab_type": "code",
        "id": "sk2EAT1i7KLQ",
        "outputId": "b3d5c7c1-1b52-4c7a-b3df-9a0de2cf004f",
        "vscode": {
          "languageId": "python"
        }
      },
      "outputs": [
        {
          "data": {
            "image/png": "[encoded data removed]",
            "text/plain": [
              "<Figure size 864x432 with 2 Axes>"
            ]
          },
          "metadata": {
            "needs_background": "light",
            "tags": []
          },
          "output_type": "display_data"
        }
      ],
      "source": [
        "plot_performance(AR1, AT1, SR1, ST1)"
      ]
    },
    {
      "cell_type": "markdown",
      "metadata": {
        "colab_type": "text",
        "id": "ZNwhYLJDwdG1"
      },
      "source": [
        "Observations:\n",
        "\n",
        "For Architecture 1 and CIFAR 10 dataset:\n",
        "\n",
        "The train accuracy given by using Adam optimizer is way better than SGD for the same number of epochs. Also, using tanh activation function, model seems to perform better as compared to the Relu activation function.\n",
        "\n",
        "For architecture 2 and FMNIST dataset:\n",
        "\n",
        "The train accuracy given by using Adam optimizer is better than SGD for the same number of epochs. Adam and Relu perform almost equally the same according to the graph plotted.\n",
        "\n",
        "\n",
        "\n",
        "\n"
      ]
    }
  ],
  "metadata": {
    "accelerator": "GPU",
    "colab": {
      "collapsed_sections": [],
      "name": "Optimizers_task1.ipynb",
      "provenance": [],
      "toc_visible": true
    },
    "kernelspec": {
      "display_name": "Python 3",
      "name": "python3"
    }
  },
  "nbformat": 4,
  "nbformat_minor": 0
}
