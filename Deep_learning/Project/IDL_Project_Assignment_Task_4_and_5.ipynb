{
  "nbformat": 4,
  "nbformat_minor": 0,
  "metadata": {
    "colab": {
      "name": "Introspection_NTM.ipynb",
      "provenance": [],
      "collapsed_sections": [
        "xgEzzhWdnM4f",
        "TqF45dGForg5",
        "7Qid3RmYqFW5",
        "ZPhPjTpGnd6y",
        "si92XzVOz1YX",
        "pBjooVdbz6wn",
        "HtQdFrY_0Ao3",
        "GwJ5dOZ90xFK"
      ],
      "toc_visible": true
    },
    "kernelspec": {
      "name": "python3",
      "display_name": "Python 3"
    },
    "accelerator": "GPU"
  },
  "cells": [
    {
      "cell_type": "markdown",
      "metadata": {
        "id": "xgEzzhWdnM4f",
        "colab_type": "text"
      },
      "source": [
        "#### 4.0 Introspection\n"
      ]
    },
    {
      "cell_type": "code",
      "metadata": {
        "id": "cr_WLMdrcu8m",
        "colab_type": "code",
        "colab": {
          "base_uri": "https://localhost:8080/",
          "height": 72
        },
        "outputId": "82ecd8e0-e80b-4599-baaa-e04056a20376"
      },
      "source": [
        "%tensorflow_version 2.x\n",
        "\n",
        "import tensorflow as tf\n",
        "import numpy as np\n",
        "import matplotlib.pyplot as plt\n",
        "import pandas as pd\n",
        "import seaborn as sns\n",
        "import os"
      ],
      "execution_count": null,
      "outputs": [
        {
          "output_type": "stream",
          "text": [
            "/usr/local/lib/python3.6/dist-packages/statsmodels/tools/_testing.py:19: FutureWarning: pandas.util.testing is deprecated. Use the functions in the public API at pandas.testing instead.\n",
            "  import pandas.util.testing as tm\n"
          ],
          "name": "stderr"
        }
      ]
    },
    {
      "cell_type": "code",
      "metadata": {
        "id": "RliPd0jHd90D",
        "colab_type": "code",
        "colab": {
          "base_uri": "https://localhost:8080/",
          "height": 35
        },
        "outputId": "640b16be-8db5-4b71-b745-d923ce65e288"
      },
      "source": [
        "import os\n",
        "\n",
        "os.chdir(\"/content/drive/My Drive/Colab Notebooks\")\n",
        "os.getcwd()"
      ],
      "execution_count": null,
      "outputs": [
        {
          "output_type": "execute_result",
          "data": {
            "application/vnd.google.colaboratory.intrinsic+json": {
              "type": "string"
            },
            "text/plain": [
              "'/content/drive/My Drive/Colab Notebooks'"
            ]
          },
          "metadata": {
            "tags": []
          },
          "execution_count": 2
        }
      ]
    },
    {
      "cell_type": "code",
      "metadata": {
        "id": "Yuufb-sCcu57",
        "colab_type": "code",
        "colab": {
          "base_uri": "https://localhost:8080/",
          "height": 52
        },
        "outputId": "d777fc5e-7203-46d0-855d-9181d7e7c08b"
      },
      "source": [
        "(train_images, train_labels), (test_images, test_labels) = tf.keras.datasets.cifar10.load_data()"
      ],
      "execution_count": null,
      "outputs": [
        {
          "output_type": "stream",
          "text": [
            "Downloading data from https://www.cs.toronto.edu/~kriz/cifar-10-python.tar.gz\n",
            "170500096/170498071 [==============================] - 4s 0us/step\n"
          ],
          "name": "stdout"
        }
      ]
    },
    {
      "cell_type": "code",
      "metadata": {
        "id": "1qfAAvApcu2S",
        "colab_type": "code",
        "colab": {
          "base_uri": "https://localhost:8080/",
          "height": 283
        },
        "outputId": "665a47ab-d2c0-4aed-8c46-f6cd9fe3f24e"
      },
      "source": [
        "plt.imshow(train_images[7], cmap=plt.cm.binary)"
      ],
      "execution_count": null,
      "outputs": [
        {
          "output_type": "execute_result",
          "data": {
            "text/plain": [
              "<matplotlib.image.AxesImage at 0x7f894adb6eb8>"
            ]
          },
          "metadata": {
            "tags": []
          },
          "execution_count": 4
        },
        {
          "output_type": "display_data",
          "data": {
            "image/png": "[encoded data removed]",
            "text/plain": [
              "<Figure size 432x288 with 1 Axes>"
            ]
          },
          "metadata": {
            "tags": [],
            "needs_background": "light"
          }
        }
      ]
    },
    {
      "cell_type": "code",
      "metadata": {
        "id": "DkeFico6cu0D",
        "colab_type": "code",
        "colab": {}
      },
      "source": [
        "train_images = (train_images.astype(np.float32) / 255.)\n",
        "test_images = (test_images.astype(np.float32) / 255.)\n",
        "\n",
        "train_labels = train_labels.astype(np.int32).reshape((-1,))\n",
        "test_labels = test_labels.astype(np.int32).reshape((-1,))\n",
        "\n",
        "train_data = tf.data.Dataset.from_tensor_slices((train_images, train_labels))\n",
        "\n",
        "test_data = tf.data.Dataset.from_tensor_slices((test_images, test_labels)) \n"
      ],
      "execution_count": null,
      "outputs": []
    },
    {
      "cell_type": "code",
      "metadata": {
        "id": "Zx9-aZoGcuxv",
        "colab_type": "code",
        "colab": {
          "base_uri": "https://localhost:8080/",
          "height": 35
        },
        "outputId": "6e5455c4-9383-4c23-83ae-823fc38ca2cd"
      },
      "source": [
        "train_data"
      ],
      "execution_count": null,
      "outputs": [
        {
          "output_type": "execute_result",
          "data": {
            "text/plain": [
              "<TensorSliceDataset shapes: ((32, 32, 3), ()), types: (tf.float32, tf.int32)>"
            ]
          },
          "metadata": {
            "tags": []
          },
          "execution_count": 6
        }
      ]
    },
    {
      "cell_type": "code",
      "metadata": {
        "id": "Bmop2tfBcuvj",
        "colab_type": "code",
        "colab": {}
      },
      "source": [
        "## Declare the sizes of batch, shuffle and repeat\n",
        "\n",
        "SHUFFLE_SIZE = 10000\n",
        "BATCH_SIZE = 128\n",
        "REPEAT_TIMES = 3"
      ],
      "execution_count": null,
      "outputs": []
    },
    {
      "cell_type": "code",
      "metadata": {
        "id": "iiQD-waicut3",
        "colab_type": "code",
        "colab": {}
      },
      "source": [
        "def batch_shuffle_repeat(data):\n",
        "\n",
        "\n",
        "    #data = data.shuffle(SHUFFLE_SIZE, reshuffle_each_iteration= True)\n",
        "    data = data.batch(BATCH_SIZE)    \n",
        "    #data = data.repeat(REPEAT_TIMES)\n",
        "\n",
        "\n",
        "    return data"
      ],
      "execution_count": null,
      "outputs": []
    },
    {
      "cell_type": "code",
      "metadata": {
        "id": "rSLohfo2cupl",
        "colab_type": "code",
        "colab": {
          "base_uri": "https://localhost:8080/",
          "height": 35
        },
        "outputId": "bdf2de06-88ce-44d4-9fc3-64d661fdf9d5"
      },
      "source": [
        "train_data = batch_shuffle_repeat(train_data)\n",
        "train_data"
      ],
      "execution_count": null,
      "outputs": [
        {
          "output_type": "execute_result",
          "data": {
            "text/plain": [
              "<BatchDataset shapes: ((None, 32, 32, 3), (None,)), types: (tf.float32, tf.int32)>"
            ]
          },
          "metadata": {
            "tags": []
          },
          "execution_count": 9
        }
      ]
    },
    {
      "cell_type": "code",
      "metadata": {
        "id": "Uo2Cic4ScubJ",
        "colab_type": "code",
        "colab": {}
      },
      "source": [
        "test_data = test_data.shuffle(SHUFFLE_SIZE).batch(BATCH_SIZE)"
      ],
      "execution_count": null,
      "outputs": []
    },
    {
      "cell_type": "code",
      "metadata": {
        "id": "j7kkSVKCdKD8",
        "colab_type": "code",
        "colab": {}
      },
      "source": [
        "layers_config = [\n",
        "          tf.keras.layers.Conv2D(32,3,padding='same',activation='relu',\n",
        "                                 input_shape=(32,32,3),\n",
        "                                 kernel_initializer = tf.keras.initializers.RandomUniform(minval=-0.1, maxval=0.1, seed=None),\n",
        "                                 use_bias = True,bias_initializer='zeros'),\n",
        "          tf.keras.layers.Conv2D(32,3,padding='same',activation='relu',\n",
        "                                 kernel_initializer = tf.keras.initializers.RandomUniform(minval=-0.1, maxval=0.1, seed=None),\n",
        "                                 use_bias = True,bias_initializer='zeros'),\n",
        "          tf.keras.layers.MaxPool2D((2,2)),\n",
        "          tf.keras.layers.Dropout(0.2),\n",
        "\n",
        "          tf.keras.layers.Conv2D(64,3,padding='same',activation='relu',\n",
        "                                 kernel_initializer = tf.keras.initializers.RandomUniform(minval=-0.1, maxval=0.1, seed=None),\n",
        "                                 use_bias = True,bias_initializer='zeros'),\n",
        "          tf.keras.layers.Conv2D(64,3,padding='same',activation='relu',\n",
        "                                 kernel_initializer = tf.keras.initializers.RandomUniform(minval=-0.1, maxval=0.1, seed=None),\n",
        "                                 use_bias = True,bias_initializer='zeros'),\n",
        "          tf.keras.layers.MaxPool2D((2,2)),\n",
        "          tf.keras.layers.Dropout(0.3),\n",
        "\n",
        "          tf.keras.layers.Conv2D(128,3,padding='same',activation='relu',\n",
        "                                 kernel_initializer = tf.keras.initializers.RandomUniform(minval=-0.1, maxval=0.1, seed=None),\n",
        "                                 use_bias = True,bias_initializer='zeros'),\n",
        "          tf.keras.layers.Conv2D(128,3,padding='same',activation='relu',\n",
        "                                 kernel_initializer = tf.keras.initializers.RandomUniform(minval=-0.1, maxval=0.1, seed=None),\n",
        "                                 use_bias = True,bias_initializer='zeros'),\n",
        "          tf.keras.layers.MaxPool2D((2,2)),\n",
        "          tf.keras.layers.Dropout(0.4),\n",
        "\n",
        "          tf.keras.layers.Conv2D(256,3,padding='same',activation='relu',\n",
        "                                 kernel_initializer = tf.keras.initializers.RandomUniform(minval=-0.1, maxval=0.1, seed=None),\n",
        "                                 use_bias = True,bias_initializer='zeros'),\n",
        "          tf.keras.layers.MaxPool2D((2,2)),\n",
        "          tf.keras.layers.Dropout(0.25),\n",
        "\n",
        "          tf.keras.layers.Flatten(),\n",
        "          tf.keras.layers.Dense(128,activation='relu'),\n",
        "          #tf.keras.layers.Dropout(0.25),\n",
        "\n",
        "          tf.keras.layers.Dense(256,activation='relu'),\n",
        "          tf.keras.layers.Dense(512,activation='relu'),\n",
        "          #tf.keras.layers.Dense(1024,activation='relu'),\n",
        "          tf.keras.layers.Dense(10)\n",
        "\n",
        "]"
      ],
      "execution_count": null,
      "outputs": []
    },
    {
      "cell_type": "code",
      "metadata": {
        "id": "7210ZCPjdKO8",
        "colab_type": "code",
        "colab": {}
      },
      "source": [
        "## Define the model\n",
        "model = tf.keras.Sequential(layers_config)\n"
      ],
      "execution_count": null,
      "outputs": []
    },
    {
      "cell_type": "code",
      "metadata": {
        "id": "7b9zpTO_dKLB",
        "colab_type": "code",
        "colab": {}
      },
      "source": [
        "## Define the optimizers and the losses\n",
        "\n",
        "## Optimizer defined\n",
        "opt = tf.keras.optimizers.Adam(0.001)\n",
        "\n",
        "\n",
        "## Loss function defined..  \n",
        "loss_fn = tf.keras.losses.SparseCategoricalCrossentropy(from_logits=True)\n",
        "\n",
        "## Train accuracy metric\n",
        "train_acc_metric = tf.keras.metrics.SparseCategoricalAccuracy()\n",
        "## Test Accuracy metric\n",
        "test_acc_metric = tf.keras.metrics.SparseCategoricalAccuracy()\n"
      ],
      "execution_count": null,
      "outputs": []
    },
    {
      "cell_type": "code",
      "metadata": {
        "id": "Xp2h6w_WdKIz",
        "colab_type": "code",
        "colab": {}
      },
      "source": [
        "steps = 0\n",
        "\n",
        "epochs = 100\n",
        "for epoch in range(epochs):\n",
        "  print('Start of epoch %d' % (epoch,))\n",
        "\n",
        "  for img_batch,lbl_batch in train_data:\n",
        "      steps = steps+1\n",
        "      #img_batch, lbl_batch = mnist_data.next_batch()\n",
        "      with tf.GradientTape(persistent=True) as tape:\n",
        "          logits = model(img_batch, training=True)  # Logits for this minibatch\n",
        "\n",
        "          # Compute the loss value for this minibatch.\n",
        "          loss_value = loss_fn(lbl_batch, logits)\n",
        "\n",
        "      # Use the gradient tape to automatically retrieve\n",
        "      # the gradients of the trainable variables with respect to the loss.\n",
        "      grads = tape.gradient(loss_value, model.trainable_weights)\n",
        "\n",
        "      # Run one step of gradient descent by updating\n",
        "      # the value of the variables to minimize the loss.\n",
        "      opt.apply_gradients(zip(grads, model.trainable_weights))\n",
        "\n",
        "      train_acc_metric(lbl_batch, logits)\n",
        "      \n",
        "      if not steps % 100:\n",
        "          # this is different from before. there, we only evaluated accuracy\n",
        "          # for one batch. Now, we always average over 100 batches\n",
        "          print(\"Loss: {} Accuracy: {}\".format(loss_value, train_acc_metric.result()))\n",
        "          train_acc_metric.reset_states()\n"
      ],
      "execution_count": null,
      "outputs": []
    },
    {
      "cell_type": "code",
      "metadata": {
        "id": "oflu52uGdKAA",
        "colab_type": "code",
        "colab": {}
      },
      "source": [
        "!mkdir -p saved_model\n",
        "model.save('saved_model/my_model') "
      ],
      "execution_count": null,
      "outputs": []
    },
    {
      "cell_type": "code",
      "metadata": {
        "id": "__PVSJN_df7u",
        "colab_type": "code",
        "colab": {}
      },
      "source": [
        "model = tf.keras.models.load_model('saved_model/my_model', compile= False)"
      ],
      "execution_count": null,
      "outputs": []
    },
    {
      "cell_type": "markdown",
      "metadata": {
        "id": "TqF45dGForg5",
        "colab_type": "text"
      },
      "source": [
        "> #### 4.1. Gradient-based Saliency map\n",
        "\n",
        "Yes, the saliency maps make sense. The highlighted areas seems to be the one the model looks at to give the class output. Since it is looking at maybe the windshield of the truck, the tyres:the features of the image, it makes sense."
      ]
    },
    {
      "cell_type": "code",
      "metadata": {
        "id": "AZ8V3GBon9Vo",
        "colab_type": "code",
        "colab": {
          "base_uri": "https://localhost:8080/",
          "height": 320
        },
        "outputId": "b2f19ec0-4e95-4520-afdf-719e83396f02"
      },
      "source": [
        "for img, lbl in train_data.take(1):\n",
        "  image = img[1]\n",
        "  image = tf.expand_dims(image, axis=0)   #since taking a single image, adding the batch dimension\n",
        "  label = lbl[1]\n",
        "epochs = 1\n",
        "for epoch in range(epochs): \n",
        "\n",
        "    with tf.GradientTape(persistent=True) as tape:\n",
        "\n",
        "            tape.watch(image)\n",
        "            logits = model(image)#, training=True)  \n",
        "            soft_out = tf.nn.softmax(logits)[-1][-1]                  #taking softmax output of class truck\n",
        "            loss_value = loss_fn(label, logits)\n",
        "       \n",
        "    \n",
        "    grads = tape.gradient(soft_out, image)\n",
        "    #sal = tf.squeeze(grads,0)\n",
        "    sal = tf.math.abs(grads)           #taking the absolute \n",
        "    sal = np.max(sal, axis=3)[0]      #taking the maximum value, reduce the 3 channels to 1\n",
        "    arr_min, arr_max  = np.min(sal), np.max(sal)\n",
        "    sal = (sal - arr_min) / (arr_max - arr_min + 1e-18)\n",
        "\n",
        "    fig, axes = plt.subplots(1,2,figsize=(14,5))    \n",
        "    axes[0].imshow(tf.squeeze(image,0)) \n",
        "    axes[1].imshow(sal)  "
      ],
      "execution_count": null,
      "outputs": [
        {
          "output_type": "display_data",
          "data": {
            "image/png": "[encoded data removed]",
            "text/plain": [
              "<Figure size 1008x360 with 2 Axes>"
            ]
          },
          "metadata": {
            "tags": [],
            "needs_background": "light"
          }
        }
      ]
    },
    {
      "cell_type": "markdown",
      "metadata": {
        "id": "7Qid3RmYqFW5",
        "colab_type": "text"
      },
      "source": [
        "> #### 4.2. Activation Maximization\n",
        "\n",
        "1. FOr 100 epochs, the resulting input still looks natural.\n",
        "2. For epochs>300 images start to blur out more and seems more like a combination of features than images.\n",
        "3. When initialised with random noise instead of real examples, input simply appears to be patches of pixels hear and there, i.e. the image is only the features contributing for the prediction of that particular class."
      ]
    },
    {
      "cell_type": "code",
      "metadata": {
        "id": "9zHkWslxdh6O",
        "colab_type": "code",
        "colab": {
          "base_uri": "https://localhost:8080/",
          "height": 278
        },
        "outputId": "ca37ed88-2a1b-429a-abe5-b048b3204995"
      },
      "source": [
        "for img, lbl in train_data.take(1):\n",
        "  image = img[1]\n",
        "  image = tf.expand_dims(image, axis=0)   #since taking a single image, adding the batch dimension\n",
        "  label = lbl[1]\n",
        "epochs = 100\n",
        "for epoch in range(epochs): \n",
        "\n",
        "    with tf.GradientTape(persistent=True) as tape:\n",
        "            tape.watch(image)\n",
        "            logits = model(image)#, training=True)  \n",
        "            soft_out = tf.nn.softmax(logits)[-1][-1]                   #taking softmax output of class truck\n",
        "            loss_value = loss_fn(label, logits)\n",
        "       \n",
        "    \n",
        "    grads = tape.gradient(soft_out, image)\n",
        "    #sal = tf.squeeze(grads,0)\n",
        "    sal = tf.math.abs(grads)           #taking the absolute \n",
        "    sal = np.max(sal, axis=3)[0]      #taking the maximum value, reduce the 3 channels to 1\n",
        "    arr_min, arr_max  = np.min(sal), np.max(sal)\n",
        "    sal = (sal - arr_min) / (arr_max - arr_min + 1e-18)\n",
        "    \n",
        "    #sal = tf.clip_by_value(grads,0,1)\n",
        "    # arr_min1, arr_max1  = np.min(grads), np.max(grads)\n",
        "    # sal1 = (grads - arr_min) / (arr_max - arr_min + 1e-18)\n",
        "    #print(sal.shape)   \n",
        "   \n",
        "    grads = tf.math.scalar_mul(0.1,grads)      \n",
        "    upd_image = tf.math.add(image, grads)  \n",
        "\n",
        "    #printing the orignal image and saliency map  \n",
        "    \n",
        "    if not epoch % 100:         \n",
        "      fig, axes = plt.subplots(1,3,figsize=(14,5))    \n",
        "      axes[0].imshow(tf.squeeze(image,0)) \n",
        "      axes[1].imshow(sal)          \n",
        "      axes[2].imshow(tf.squeeze(upd_image,0))      \n",
        "    \n",
        "    image = upd_image   \n"
      ],
      "execution_count": null,
      "outputs": [
        {
          "output_type": "display_data",
          "data": {
            "image/png": "[encoded data removed]",
            "text/plain": [
              "<Figure size 1008x360 with 3 Axes>"
            ]
          },
          "metadata": {
            "tags": [],
            "needs_background": "light"
          }
        }
      ]
    },
    {
      "cell_type": "code",
      "metadata": {
        "id": "_49jNvezdhz-",
        "colab_type": "code",
        "colab": {
          "base_uri": "https://localhost:8080/",
          "height": 1000
        },
        "outputId": "686d2344-6cfa-4f95-c004-0f95df4bc36f"
      },
      "source": [
        "image = tf.Variable(tf.random.uniform(shape=[32,32,3],minval=0 , maxval= 256))\n",
        "image = tf.expand_dims(image, axis=0)   #since taking a single image, adding the batch dimension\n",
        "label = lbl[1]\n",
        "epochs = 1000\n",
        "for epoch in range(epochs): \n",
        "\n",
        "  with tf.GradientTape(persistent=True) as tape:\n",
        "\n",
        "          tape.watch(image)\n",
        "          logits = model(image)#, training=True)  \n",
        "          soft_out = tf.nn.softmax(logits)[-1][-1]                   #taking softmax output of class truck\n",
        "\n",
        "          # Compute the loss value for this minibatch.\n",
        "          loss_value = loss_fn(label, logits)\n",
        "      \n",
        "  \n",
        "  grads = tape.gradient(soft_out, image)\n",
        "  sal = tf.math.abs(grads)                                          #taking the absolute \n",
        "  sal = np.max(sal, axis=3)[0]                                      #taking the maximum value, reduce the 3 channels to 1\n",
        "  arr_min, arr_max  = np.min(sal), np.max(sal)\n",
        "  sal = (sal - arr_min) / (arr_max - arr_min + 1e-18)\n",
        "  grads = tf.math.scalar_mul(0.1,grads) \n",
        "  upd_image = tf.math.add(image, grads)  \n",
        "\n",
        "  #printing the orignal image and saliency map  \n",
        "  \n",
        "  if not epoch % 100:         \n",
        "    fig, axes = plt.subplots(1,3,figsize=(14,5))    \n",
        "    axes[0].imshow(tf.squeeze(image,0)) \n",
        "    axes[1].imshow(sal)          \n",
        "    axes[2].imshow(tf.squeeze(upd_image,0))\n",
        "\n",
        "  image = upd_image    \n"
      ],
      "execution_count": null,
      "outputs": [
        {
          "output_type": "stream",
          "text": [
            "Clipping input data to the valid range for imshow with RGB data ([0..1] for floats or [0..255] for integers).\n",
            "Clipping input data to the valid range for imshow with RGB data ([0..1] for floats or [0..255] for integers).\n",
            "Clipping input data to the valid range for imshow with RGB data ([0..1] for floats or [0..255] for integers).\n",
            "Clipping input data to the valid range for imshow with RGB data ([0..1] for floats or [0..255] for integers).\n",
            "Clipping input data to the valid range for imshow with RGB data ([0..1] for floats or [0..255] for integers).\n",
            "Clipping input data to the valid range for imshow with RGB data ([0..1] for floats or [0..255] for integers).\n",
            "Clipping input data to the valid range for imshow with RGB data ([0..1] for floats or [0..255] for integers).\n",
            "Clipping input data to the valid range for imshow with RGB data ([0..1] for floats or [0..255] for integers).\n",
            "Clipping input data to the valid range for imshow with RGB data ([0..1] for floats or [0..255] for integers).\n",
            "Clipping input data to the valid range for imshow with RGB data ([0..1] for floats or [0..255] for integers).\n",
            "Clipping input data to the valid range for imshow with RGB data ([0..1] for floats or [0..255] for integers).\n",
            "Clipping input data to the valid range for imshow with RGB data ([0..1] for floats or [0..255] for integers).\n",
            "Clipping input data to the valid range for imshow with RGB data ([0..1] for floats or [0..255] for integers).\n",
            "Clipping input data to the valid range for imshow with RGB data ([0..1] for floats or [0..255] for integers).\n",
            "Clipping input data to the valid range for imshow with RGB data ([0..1] for floats or [0..255] for integers).\n",
            "Clipping input data to the valid range for imshow with RGB data ([0..1] for floats or [0..255] for integers).\n",
            "Clipping input data to the valid range for imshow with RGB data ([0..1] for floats or [0..255] for integers).\n",
            "Clipping input data to the valid range for imshow with RGB data ([0..1] for floats or [0..255] for integers).\n",
            "Clipping input data to the valid range for imshow with RGB data ([0..1] for floats or [0..255] for integers).\n",
            "Clipping input data to the valid range for imshow with RGB data ([0..1] for floats or [0..255] for integers).\n"
          ],
          "name": "stderr"
        },
        {
          "output_type": "display_data",
          "data": {
            "image/png": "[encoded data removed]",
            "text/plain": [
              "<Figure size 1008x360 with 3 Axes>"
            ]
          },
          "metadata": {
            "tags": [],
            "needs_background": "light"
          }
        },
        {
          "output_type": "display_data",
          "data": {
            "image/png": "[encoded data removed]",
            "text/plain": [
              "<Figure size 1008x360 with 3 Axes>"
            ]
          },
          "metadata": {
            "tags": [],
            "needs_background": "light"
          }
        },
        {
          "output_type": "display_data",
          "data": {
            "image/png": "[encoded data removed]",
            "text/plain": [
              "<Figure size 1008x360 with 3 Axes>"
            ]
          },
          "metadata": {
            "tags": [],
            "needs_background": "light"
          }
        },
        {
          "output_type": "display_data",
          "data": {
            "image/png": "[encoded data removed]",
            "text/plain": [
              "<Figure size 1008x360 with 3 Axes>"
            ]
          },
          "metadata": {
            "tags": [],
            "needs_background": "light"
          }
        },
        {
          "output_type": "display_data",
          "data": {
            "image/png": "[encoded data removed]",
            "text/plain": [
              "<Figure size 1008x360 with 3 Axes>"
            ]
          },
          "metadata": {
            "tags": [],
            "needs_background": "light"
          }
        },
        {
          "output_type": "display_data",
          "data": {
            "image/png": "[encoded data removed]",
            "text/plain": [
              "<Figure size 1008x360 with 3 Axes>"
            ]
          },
          "metadata": {
            "tags": [],
            "needs_background": "light"
          }
        },
        {
          "output_type": "display_data",
          "data": {
            "image/png": "[encoded data removed]",
            "text/plain": [
              "<Figure size 1008x360 with 3 Axes>"
            ]
          },
          "metadata": {
            "tags": [],
            "needs_background": "light"
          }
        },
        {
          "output_type": "display_data",
          "data": {
            "image/png": "[encoded data removed]",
            "text/plain": [
              "<Figure size 1008x360 with 3 Axes>"
            ]
          },
          "metadata": {
            "tags": [],
            "needs_background": "light"
          }
        },
        {
          "output_type": "display_data",
          "data": {
            "image/png": "[encoded data removed]",
            "text/plain": [
              "<Figure size 1008x360 with 3 Axes>"
            ]
          },
          "metadata": {
            "tags": [],
            "needs_background": "light"
          }
        },
        {
          "output_type": "display_data",
          "data": {
            "image/png": "[encoded data removed]",
            "text/plain": [
              "<Figure size 1008x360 with 3 Axes>"
            ]
          },
          "metadata": {
            "tags": [],
            "needs_background": "light"
          }
        }
      ]
    },
    {
      "cell_type": "markdown",
      "metadata": {
        "id": "ZPhPjTpGnd6y",
        "colab_type": "text"
      },
      "source": [
        "#### 5.0  NTM"
      ]
    },
    {
      "cell_type": "code",
      "metadata": {
        "id": "xOlq-mWkDhCH",
        "colab_type": "code",
        "colab": {}
      },
      "source": [
        "import tensorflow as tf\n",
        "\n",
        "import matplotlib.pyplot as plt\n",
        "import matplotlib.ticker as ticker\n",
        "from sklearn.model_selection import train_test_split\n",
        "\n",
        "import unicodedata\n",
        "import re\n",
        "import numpy as np\n",
        "import os\n",
        "import io\n",
        "import time"
      ],
      "execution_count": null,
      "outputs": []
    },
    {
      "cell_type": "code",
      "metadata": {
        "id": "4CSLiFWteb1H",
        "colab_type": "code",
        "colab": {}
      },
      "source": [
        "os.chdir(\"/content/drive/My Drive/Colab Notebooks\")"
      ],
      "execution_count": null,
      "outputs": []
    },
    {
      "cell_type": "code",
      "metadata": {
        "id": "Er0GdmJVh8Wl",
        "colab_type": "code",
        "colab": {}
      },
      "source": [
        "import zipfile\n",
        "with zipfile.ZipFile(\"/content/drive/My Drive/Colab Notebooks/hin-eng.zip\", 'r') as zip_ref:\n",
        "    zip_ref.extractall(\"/content/drive/My Drive/Colab Notebooks/NTM\")"
      ],
      "execution_count": null,
      "outputs": []
    },
    {
      "cell_type": "code",
      "metadata": {
        "id": "8koEsceGnPnK",
        "colab_type": "code",
        "colab": {
          "base_uri": "https://localhost:8080/",
          "height": 35
        },
        "outputId": "ce4b6d6e-2426-42c3-f57a-ef74ce52694a"
      },
      "source": [
        "#removing unwanted strings\n",
        "\n",
        "a = \"Wow!\tवाह!\tCC-BY 2.0 (France) Attribution: tatoeba.org #52027 (Zifre) & #6179147 (fastrizwaan)\"\n",
        "a = a.split('CC-BY 2.0')[0]\n",
        "print(a)"
      ],
      "execution_count": null,
      "outputs": [
        {
          "output_type": "stream",
          "text": [
            "Wow!\tवाह!\t\n"
          ],
          "name": "stdout"
        }
      ]
    },
    {
      "cell_type": "code",
      "metadata": {
        "id": "dQYguDQXKiVQ",
        "colab_type": "code",
        "colab": {}
      },
      "source": [
        "#creating the file of format english-hindi and removing following unwanted strings\n",
        "\n",
        "with open('/content/drive/My Drive/Colab Notebooks/NTM/hin.txt', 'r') as f:  \n",
        "  a = f.readlines()\n",
        "  #print(a[2113])\n",
        "  with open('/content/drive/My Drive/Colab Notebooks/NTM/hin_edited.txt', 'w') as fe:\n",
        "    for i in range(len(a)):\n",
        "      fe.write(a[i].split('CC-BY 2.0')[0])\n",
        "      fe.write(\"\\n\")\n"
      ],
      "execution_count": null,
      "outputs": []
    },
    {
      "cell_type": "code",
      "metadata": {
        "id": "6HxxgqirjgBT",
        "colab_type": "code",
        "colab": {
          "base_uri": "https://localhost:8080/",
          "height": 797
        },
        "outputId": "f173b444-efbe-468c-ae50-099b7121425b"
      },
      "source": [
        "with open(\"/content/drive/My Drive/Colab Notebooks/NTM/hin_edited.txt\") as f:\n",
        "  a = f.read()\n",
        "  print(a[:1000])"
      ],
      "execution_count": null,
      "outputs": [
        {
          "output_type": "stream",
          "text": [
            "Wow!\tवाह!\t\n",
            "Help!\tबचाओ!\t\n",
            "Jump.\tउछलो.\t\n",
            "Jump.\tकूदो.\t\n",
            "Jump.\tछलांग.\t\n",
            "Hello!\tनमस्ते।\t\n",
            "Hello!\tनमस्कार।\t\n",
            "Cheers!\tवाह-वाह!\t\n",
            "Cheers!\tचियर्स!\t\n",
            "Got it?\tसमझे कि नहीं?\t\n",
            "I'm OK.\tमैं ठीक हूँ।\t\n",
            "Awesome!\tबहुत बढ़िया!\t\n",
            "Come in.\tअंदर आ जाओ।\t\n",
            "Get out!\tबाहर निकल जाओ!\t\n",
            "Go away!\tचले जाओ!\t\n",
            "Goodbye!\tख़ुदा हाफ़िज़।\t\n",
            "Perfect!\tउत्तम!\t\n",
            "Perfect!\tसही!\t\n",
            "Welcome.\tआपका स्वागत है।\t\n",
            "Welcome.\tस्वागतम्।\t\n",
            "Have fun.\tमज़े करना।\t\n",
            "Have fun.\tमौज करना।\t\n",
            "Have fun.\tमज़े करो।\t\n",
            "I forgot.\tमैं भूल गया।\t\n",
            "I forgot.\tमैं भूल गई।\t\n",
            "I'll pay.\tमैं पैसे दूंगा।\t\n",
            "I'm fine.\tमैं ठीक हूँ।\t\n",
            "I'm full.\tमेरा पेट भर गया है।\t\n",
            "Let's go!\tचलो चलें!\t\n",
            "Answer me.\tमुझे जवाब दो।\t\n",
            "Birds fly.\tपंछी उड़ते हैं।\t\n",
            "Excuse me.\tमाफ़ कीजिए।\t\n",
            "Fantastic!\tबहुत ख़ूब!\t\n",
            "I fainted.\tमैं बेहोश हो गया।\t\n",
            "I fear so.\tखेद की बात है, लेकिन वैसा ही है।\t\n",
            "I laughed.\tमैं हँसा।\t\n",
            "I'm bored.\tमैं बोर हो रहा हूँ।\t\n",
            "I'm broke.\tमेरा दीवालिया हो चुका है।\t\n",
            "I'm tired.\tमैं थक गया हूँ।\t\n",
            "It's cold.\tठंड हो रही है।\t\n",
            "Well done!\tशाबाश!\t\n",
            "Who knows?\tकौन जाने?\t\n",
            "Who knows?\tकिसको पता है?\t\n",
            "Who knows?\tकिसे पता है?\t\n",
            "Wh\n"
          ],
          "name": "stdout"
        }
      ]
    },
    {
      "cell_type": "code",
      "metadata": {
        "id": "UujJRSjOFC2I",
        "colab_type": "code",
        "colab": {}
      },
      "source": [
        "# Converts the unicode file to ascii\n",
        "def unicode_to_ascii(s):\n",
        "  return ''.join(c for c in unicodedata.normalize('NFD', s)\n",
        "      if unicodedata.category(c) != 'Mn')\n",
        "\n",
        "\n",
        "def preprocess_sentence(w):\n",
        "  \n",
        "  # w = unicode_to_ascii(w.lower().strip())       #convert everything to lowercase,remove white spaces in beginning and end and then unicode to asccii becasue it's easier with less numbers\n",
        "  # print(w)\n",
        "  # creating a space between a word and the punctuation following it\n",
        "  # eg: \"he is a boy.\" => \"he is a boy .\"\n",
        "  # Reference:- https://stackoverflow.com/questions/3645931/python-padding-punctuation-with-white-spaces-keeping-punctuation\n",
        "  w = re.sub(r\"([?.!,¿।])\", r\" \\1 \", w)\n",
        "  \n",
        "  w = re.sub(r'[\" \"]+', \" \", w)\n",
        "\n",
        "  \n",
        "  # replacing everything with space except (a-z, A-Z, \".\", \"?\", \"!\", \",\")\n",
        "  w = re.sub(r\"[^\\u0900-\\u097Fa-zA-Z?.!,¿।]+\", \" \", w)                                      #^ indicates negation\n",
        "\n",
        "  \n",
        "  w = w.strip()\n",
        "\n",
        "  # adding a start and an end token to the sentence\n",
        "  # so that the model know when to start and stop predicting.\n",
        "  w = '<start> ' + w + ' <end>'\n",
        "  return w\n"
      ],
      "execution_count": null,
      "outputs": []
    },
    {
      "cell_type": "code",
      "metadata": {
        "id": "AQjWbIuZFST9",
        "colab_type": "code",
        "colab": {
          "base_uri": "https://localhost:8080/",
          "height": 52
        },
        "outputId": "b2d9cb82-9017-4af0-dc38-0c62c33ae565"
      },
      "source": [
        "en_sentence = u\"May I borrow this book?\"\n",
        "hin_sentence = u\"मैं थक गया हूँ।\"\n",
        "print(preprocess_sentence(en_sentence))\n",
        "print(preprocess_sentence(hin_sentence))"
      ],
      "execution_count": null,
      "outputs": [
        {
          "output_type": "stream",
          "text": [
            "<start> May I borrow this book ? <end>\n",
            "<start> मैं थक गया हूँ । <end>\n"
          ],
          "name": "stdout"
        }
      ]
    },
    {
      "cell_type": "code",
      "metadata": {
        "id": "sBxVNomUG_2i",
        "colab_type": "code",
        "colab": {}
      },
      "source": [
        "# 1. Remove the accents\n",
        "# 2. Clean the sentences\n",
        "# 3. Return word pairs in the format: [ENGLISH, SPANISH]\n",
        "def create_dataset(path, num_examples):\n",
        "  lines = io.open(path, encoding='UTF-8').read().strip().split('\\n')   #return a list of words with each new line in dataset as one element in the list, therfore each element of list is \"englishword\\tspanish word\"\n",
        "  #print(lines[:10])\n",
        "\n",
        "  word_pairs = [[preprocess_sentence(w) for w in l.split('\\t')]  for l in lines[:num_examples]]    #takes each element as splits into two english,spanish\n",
        "  #print(word_pairs[:10])\n",
        "  return zip(*word_pairs)"
      ],
      "execution_count": null,
      "outputs": []
    },
    {
      "cell_type": "code",
      "metadata": {
        "id": "Lqfqn-VpHDnp",
        "colab_type": "code",
        "colab": {
          "base_uri": "https://localhost:8080/",
          "height": 72
        },
        "outputId": "92edd5ff-15cb-4987-d638-d7d189e51b35"
      },
      "source": [
        "en, hin = create_dataset(\"/content/drive/My Drive/Colab Notebooks/NTM/hin_edited.txt\", None)\n",
        "print(en[-1])\n",
        "print(hin[-1])"
      ],
      "execution_count": null,
      "outputs": [
        {
          "output_type": "stream",
          "text": [
            "<start> When I was a kid , touching bugs didn t bother me a bit . Now I can hardly stand looking at pictures of them . <end>\n",
            "<start> जब मैं बच्चा था , मुझे कीड़ों को छूने से कोई परेशानी नहीं होती थी , पर अब मैं उनकी तस्वीरें देखना भी बर्दाश्त नहीं कर सकता । <end>\n"
          ],
          "name": "stdout"
        }
      ]
    },
    {
      "cell_type": "code",
      "metadata": {
        "id": "TEPrCdHYRg0s",
        "colab_type": "code",
        "colab": {}
      },
      "source": [
        "def tokenize(lang):\n",
        "  lang_tokenizer = tf.keras.preprocessing.text.Tokenizer(                 #treats each string as a token which is default because this function takes a char_level argument if we want to consider each character as token\n",
        "      filters='')                                                         #takes another arument oov token, in case out of vocabulary words are present, they will be replaced by this\n",
        "  lang_tokenizer.fit_on_texts(lang)                                       #considers each entry of list as a token          \n",
        "\n",
        "  tensor = lang_tokenizer.texts_to_sequences(lang)                        #converts strings into sequence of integers\n",
        "\n",
        "  tensor = tf.keras.preprocessing.sequence.pad_sequences(tensor,\n",
        "                                                         padding='post')  #to make sequences of equal length,pads at the end of the sequence\n",
        "\n",
        "  return tensor, lang_tokenizer"
      ],
      "execution_count": null,
      "outputs": []
    },
    {
      "cell_type": "code",
      "metadata": {
        "id": "x-wuy0s7R2eM",
        "colab_type": "code",
        "colab": {}
      },
      "source": [
        "def load_dataset(path, num_examples=None):\n",
        "  # creating cleaned input, output pairs\n",
        "  targ_lang, inp_lang = create_dataset(path, num_examples)\n",
        "\n",
        "  input_tensor, inp_lang_tokenizer = tokenize(inp_lang)\n",
        "  target_tensor, targ_lang_tokenizer = tokenize(targ_lang)\n",
        "\n",
        "  return input_tensor, target_tensor, inp_lang_tokenizer, targ_lang_tokenizer"
      ],
      "execution_count": null,
      "outputs": []
    },
    {
      "cell_type": "code",
      "metadata": {
        "id": "cod-dNbfVIo0",
        "colab_type": "code",
        "colab": {}
      },
      "source": [
        "# Try experimenting with the size of that dataset\n",
        "num_examples = 30000\n",
        "input_tensor, target_tensor, inp_lang, targ_lang = load_dataset(\"/content/drive/My Drive/Colab Notebooks/NTM/hin_edited.txt\", num_examples)\n",
        "\n",
        "# Calculate max_length of the target tensors\n",
        "max_length_targ, max_length_inp = target_tensor.shape[1], input_tensor.shape[1]"
      ],
      "execution_count": null,
      "outputs": []
    },
    {
      "cell_type": "code",
      "metadata": {
        "id": "ZEkC6eWVWEiO",
        "colab_type": "code",
        "colab": {
          "base_uri": "https://localhost:8080/",
          "height": 35
        },
        "outputId": "b0ad109e-77dd-42c1-f6f1-efb54da9491e"
      },
      "source": [
        "# Creating training and validation sets using an 80-20 split\n",
        "input_tensor_train, input_tensor_val, target_tensor_train, target_tensor_val = train_test_split(input_tensor, target_tensor, test_size=0.2)\n",
        "\n",
        "# Show length\n",
        "print(len(input_tensor_train), len(target_tensor_train), len(input_tensor_val), len(target_tensor_val))"
      ],
      "execution_count": null,
      "outputs": [
        {
          "output_type": "stream",
          "text": [
            "2218 2218 555 555\n"
          ],
          "name": "stdout"
        }
      ]
    },
    {
      "cell_type": "code",
      "metadata": {
        "id": "0R1qOYhSWOm2",
        "colab_type": "code",
        "colab": {}
      },
      "source": [
        "def convert(lang, tensor):\n",
        "  for t in tensor:\n",
        "    if t!=0:\n",
        "      print (\"%d ----> %s\" % (t, lang.index_word[t]))"
      ],
      "execution_count": null,
      "outputs": []
    },
    {
      "cell_type": "code",
      "metadata": {
        "id": "n096SRspWcsr",
        "colab_type": "code",
        "colab": {
          "base_uri": "https://localhost:8080/",
          "height": 364
        },
        "outputId": "c4ed2848-428a-4316-8fb8-f5bee078a181"
      },
      "source": [
        "#same words of different language are not mapped to the same index, this print proves it.\n",
        "\n",
        "print (\"Input Language; index to word mapping\")\n",
        "convert(inp_lang, input_tensor_train[0])\n",
        "print ()\n",
        "print (\"Target Language; index to word mapping\")\n",
        "convert(targ_lang, target_tensor_train[0])"
      ],
      "execution_count": null,
      "outputs": [
        {
          "output_type": "stream",
          "text": [
            "Input Language; index to word mapping\n",
            "1 ----> <start>\n",
            "29 ----> मेरे\n",
            "189 ----> पिता\n",
            "386 ----> शायद\n",
            "365 ----> सो\n",
            "97 ----> रहे\n",
            "327 ----> होंगे\n",
            "3 ----> ।\n",
            "2 ----> <end>\n",
            "\n",
            "Target Language; index to word mapping\n",
            "1 ----> <start>\n",
            "16 ----> my\n",
            "70 ----> father\n",
            "139 ----> may\n",
            "43 ----> be\n",
            "762 ----> sleeping\n",
            "3 ----> .\n",
            "2 ----> <end>\n"
          ],
          "name": "stdout"
        }
      ]
    },
    {
      "cell_type": "code",
      "metadata": {
        "id": "leA8MIRvW-Vb",
        "colab_type": "code",
        "colab": {}
      },
      "source": [
        "BUFFER_SIZE = len(input_tensor_train)\n",
        "BATCH_SIZE = 64\n",
        "steps_per_epoch = len(input_tensor_train)//BATCH_SIZE\n",
        "embedding_dim = 256\n",
        "units = 1024\n",
        "vocab_inp_size = len(inp_lang.word_index)+1\n",
        "vocab_tar_size = len(targ_lang.word_index)+1\n",
        "\n",
        "dataset = tf.data.Dataset.from_tensor_slices((input_tensor_train, target_tensor_train)).shuffle(BUFFER_SIZE)\n",
        "dataset = dataset.batch(BATCH_SIZE, drop_remainder=True)"
      ],
      "execution_count": null,
      "outputs": []
    },
    {
      "cell_type": "code",
      "metadata": {
        "id": "mu0VYn9sXzNr",
        "colab_type": "code",
        "colab": {
          "base_uri": "https://localhost:8080/",
          "height": 35
        },
        "outputId": "937f01e9-87e2-40ee-9eb4-f6f7b2d84d94"
      },
      "source": [
        "example_input_batch, example_target_batch = next(iter(dataset))\n",
        "example_input_batch.shape, example_target_batch.shape"
      ],
      "execution_count": null,
      "outputs": [
        {
          "output_type": "execute_result",
          "data": {
            "text/plain": [
              "(TensorShape([64, 30]), TensorShape([64, 28]))"
            ]
          },
          "metadata": {
            "tags": []
          },
          "execution_count": 38
        }
      ]
    },
    {
      "cell_type": "code",
      "metadata": {
        "id": "5EbPh5eyYCap",
        "colab_type": "code",
        "colab": {}
      },
      "source": [
        "class Encoder(tf.keras.Model):\n",
        "  def __init__(self, vocab_size, embedding_dim, enc_units, batch_sz):\n",
        "    super(Encoder, self).__init__()\n",
        "    self.batch_sz = batch_sz\n",
        "    self.enc_units = enc_units\n",
        "    self.embedding = tf.keras.layers.Embedding(vocab_size, embedding_dim)\n",
        "    self.gru = tf.keras.layers.GRU(self.enc_units,\n",
        "                                   return_sequences=True,\n",
        "                                   return_state=True,\n",
        "                                   recurrent_initializer='glorot_uniform')\n",
        "\n",
        "  def call(self, x, hidden):\n",
        "    x = self.embedding(x)\n",
        "    output, state = self.gru(x, initial_state = hidden)\n",
        "    return output, state\n",
        "\n",
        "  def initialize_hidden_state(self):\n",
        "    return tf.zeros((self.batch_sz, self.enc_units))"
      ],
      "execution_count": null,
      "outputs": []
    },
    {
      "cell_type": "code",
      "metadata": {
        "id": "RHH2czsaZ7L6",
        "colab_type": "code",
        "colab": {
          "base_uri": "https://localhost:8080/",
          "height": 52
        },
        "outputId": "8ad7dd83-83ec-4a1b-b2f4-4f859a9492b8"
      },
      "source": [
        "encoder = Encoder(vocab_inp_size, embedding_dim, units, BATCH_SIZE)\n",
        "\n",
        "# sample input\n",
        "sample_hidden = encoder.initialize_hidden_state()\n",
        "sample_output, sample_hidden = encoder(example_input_batch, sample_hidden)\n",
        "print ('Encoder output shape: (batch size, sequence length, units) {}'.format(sample_output.shape))\n",
        "print ('Encoder Hidden state shape: (batch size, units) {}'.format(sample_hidden.shape))"
      ],
      "execution_count": null,
      "outputs": [
        {
          "output_type": "stream",
          "text": [
            "Encoder output shape: (batch size, sequence length, units) (64, 30, 1024)\n",
            "Encoder Hidden state shape: (batch size, units) (64, 1024)\n"
          ],
          "name": "stdout"
        }
      ]
    },
    {
      "cell_type": "markdown",
      "metadata": {
        "id": "si92XzVOz1YX",
        "colab_type": "text"
      },
      "source": [
        "> #### BahdanauAttention"
      ]
    },
    {
      "cell_type": "code",
      "metadata": {
        "id": "yNmL9ciGb1mI",
        "colab_type": "code",
        "colab": {}
      },
      "source": [
        "class BahdanauAttention(tf.keras.layers.Layer):\n",
        "  def __init__(self, units):\n",
        "    super(BahdanauAttention, self).__init__()\n",
        "    self.W1 = tf.keras.layers.Dense(units)\n",
        "    self.W2 = tf.keras.layers.Dense(units)\n",
        "    self.V = tf.keras.layers.Dense(1)\n",
        "\n",
        "  def call(self, query, values):\n",
        "    # query hidden state shape == (batch_size, hidden size)\n",
        "    # query_with_time_axis shape == (batch_size, 1, hidden size)\n",
        "    # values shape == (batch_size, max_len, hidden size)\n",
        "    # we are doing this to broadcast addition along the time axis to calculate the score\n",
        "    query_with_time_axis = tf.expand_dims(query, 1)\n",
        "\n",
        "    # score shape == (batch_size, max_length, 1)\n",
        "    # we get 1 at the last axis because we are applying score to self.V\n",
        "    # the shape of the tensor before applying self.V is (batch_size, max_length, units)\n",
        "    #print((tf.nn.tanh(self.W1(query_with_time_axis) + self.W2(values))).shape)\n",
        "    score = self.V(tf.nn.tanh(\n",
        "        self.W1(query_with_time_axis) + self.W2(values)))\n",
        "    \n",
        "    # attention_weights shape == (batch_size, max_length, 1)\n",
        "    attention_weights = tf.nn.softmax(score, axis=1)\n",
        "\n",
        "    # context_vector shape after sum == (batch_size, hidden_size)\n",
        "    context_vector = attention_weights * values\n",
        "    context_vector = tf.reduce_sum(context_vector, axis=1)\n",
        "\n",
        "    return context_vector, attention_weights"
      ],
      "execution_count": null,
      "outputs": []
    },
    {
      "cell_type": "code",
      "metadata": {
        "id": "8HbbohoSdPzW",
        "colab_type": "code",
        "colab": {
          "base_uri": "https://localhost:8080/",
          "height": 52
        },
        "outputId": "c82e4f84-88c7-49ed-c080-39468063b7c9"
      },
      "source": [
        "attention_layer = BahdanauAttention(10)\n",
        "attention_result, attention_weights = attention_layer(sample_hidden, sample_output)\n",
        "\n",
        "print(\"Attention result shape: (batch size, units) {}\".format(attention_result.shape))\n",
        "print(\"Attention weights shape: (batch_size, sequence_length, 1) {}\".format(attention_weights.shape))"
      ],
      "execution_count": null,
      "outputs": [
        {
          "output_type": "stream",
          "text": [
            "Attention result shape: (batch size, units) (64, 1024)\n",
            "Attention weights shape: (batch_size, sequence_length, 1) (64, 30, 1)\n"
          ],
          "name": "stdout"
        }
      ]
    },
    {
      "cell_type": "code",
      "metadata": {
        "id": "yyn2zOcLQH2k",
        "colab_type": "code",
        "colab": {
          "base_uri": "https://localhost:8080/",
          "height": 139
        },
        "outputId": "ecc8d4cf-add6-4e0b-be6b-0203fd1749de"
      },
      "source": [
        "#example to undertsand how dot and luong attention works.\n",
        "\n",
        "encoder_states = tf.Variable([[[1,1,1,1],[2,2,2,2],[3,3,3,3],[4,4,4,4],[5,5,5,5]],[[5,5,5,5],[6,6,6,6],[7,7,7,7],[8,8,8,8],[9,9,9,9]],[[9,9,9,9],[10,10,10,10],[11,11,11,11],[12,12,12,12],[13,13,13,13]]] ,dtype= tf.float32)\n",
        "decoder_state = tf.Variable(tf.ones((3,4)), dtype= tf.float32)\n",
        "decoder_state = tf.expand_dims(decoder_state,1)\n",
        "print(encoder_states.shape)\n",
        "print(decoder_state.shape)\n",
        "print(tf.multiply(decoder_state,encoder_states).shape)\n",
        "print((tf.reduce_sum( tf.multiply(decoder_state,encoder_states), 2)))"
      ],
      "execution_count": null,
      "outputs": [
        {
          "output_type": "stream",
          "text": [
            "(3, 5, 4)\n",
            "(3, 1, 4)\n",
            "(3, 5, 4)\n",
            "tf.Tensor(\n",
            "[[ 4.  8. 12. 16. 20.]\n",
            " [20. 24. 28. 32. 36.]\n",
            " [36. 40. 44. 48. 52.]], shape=(3, 5), dtype=float32)\n"
          ],
          "name": "stdout"
        }
      ]
    },
    {
      "cell_type": "markdown",
      "metadata": {
        "id": "pBjooVdbz6wn",
        "colab_type": "text"
      },
      "source": [
        "> #### Dot Product Attention"
      ]
    },
    {
      "cell_type": "code",
      "metadata": {
        "id": "o3JE6daeAGx3",
        "colab_type": "code",
        "colab": {}
      },
      "source": [
        "class dotProductAttention(tf.keras.layers.Layer):\n",
        "  def __init__(self, units):\n",
        "    super(dotProductAttention, self).__init__()\n",
        "    # self.W1 = tf.keras.layers.Dense(units)\n",
        "    # self.W2 = tf.keras.layers.Dense(units)\n",
        "    # self.V = tf.keras.layers.Dense(1)\n",
        "\n",
        "  def call(self, query, values):\n",
        "    # query hidden state shape == (batch_size, hidden size)\n",
        "    # query_with_time_axis shape == (batch_size, 1, hidden size)\n",
        "    # values shape == (batch_size, max_len, hidden size)\n",
        "    # we are doing this to broadcast addition along the time axis to calculate the score\n",
        "    query_with_time_axis = tf.expand_dims(query, 1)\n",
        "\n",
        "    # score shape == (batch_size, max_length, 1)\n",
        "    # we get 1 at the last axis because we are applying score to self.V\n",
        "    # the shape of the tensor before applying self.V is (batch_size, max_length, units) \n",
        "    \n",
        "    \n",
        "    score = tf.reduce_sum( tf.multiply(query_with_time_axis,values), 2)\n",
        "    score = tf.expand_dims(score,2)\n",
        "    # attention_weights shape == (batch_size, max_length, 1)\n",
        "    attention_weights = tf.nn.softmax(score, axis=1)\n",
        "\n",
        "    # context_vector shape after sum == (batch_size, hidden_size)\n",
        "    context_vector = attention_weights * values\n",
        "    context_vector = tf.reduce_sum(context_vector, axis=1)\n",
        "\n",
        "    return context_vector, attention_weights"
      ],
      "execution_count": null,
      "outputs": []
    },
    {
      "cell_type": "code",
      "metadata": {
        "id": "-tazhxp0BvrQ",
        "colab_type": "code",
        "colab": {
          "base_uri": "https://localhost:8080/",
          "height": 52
        },
        "outputId": "6a459462-9276-48d6-be15-cab6ce34ac79"
      },
      "source": [
        "attention_layer = dotProductAttention(10)\n",
        "attention_result, attention_weights = attention_layer(sample_hidden, sample_output)\n",
        "\n",
        "print(\"Attention result shape: (batch size, units) {}\".format(attention_result.shape))\n",
        "print(\"Attention weights shape: (batch_size, sequence_length, 1) {}\".format(attention_weights.shape))"
      ],
      "execution_count": null,
      "outputs": [
        {
          "output_type": "stream",
          "text": [
            "Attention result shape: (batch size, units) (64, 1024)\n",
            "Attention weights shape: (batch_size, sequence_length, 1) (64, 30, 1)\n"
          ],
          "name": "stdout"
        }
      ]
    },
    {
      "cell_type": "markdown",
      "metadata": {
        "id": "HtQdFrY_0Ao3",
        "colab_type": "text"
      },
      "source": [
        "> #### Luong's Multiplicative Attention"
      ]
    },
    {
      "cell_type": "code",
      "metadata": {
        "id": "SXZW3ek_aWXa",
        "colab_type": "code",
        "colab": {}
      },
      "source": [
        "class LuongAttention(tf.keras.layers.Layer):\n",
        "  def __init__(self, units):\n",
        "    super(LuongAttention, self).__init__()\n",
        "    #self.W1 = tf.keras.layers.Dense(units)\n",
        "    # self.W2 = tf.keras.layers.Dense(units)\n",
        "    self.V = tf.keras.layers.Dense(max_length_inp)\n",
        "\n",
        "  def call(self, query, values):\n",
        "    # query hidden state shape == (batch_size, hidden size)\n",
        "    # query_with_time_axis shape == (batch_size, 1, hidden size)\n",
        "    # values shape == (batch_size, max_len, hidden size)\n",
        "    # we are doing this to broadcast addition along the time axis to calculate the score\n",
        "    query_with_time_axis = tf.expand_dims(query, 1)\n",
        "\n",
        "    # score shape == (batch_size, max_length, 1)\n",
        "    # we get 1 at the last axis because we are applying score to self.V\n",
        "    # the shape of the tensor before applying self.V is (batch_size, max_length, units) \n",
        "    \n",
        "    \n",
        "    score = self.V(tf.reduce_sum( tf.multiply(query_with_time_axis,values), 2))\n",
        "    # W = tf.keras.layers.Dense(score.shape[1])\n",
        "    # score = W(score)\n",
        "    #print(score.shape)\n",
        "    score = tf.expand_dims(score,2)\n",
        "    \n",
        "    # attention_weights shape == (batch_size, max_length, 1)\n",
        "    attention_weights = tf.nn.softmax(score, axis=1)\n",
        "\n",
        "    # context_vector shape after sum == (batch_size, hidden_size)\n",
        "    context_vector = attention_weights * values\n",
        "    context_vector = tf.reduce_sum(context_vector, axis=1)\n",
        "\n",
        "    return context_vector, attention_weights"
      ],
      "execution_count": null,
      "outputs": []
    },
    {
      "cell_type": "code",
      "metadata": {
        "id": "B1k9WpnxaZaL",
        "colab_type": "code",
        "colab": {
          "base_uri": "https://localhost:8080/",
          "height": 52
        },
        "outputId": "20dcac7f-4941-4f9a-d6c8-a481177a33ed"
      },
      "source": [
        "attention_layer = LuongAttention(10)\n",
        "attention_result, attention_weights = attention_layer(sample_hidden, sample_output)\n",
        "\n",
        "print(\"Attention result shape: (batch size, units) {}\".format(attention_result.shape))\n",
        "print(\"Attention weights shape: (batch_size, sequence_length, 1) {}\".format(attention_weights.shape))"
      ],
      "execution_count": null,
      "outputs": [
        {
          "output_type": "stream",
          "text": [
            "Attention result shape: (batch size, units) (64, 1024)\n",
            "Attention weights shape: (batch_size, sequence_length, 1) (64, 30, 1)\n"
          ],
          "name": "stdout"
        }
      ]
    },
    {
      "cell_type": "code",
      "metadata": {
        "id": "iGCD7NhCdRic",
        "colab_type": "code",
        "colab": {}
      },
      "source": [
        "class Decoder(tf.keras.Model):\n",
        "  def __init__(self, vocab_size, embedding_dim, dec_units, batch_sz):\n",
        "    super(Decoder, self).__init__()\n",
        "    self.batch_sz = batch_sz\n",
        "    self.dec_units = dec_units\n",
        "    self.embedding = tf.keras.layers.Embedding(vocab_size, embedding_dim)\n",
        "    self.gru = tf.keras.layers.GRU(self.dec_units,\n",
        "                                   return_sequences=True,\n",
        "                                   return_state=True,\n",
        "                                   recurrent_initializer='glorot_uniform')\n",
        "    self.fc = tf.keras.layers.Dense(vocab_size)\n",
        "\n",
        "    # used for attention\n",
        "    self.attention = LuongAttention(self.dec_units)\n",
        "\n",
        "  def call(self, x, hidden, enc_output):\n",
        "    # enc_output shape == (batch_size, max_length, hidden_size)\n",
        "    context_vector, attention_weights = self.attention(hidden, enc_output)\n",
        "\n",
        "    # x shape after passing through embedding == (batch_size, 1, embedding_dim)\n",
        "    x = self.embedding(x)\n",
        "\n",
        "    # x shape after concatenation == (batch_size, 1, embedding_dim + hidden_size)\n",
        "    x = tf.concat([tf.expand_dims(context_vector, 1), x], axis=-1)\n",
        "\n",
        "    # passing the concatenated vector to the GRU\n",
        "    output, state = self.gru(x)\n",
        "\n",
        "    # output shape == (batch_size * 1, hidden_size)\n",
        "    output = tf.reshape(output, (-1, output.shape[2]))\n",
        "\n",
        "    # output shape == (batch_size, vocab)\n",
        "    x = self.fc(output)\n",
        "\n",
        "    return x, state, attention_weights"
      ],
      "execution_count": null,
      "outputs": []
    },
    {
      "cell_type": "code",
      "metadata": {
        "id": "vPRNKCjydiGE",
        "colab_type": "code",
        "colab": {
          "base_uri": "https://localhost:8080/",
          "height": 35
        },
        "outputId": "d32b20bc-ae78-47bf-97f0-8e8b90cd7382"
      },
      "source": [
        "decoder = Decoder(vocab_tar_size, embedding_dim, units, BATCH_SIZE)\n",
        "\n",
        "sample_decoder_output, _, _ = decoder(tf.random.uniform((BATCH_SIZE, 1)),\n",
        "                                      sample_hidden, sample_output)\n",
        "\n",
        "print ('Decoder output shape: (batch_size, vocab size) {}'.format(sample_decoder_output.shape))"
      ],
      "execution_count": null,
      "outputs": [
        {
          "output_type": "stream",
          "text": [
            "Decoder output shape: (batch_size, vocab size) (64, 2318)\n"
          ],
          "name": "stdout"
        }
      ]
    },
    {
      "cell_type": "code",
      "metadata": {
        "id": "S2Ux4vjAdpKZ",
        "colab_type": "code",
        "colab": {}
      },
      "source": [
        "optimizer = tf.keras.optimizers.Adam()\n",
        "loss_object = tf.keras.losses.SparseCategoricalCrossentropy(\n",
        "    from_logits=True, reduction='none')\n",
        "\n",
        "def loss_function(real, pred):\n",
        "  mask = tf.math.logical_not(tf.math.equal(real, 0))\n",
        "  loss_ = loss_object(real, pred)\n",
        "\n",
        "  mask = tf.cast(mask, dtype=loss_.dtype)\n",
        "  loss_ *= mask\n",
        "\n",
        "  return tf.reduce_mean(loss_)"
      ],
      "execution_count": null,
      "outputs": []
    },
    {
      "cell_type": "code",
      "metadata": {
        "id": "l8JYZIsvdyR0",
        "colab_type": "code",
        "colab": {}
      },
      "source": [
        "#The encoder output, encoder hidden state and the decoder input (which is the start token) is passed to the decoder.\n",
        "\n",
        "@tf.function\n",
        "def train_step(inp, targ, enc_hidden):\n",
        "  loss = 0\n",
        "\n",
        "  with tf.GradientTape() as tape:\n",
        "    enc_output, enc_hidden = encoder(inp, enc_hidden)\n",
        "\n",
        "    dec_hidden = enc_hidden\n",
        "\n",
        "    dec_input = tf.expand_dims([targ_lang.word_index['<start>']] * BATCH_SIZE, 1)\n",
        "\n",
        "    # Teacher forcing - feeding the target as the next input\n",
        "    for t in range(1, targ.shape[1]):\n",
        "      # passing enc_output to the decoder\n",
        "      predictions, dec_hidden, _ = decoder(dec_input, dec_hidden, enc_output)\n",
        "\n",
        "      loss += loss_function(targ[:, t], predictions)\n",
        "\n",
        "      # using teacher forcing\n",
        "      dec_input = tf.expand_dims(targ[:, t], 1)\n",
        "\n",
        "  batch_loss = (loss / int(targ.shape[1]))\n",
        "\n",
        "  variables = encoder.trainable_variables + decoder.trainable_variables\n",
        "\n",
        "  gradients = tape.gradient(loss, variables)\n",
        "\n",
        "  optimizer.apply_gradients(zip(gradients, variables))\n",
        "\n",
        "  return batch_loss"
      ],
      "execution_count": null,
      "outputs": []
    },
    {
      "cell_type": "code",
      "metadata": {
        "id": "sJScy4WBeRfX",
        "colab_type": "code",
        "colab": {
          "base_uri": "https://localhost:8080/",
          "height": 1000
        },
        "outputId": "048ebbd2-51bd-4f03-d4ab-b50cb997bcf9"
      },
      "source": [
        "EPOCHS = 50\n",
        "\n",
        "for epoch in range(EPOCHS):\n",
        "  start = time.time()\n",
        "\n",
        "  enc_hidden = encoder.initialize_hidden_state()\n",
        "  total_loss = 0\n",
        "\n",
        "  for (batch, (inp, targ)) in enumerate(dataset.take(steps_per_epoch)):\n",
        "    batch_loss = train_step(inp, targ, enc_hidden)\n",
        "    total_loss += batch_loss\n",
        "\n",
        "    if batch % 100 == 0:\n",
        "      print('Epoch {} Batch {} Loss {:.4f}'.format(epoch + 1,\n",
        "                                                   batch,\n",
        "                                                   batch_loss.numpy()))\n",
        "  \n",
        "  print('Epoch {} Loss {:.4f}'.format(epoch + 1,\n",
        "                                      total_loss / steps_per_epoch))\n",
        "  print('Time taken for 1 epoch {} sec\\n'.format(time.time() - start))"
      ],
      "execution_count": null,
      "outputs": [
        {
          "output_type": "stream",
          "text": [
            "Epoch 1 Batch 0 Loss 0.0438\n",
            "Epoch 1 Loss 0.0416\n",
            "Time taken for 1 epoch 4.771111965179443 sec\n",
            "\n",
            "Epoch 2 Batch 0 Loss 0.0355\n",
            "Epoch 2 Loss 0.0380\n",
            "Time taken for 1 epoch 4.697563171386719 sec\n",
            "\n",
            "Epoch 3 Batch 0 Loss 0.0321\n",
            "Epoch 3 Loss 0.0357\n",
            "Time taken for 1 epoch 4.744590997695923 sec\n",
            "\n",
            "Epoch 4 Batch 0 Loss 0.0188\n",
            "Epoch 4 Loss 0.0332\n",
            "Time taken for 1 epoch 4.7708234786987305 sec\n",
            "\n",
            "Epoch 5 Batch 0 Loss 0.0348\n",
            "Epoch 5 Loss 0.0361\n",
            "Time taken for 1 epoch 4.772021532058716 sec\n",
            "\n",
            "Epoch 6 Batch 0 Loss 0.0302\n",
            "Epoch 6 Loss 0.0359\n",
            "Time taken for 1 epoch 4.766761779785156 sec\n",
            "\n",
            "Epoch 7 Batch 0 Loss 0.0334\n",
            "Epoch 7 Loss 0.0340\n",
            "Time taken for 1 epoch 4.784346103668213 sec\n",
            "\n",
            "Epoch 8 Batch 0 Loss 0.0258\n",
            "Epoch 8 Loss 0.0352\n",
            "Time taken for 1 epoch 4.7783520221710205 sec\n",
            "\n",
            "Epoch 9 Batch 0 Loss 0.0311\n",
            "Epoch 9 Loss 0.0308\n",
            "Time taken for 1 epoch 4.7533063888549805 sec\n",
            "\n",
            "Epoch 10 Batch 0 Loss 0.0218\n",
            "Epoch 10 Loss 0.0280\n",
            "Time taken for 1 epoch 4.765687942504883 sec\n",
            "\n",
            "Epoch 11 Batch 0 Loss 0.0162\n",
            "Epoch 11 Loss 0.0261\n",
            "Time taken for 1 epoch 4.767007112503052 sec\n",
            "\n",
            "Epoch 12 Batch 0 Loss 0.0268\n",
            "Epoch 12 Loss 0.0255\n",
            "Time taken for 1 epoch 4.790799140930176 sec\n",
            "\n",
            "Epoch 13 Batch 0 Loss 0.0211\n",
            "Epoch 13 Loss 0.0243\n",
            "Time taken for 1 epoch 4.818167448043823 sec\n",
            "\n",
            "Epoch 14 Batch 0 Loss 0.0255\n",
            "Epoch 14 Loss 0.0305\n",
            "Time taken for 1 epoch 4.762397289276123 sec\n",
            "\n",
            "Epoch 15 Batch 0 Loss 0.0350\n",
            "Epoch 15 Loss 0.0720\n",
            "Time taken for 1 epoch 4.75043797492981 sec\n",
            "\n",
            "Epoch 16 Batch 0 Loss 0.0505\n",
            "Epoch 16 Loss 0.0594\n",
            "Time taken for 1 epoch 4.722403287887573 sec\n",
            "\n",
            "Epoch 17 Batch 0 Loss 0.0512\n",
            "Epoch 17 Loss 0.0425\n",
            "Time taken for 1 epoch 4.725107192993164 sec\n",
            "\n",
            "Epoch 18 Batch 0 Loss 0.0204\n",
            "Epoch 18 Loss 0.0327\n",
            "Time taken for 1 epoch 4.725675344467163 sec\n",
            "\n",
            "Epoch 19 Batch 0 Loss 0.0180\n",
            "Epoch 19 Loss 0.0321\n",
            "Time taken for 1 epoch 4.751462697982788 sec\n",
            "\n",
            "Epoch 20 Batch 0 Loss 0.0227\n",
            "Epoch 20 Loss 0.0747\n",
            "Time taken for 1 epoch 4.738672494888306 sec\n",
            "\n",
            "Epoch 21 Batch 0 Loss 0.3230\n",
            "Epoch 21 Loss 0.2812\n",
            "Time taken for 1 epoch 4.7320332527160645 sec\n",
            "\n",
            "Epoch 22 Batch 0 Loss 0.1258\n",
            "Epoch 22 Loss 0.1298\n",
            "Time taken for 1 epoch 4.756102085113525 sec\n",
            "\n",
            "Epoch 23 Batch 0 Loss 0.0712\n",
            "Epoch 23 Loss 0.0649\n",
            "Time taken for 1 epoch 4.774712562561035 sec\n",
            "\n",
            "Epoch 24 Batch 0 Loss 0.0481\n",
            "Epoch 24 Loss 0.0406\n",
            "Time taken for 1 epoch 4.73285436630249 sec\n",
            "\n",
            "Epoch 25 Batch 0 Loss 0.0211\n",
            "Epoch 25 Loss 0.0295\n",
            "Time taken for 1 epoch 4.779531002044678 sec\n",
            "\n",
            "Epoch 26 Batch 0 Loss 0.0211\n",
            "Epoch 26 Loss 0.0247\n",
            "Time taken for 1 epoch 4.749779224395752 sec\n",
            "\n",
            "Epoch 27 Batch 0 Loss 0.0209\n",
            "Epoch 27 Loss 0.0226\n",
            "Time taken for 1 epoch 4.757040739059448 sec\n",
            "\n",
            "Epoch 28 Batch 0 Loss 0.0131\n",
            "Epoch 28 Loss 0.0210\n",
            "Time taken for 1 epoch 4.737935781478882 sec\n",
            "\n",
            "Epoch 29 Batch 0 Loss 0.0107\n",
            "Epoch 29 Loss 0.0198\n",
            "Time taken for 1 epoch 4.745473623275757 sec\n",
            "\n",
            "Epoch 30 Batch 0 Loss 0.0179\n",
            "Epoch 30 Loss 0.0196\n",
            "Time taken for 1 epoch 4.7211363315582275 sec\n",
            "\n",
            "Epoch 31 Batch 0 Loss 0.0096\n",
            "Epoch 31 Loss 0.0195\n",
            "Time taken for 1 epoch 4.746433258056641 sec\n",
            "\n",
            "Epoch 32 Batch 0 Loss 0.0118\n",
            "Epoch 32 Loss 0.0201\n",
            "Time taken for 1 epoch 4.74695897102356 sec\n",
            "\n",
            "Epoch 33 Batch 0 Loss 0.0249\n",
            "Epoch 33 Loss 0.0216\n",
            "Time taken for 1 epoch 4.731448173522949 sec\n",
            "\n",
            "Epoch 34 Batch 0 Loss 0.0107\n",
            "Epoch 34 Loss 0.0199\n",
            "Time taken for 1 epoch 4.739505052566528 sec\n",
            "\n",
            "Epoch 35 Batch 0 Loss 0.0174\n",
            "Epoch 35 Loss 0.0191\n",
            "Time taken for 1 epoch 4.743161916732788 sec\n",
            "\n",
            "Epoch 36 Batch 0 Loss 0.0136\n",
            "Epoch 36 Loss 0.0184\n",
            "Time taken for 1 epoch 4.731299161911011 sec\n",
            "\n",
            "Epoch 37 Batch 0 Loss 0.0432\n",
            "Epoch 37 Loss 0.0280\n",
            "Time taken for 1 epoch 4.724065065383911 sec\n",
            "\n",
            "Epoch 38 Batch 0 Loss 0.0450\n",
            "Epoch 38 Loss 0.0352\n",
            "Time taken for 1 epoch 4.72430682182312 sec\n",
            "\n",
            "Epoch 39 Batch 0 Loss 0.0315\n",
            "Epoch 39 Loss 0.0274\n",
            "Time taken for 1 epoch 4.730712175369263 sec\n",
            "\n",
            "Epoch 40 Batch 0 Loss 0.0182\n",
            "Epoch 40 Loss 0.0254\n",
            "Time taken for 1 epoch 4.723441123962402 sec\n",
            "\n",
            "Epoch 41 Batch 0 Loss 0.0152\n",
            "Epoch 41 Loss 0.0217\n",
            "Time taken for 1 epoch 4.727442264556885 sec\n",
            "\n",
            "Epoch 42 Batch 0 Loss 0.0111\n",
            "Epoch 42 Loss 0.0199\n",
            "Time taken for 1 epoch 4.736483573913574 sec\n",
            "\n",
            "Epoch 43 Batch 0 Loss 0.0122\n",
            "Epoch 43 Loss 0.0208\n",
            "Time taken for 1 epoch 4.723742961883545 sec\n",
            "\n",
            "Epoch 44 Batch 0 Loss 0.0153\n",
            "Epoch 44 Loss 0.0186\n",
            "Time taken for 1 epoch 4.729992151260376 sec\n",
            "\n",
            "Epoch 45 Batch 0 Loss 0.0083\n",
            "Epoch 45 Loss 0.0177\n",
            "Time taken for 1 epoch 4.731029272079468 sec\n",
            "\n",
            "Epoch 46 Batch 0 Loss 0.0222\n",
            "Epoch 46 Loss 0.0168\n",
            "Time taken for 1 epoch 4.733705282211304 sec\n",
            "\n",
            "Epoch 47 Batch 0 Loss 0.0131\n",
            "Epoch 47 Loss 0.0163\n",
            "Time taken for 1 epoch 4.728571891784668 sec\n",
            "\n",
            "Epoch 48 Batch 0 Loss 0.0140\n",
            "Epoch 48 Loss 0.0169\n",
            "Time taken for 1 epoch 4.722677707672119 sec\n",
            "\n",
            "Epoch 49 Batch 0 Loss 0.0108\n",
            "Epoch 49 Loss 0.0163\n",
            "Time taken for 1 epoch 4.724674940109253 sec\n",
            "\n",
            "Epoch 50 Batch 0 Loss 0.0115\n",
            "Epoch 50 Loss 0.0160\n",
            "Time taken for 1 epoch 4.714184999465942 sec\n",
            "\n"
          ],
          "name": "stdout"
        }
      ]
    },
    {
      "cell_type": "code",
      "metadata": {
        "id": "PhSXAlRHfAF1",
        "colab_type": "code",
        "colab": {}
      },
      "source": [
        "def evaluate(sentence):\n",
        "  attention_plot = np.zeros((max_length_targ, max_length_inp))\n",
        "\n",
        "  sentence = preprocess_sentence(sentence)\n",
        "\n",
        "  inputs = [inp_lang.word_index[i] for i in sentence.split(' ')]\n",
        "  inputs = tf.keras.preprocessing.sequence.pad_sequences([inputs],\n",
        "                                                         maxlen=max_length_inp,\n",
        "                                                         padding='post')\n",
        "  inputs = tf.convert_to_tensor(inputs)\n",
        "\n",
        "  result = ''\n",
        "\n",
        "  hidden = [tf.zeros((1, units))]\n",
        "  enc_out, enc_hidden = encoder(inputs, hidden)\n",
        "\n",
        "  dec_hidden = enc_hidden\n",
        "  dec_input = tf.expand_dims([targ_lang.word_index['<start>']], 0)\n",
        "\n",
        "  for t in range(max_length_targ):\n",
        "    predictions, dec_hidden, attention_weights = decoder(dec_input,\n",
        "                                                         dec_hidden,\n",
        "                                                         enc_out)\n",
        "\n",
        "    # storing the attention weights to plot later on\n",
        "    attention_weights = tf.reshape(attention_weights, (-1, ))\n",
        "    attention_plot[t] = attention_weights.numpy()\n",
        "\n",
        "    predicted_id = tf.argmax(predictions[0]).numpy()\n",
        "\n",
        "    result += targ_lang.index_word[predicted_id] + ' '\n",
        "\n",
        "    if targ_lang.index_word[predicted_id] == '<end>':\n",
        "      return result, sentence, attention_plot\n",
        "\n",
        "    # the predicted ID is fed back into the model\n",
        "    dec_input = tf.expand_dims([predicted_id], 0)\n",
        "\n",
        "  return result, sentence, attention_plot"
      ],
      "execution_count": null,
      "outputs": []
    },
    {
      "cell_type": "code",
      "metadata": {
        "id": "GqBySNnofBSE",
        "colab_type": "code",
        "colab": {}
      },
      "source": [
        "# function for plotting the attention weights\n",
        "def plot_attention(attention, sentence, predicted_sentence):\n",
        "  fig = plt.figure(figsize=(10,10))\n",
        "  ax = fig.add_subplot(1, 1, 1)\n",
        "  ax.matshow(attention, cmap='viridis', clim=[0,1])\n",
        "\n",
        "  fontdict = {'fontsize': 14, 'fontfamily':'lohit-devanagari'}\n",
        "\n",
        "  ax.set_xticklabels([''] + sentence, fontdict=fontdict, rotation=90)\n",
        "  ax.set_yticklabels([''] + predicted_sentence, fontdict=fontdict)\n",
        "\n",
        "  ax.xaxis.set_major_locator(ticker.MultipleLocator(1))\n",
        "  ax.yaxis.set_major_locator(ticker.MultipleLocator(1))\n",
        "\n",
        "  plt.show()"
      ],
      "execution_count": null,
      "outputs": []
    },
    {
      "cell_type": "code",
      "metadata": {
        "id": "mWpvu4aufE11",
        "colab_type": "code",
        "colab": {}
      },
      "source": [
        "def translate(sentence):\n",
        "  result, sentence, attention_plot = evaluate(sentence)\n",
        "\n",
        "  print('Input: %s' % (sentence))\n",
        "  print('Predicted translation: {}'.format(result))\n",
        "\n",
        "  attention_plot = attention_plot[:len(result.split(' ')), :len(sentence.split(' '))]\n",
        "  plot_attention(attention_plot, sentence.split(' '), result.split(' '))"
      ],
      "execution_count": null,
      "outputs": []
    },
    {
      "cell_type": "code",
      "metadata": {
        "id": "iu2S31H7zNSH",
        "colab_type": "code",
        "colab": {}
      },
      "source": [
        "import warnings\n",
        "warnings.filterwarnings(\"ignore\")"
      ],
      "execution_count": null,
      "outputs": []
    },
    {
      "cell_type": "markdown",
      "metadata": {
        "id": "GwJ5dOZ90xFK",
        "colab_type": "text"
      },
      "source": [
        "> #### Results\n",
        "\n",
        "1. Each word is used as a token.\n",
        "2. No, same words of different language are not mapped to the same index.\n",
        "3. Since, for the very first input, there is no decoder hidden state, we use the encoder hidden state as first decoder hidden state\n",
        "4. The decoder at the current time step, attends to the previous inputs according to the attention mechanism and also, takes an input from the previous time step of the decoder. Also, since there are hidden connections in the decoder, all the information from previous outputs of decoder is encoded.\n",
        "5. The encoder gives the same output for a given input sentence but since the decoder attends to the encoder hiddden states according to the attention weights, the context vector changes according to attention weights.\n",
        "6. The decoder does use teacher forcing, however due to recurrent connections between hidden units, parallel computation is not possible.\n",
        "7. Because of the presence of the variable length input, we need to mask out invalid values in the loss.\n",
        "\n",
        "**Observations**\n",
        "\n",
        "1. For Bahdanau's attention, the model seems to attend the correct tokens in the input language and to some extent for dot product attention as well. However, for luong's attention, there seems to be a problem, the sentences start repeating. Maybe the way i have implemented it might be incorrect or maybe it requires more amount of training.\n",
        "2. Because of the above reason, I do see qualitative difference in the attention weights.\n",
        "\n"
      ]
    },
    {
      "cell_type": "markdown",
      "metadata": {
        "id": "Df8QXzFIyGE3",
        "colab_type": "text"
      },
      "source": [
        "Translated using Bahdanau Attention"
      ]
    },
    {
      "cell_type": "code",
      "metadata": {
        "id": "yeknLZPkfJdm",
        "colab_type": "code",
        "colab": {
          "base_uri": "https://localhost:8080/",
          "height": 621
        },
        "outputId": "474503ec-15f0-4429-c9a9-808d64e4ccf2"
      },
      "source": [
        "translate(u'आप का नाम क्या है?')"
      ],
      "execution_count": null,
      "outputs": [
        {
          "output_type": "stream",
          "text": [
            "Input: <start> आप का नाम क्या है ? <end>\n",
            "Predicted translation: what is your name ? <end> \n"
          ],
          "name": "stdout"
        },
        {
          "output_type": "display_data",
          "data": {
            "image/png": "[encoded data removed]",
            "text/plain": [
              "<Figure size 720x720 with 1 Axes>"
            ]
          },
          "metadata": {
            "tags": [],
            "needs_background": "light"
          }
        }
      ]
    },
    {
      "cell_type": "markdown",
      "metadata": {
        "id": "G3SzAAjFyQEy",
        "colab_type": "text"
      },
      "source": [
        "Translated using Dot product Attention"
      ]
    },
    {
      "cell_type": "code",
      "metadata": {
        "id": "lLnEX_Z_yXq0",
        "colab_type": "code",
        "colab": {
          "base_uri": "https://localhost:8080/",
          "height": 676
        },
        "outputId": "2161e8e5-11a3-4b6f-cc28-c8c1f6c12a80"
      },
      "source": [
        "translate(u'आप का नाम क्या है?')"
      ],
      "execution_count": null,
      "outputs": [
        {
          "output_type": "stream",
          "text": [
            "Input: <start> आप का नाम क्या है ? <end>\n",
            "Predicted translation: what do you know this ? <end> \n"
          ],
          "name": "stdout"
        },
        {
          "output_type": "display_data",
          "data": {
            "image/png": "[encoded data removed]",
            "text/plain": [
              "<Figure size 720x720 with 1 Axes>"
            ]
          },
          "metadata": {
            "tags": [],
            "needs_background": "light"
          }
        }
      ]
    },
    {
      "cell_type": "markdown",
      "metadata": {
        "id": "mDj_n2P3yZmD",
        "colab_type": "text"
      },
      "source": [
        "Translated using Luong's Multiplicative Attention"
      ]
    },
    {
      "cell_type": "code",
      "metadata": {
        "id": "LRzVgIGsye2q",
        "colab_type": "code",
        "colab": {
          "base_uri": "https://localhost:8080/",
          "height": 696
        },
        "outputId": "645ee733-b78c-4488-b027-9a2baec7531d"
      },
      "source": [
        "translate(u'आप का नाम क्या है?')"
      ],
      "execution_count": null,
      "outputs": [
        {
          "output_type": "stream",
          "text": [
            "Input: <start> आप का नाम क्या है ? <end>\n",
            "Predicted translation: what do you do you do you do you do you do you do you do you do you do you do you do you do you do \n"
          ],
          "name": "stdout"
        },
        {
          "output_type": "display_data",
          "data": {
            "image/png": "[encoded data removed]",
            "text/plain": [
              "<Figure size 720x720 with 1 Axes>"
            ]
          },
          "metadata": {
            "tags": [],
            "needs_background": "light"
          }
        }
      ]
    },
    {
      "cell_type": "markdown",
      "metadata": {
        "id": "pLTI7Szy-57M",
        "colab_type": "text"
      },
      "source": [
        "# 7.0 What did you learn: Manish Bhandari Vipinraj Bhandari\n",
        "\n",
        "I did task 4: Introspection and task 5: NTM\n",
        "\n",
        "1. Gradient based saliency map showed the expected results and so did Bahdanau's attention. I'd expected saliency maps to hightlight the important areas and attention weights to attend proper token and it worked as expected.\n",
        "2. I expected luong's multiplicative attention to work on similar lines with Bahdanau's attention with same amount of training. However, the former requires more amount of training to give proper results which was bit suprising.\n",
        "Also, it was interesting to see how a random image can be optimised to correspond to a particular class in introspection task.\n",
        "3. Both the tasks were moderately easy give the instructions and the tensorflow tutorials.\n",
        "4. I think, somehow, my implementation of dot product and Luong's attention is not entirely correct. Mathematically, they seem to be correct and I've implemented them according to what was available in slides and online but it doesn't give the same results as Bahdanau. Maybe a heads up regarding that would have be helpful."
      ]
    }
  ]
}