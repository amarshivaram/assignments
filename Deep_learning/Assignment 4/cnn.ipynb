{
 "cells": [
  {
   "cell_type": "code",
   "execution_count": 0,
   "metadata": {
    "cellView": "form",
    "colab": {},
    "colab_type": "code",
    "id": "VGlPfrD06C-u"
   },
   "outputs": [],
   "source": [
    "#@title Libraries\n",
    "%tensorflow_version 2.x\n",
    "import tensorflow as tf\n",
    "from tensorflow import keras\n",
    "#from tensorflow.keras import Sequential\n",
    "#from tensorflow.keras.layers import Flatten, Dense, MaxPool2D\n",
    "\n",
    "import numpy as np\n",
    "import matplotlib.pyplot as plt\n",
    "import os\n",
    "\n",
    "os.getcwd()\n",
    "os.chdir(\"/content/drive/My Drive/Colab Notebooks\")"
   ]
  },
  {
   "cell_type": "code",
   "execution_count": 0,
   "metadata": {
    "cellView": "form",
    "colab": {},
    "colab_type": "code",
    "id": "oIBYYJ_i78pY"
   },
   "outputs": [],
   "source": [
    "#@title MNIST: Train accuracy: 96.66, Test accuracy: 98.67\n",
    "\n",
    "mnist = keras.datasets.mnist\n",
    "(train_images, train_labels), (test_images, test_labels) =mnist.load_data() \n",
    "# print(train_labels[0])\n",
    "# plt.imshow(train_images[0], cmap= 'Greys_r')\n",
    "data = tf.data.Dataset.from_tensor_slices(\n",
    "    (train_images.reshape([-1,28,28,1]).astype(np.float32)/255,train_labels.astype(np.int32)))\n",
    "data_mnist = data.shuffle(buffer_size =120000).batch(128).repeat(4)\n",
    "\n",
    "test_data_mnist = tf.data.Dataset.from_tensor_slices(\n",
    "    (test_images.reshape([-1,28,28,1]).astype(np.float32)/255, test_labels.astype(np.int32))).batch(128)\n"
   ]
  },
  {
   "cell_type": "code",
   "execution_count": 0,
   "metadata": {
    "cellView": "form",
    "colab": {},
    "colab_type": "code",
    "id": "zlwNV8kXiNDT"
   },
   "outputs": [],
   "source": [
    "#@title Fashion MNIST: Train accuracy : 96.21, Test accuracy : 98.08\n",
    "fashion_mnist = keras.datasets.fashion_mnist\n",
    "(train_images, train_labels), (test_images, test_labels) =mnist.load_data() \n",
    "# print(train_labels[0])\n",
    "# plt.imshow(train_images[0], cmap= 'Greys_r')\n",
    "data = tf.data.Dataset.from_tensor_slices(\n",
    "    (train_images.reshape([-1,28,28,1]).astype(np.float32)/255,train_labels.astype(np.int32)))\n",
    "data_fmnist = data.shuffle(buffer_size =120000).batch(128).repeat(4)\n",
    "\n",
    "test_data_fmnist = tf.data.Dataset.from_tensor_slices(\n",
    "    (test_images.reshape([-1,28,28,1]).astype(np.float32)/255, test_labels.astype(np.int32))).batch(128)"
   ]
  },
  {
   "cell_type": "code",
   "execution_count": 0,
   "metadata": {
    "cellView": "form",
    "colab": {},
    "colab_type": "code",
    "id": "2m0zInal8fOj"
   },
   "outputs": [],
   "source": [
    "#@title Model for MNIST and Fashion MNIST\n",
    "model_mnist = keras.Sequential([keras.layers.Conv2D(filters= 16,kernel_size=[5,5],kernel_initializer = keras.initializers.RandomUniform(minval=-0.05, maxval=0.05, seed=None),use_bias = True,bias_initializer='zeros',padding = 'same',activation = 'relu',input_shape=(28,28,1)),\n",
    "                          keras.layers.MaxPool2D(pool_size=(2,2),padding='same'),\n",
    "                          keras.layers.Conv2D(filters= 32,kernel_size=[5,5],kernel_initializer = keras.initializers.RandomUniform(minval=-0.05, maxval=0.05, seed=None),use_bias = True,bias_initializer='zeros',padding = 'same',activation = 'relu'),\n",
    "                          keras.layers.MaxPool2D(pool_size=(2,2),padding='same'),\n",
    "                          keras.layers.Flatten(),\n",
    "                          keras.layers.Dense(10,use_bias= True,bias_initializer='zeros' )\n",
    "                          ])"
   ]
  },
  {
   "cell_type": "markdown",
   "metadata": {
    "colab_type": "text",
    "id": "Wz_mvHgWyiDV"
   },
   "source": [
    "Observations on CIFAR\n",
    "\n",
    "1. con(32,5,5), MaxPool(2,2),con(64,5,5),MaxPool(2,2), con(64,5,5),Dense(64), Dense(10), all weights initilized (-0.05,0.05): Train accuracy: 52.71%\n",
    "\n",
    "2. con(32,5,5), MaxPool(2,2),con(64,5,5),MaxPool(2,2), con(64,5,5),Dense(64), Dense(10), all cov weights initilized (-0.05,0.05) and dense weights (-0.1:0.1): Train accuracy:Train accuracy: 57.33%\n",
    "\n",
    "3. con(32,5,5), MaxPool(2,2),con(64,5,5),MaxPool(2,2), con(64,5,5),Dense(64), Dense(10), all cov weights initilized (-0.1,0.1) and dense weights (-0.1:0.1): Train accuracy:Train accuracy :61.34 %\n",
    "\n",
    "4. con(32,5,5), MaxPool(2,2),con(64,5,5),MaxPool(2,2), con(64,5,5),Dense(64), Dense(10), all cov weights initilized (-1,1) and dense weights (-0.1:0.1): Train accuracy: Train accuracy: 10%\n",
    "\n",
    "5. con(32,5,5), MaxPool(2,2),con(64,5,5),MaxPool(2,2), con(64,5,5),Dense(64), Dense(10), all cov weights initilized (-0.5,0.5) and dense weights (-0.1:0.1): Train accuracy: Train accuracy: 24.43%\n",
    "\n",
    "upto here, all activation was relu in every layer.\n",
    "\n",
    "6. con(32,5,5), MaxPool(2,2),con(64,5,5),MaxPool(2,2), con(64,5,5),Dense(64), Dense(10), all cov weights initilized (-0.1,0.1) and dense weights (-0.1:0.1), all cov activation as tanh: Train accuracy: 59.49 %\n",
    "\n",
    "7. con(32,5,5), MaxPool(2,2),con(64,5,5),MaxPool(2,2), con(64,5,5),Dense(64), Dense(10), all cov weights initilized (-0.1,0.1) and dense weights (-0.1:0.1), all dense activation as tanh: Train accuracy: 61.9 %\n",
    "\n",
    " "
   ]
  },
  {
   "cell_type": "code",
   "execution_count": 0,
   "metadata": {
    "cellView": "code",
    "colab": {},
    "colab_type": "code",
    "id": "oEOXLG85mi70"
   },
   "outputs": [],
   "source": [
    "#@title CIFAR10 Train accuracy: , Test accuracy: \n",
    "cifar10 = keras.datasets.cifar10\n",
    "(train_images, train_labels), (test_images, test_labels) =cifar10.load_data() \n",
    "# print(train_labels[0])\n",
    "# plt.imshow(train_images[0], cmap= 'Greys_r')\n",
    "data = tf.data.Dataset.from_tensor_slices(\n",
    "    (train_images.reshape([-1,32,32,3]).astype(np.float32)/255,train_labels.reshape([-1,]).astype(np.int32)))\n",
    "data_cifar10 = data.shuffle(buffer_size =120000).batch(128).repeat(100)\n",
    "\n",
    "test_data_cifar10 = tf.data.Dataset.from_tensor_slices(\n",
    "    (test_images.reshape([-1,32,32,3]).astype(np.float32)/255, test_labels.reshape([-1,]).astype(np.int32))).batch(128)"
   ]
  },
  {
   "cell_type": "code",
   "execution_count": 0,
   "metadata": {
    "cellView": "form",
    "colab": {},
    "colab_type": "code",
    "id": "3Bgf8Xi_ntwQ"
   },
   "outputs": [],
   "source": [
    "#@title Model for CIFAR\n",
    "model_cifar = keras.Sequential([keras.layers.Conv2D(filters= 32,kernel_size=[3,3],kernel_initializer = keras.initializers.RandomUniform(minval=-0.1, maxval=0.1, seed=None),use_bias = True,bias_initializer='zeros',padding = 'same',activation = 'relu',input_shape=(32,32,3)),                                    \n",
    "                          keras.layers.Conv2D(filters= 32,kernel_size=[3,3],kernel_initializer = keras.initializers.RandomUniform(minval=-0.1, maxval=0.1, seed=None),use_bias = True,bias_initializer='zeros',padding = 'same',activation = 'relu'),\n",
    "                          keras.layers.MaxPool2D(pool_size=(2,2),strides= 2,padding='same'),\n",
    "                          \n",
    "                          keras.layers.Conv2D(filters= 64,kernel_size=[3,3],kernel_initializer = keras.initializers.RandomUniform(minval=-0.1, maxval=0.1, seed=None),use_bias = True,bias_initializer='zeros',padding = 'same',activation = 'relu'),\n",
    "                          keras.layers.Conv2D(filters= 64,kernel_size=[3,3],kernel_initializer = keras.initializers.RandomUniform(minval=-0.1, maxval=0.1, seed=None),use_bias = True,bias_initializer='zeros',padding = 'same',activation = 'relu'),\n",
    "                          keras.layers.MaxPool2D(pool_size=(2,2),strides= 2,padding='same'),                          \n",
    "                          \n",
    "                          keras.layers.Flatten(),\n",
    "                          \n",
    "                          keras.layers.Dense(64,kernel_initializer = keras.initializers.RandomUniform(minval=-0.1, maxval=0.1, seed=None),use_bias= True,bias_initializer='zeros', activation='tanh' ),\n",
    "                          keras.layers.Dense(10,kernel_initializer = keras.initializers.RandomUniform(minval=-0.1, maxval=0.1, seed=None),use_bias= True,bias_initializer='zeros' )\n",
    "                          ])"
   ]
  },
  {
   "cell_type": "code",
   "execution_count": 0,
   "metadata": {
    "cellView": "form",
    "colab": {},
    "colab_type": "code",
    "id": "cIVQxzHtUihb"
   },
   "outputs": [],
   "source": [
    "#@title Densenet for CIFAR\n",
    "img_input = keras.Input(shape = (32,32,3))\n",
    "layer1 = keras.layers.Conv2D( filters= 32,kernel_size=[2,2],kernel_initializer = keras.initializers.RandomUniform(minval=-0.1, maxval=0.1, seed=None),use_bias = True,bias_initializer='zeros',padding = 'same',activation = 'relu',input_shape=(32,32,3))(img_input)\n",
    "droupout1= keras.layers.Dropout(0.2)(layer1)\n",
    "\n",
    "#startdense block 1\n",
    "layerD11 = keras.layers.Conv2D(filters= 32,kernel_size=[2,2],kernel_initializer = keras.initializers.RandomUniform(minval=-0.1, maxval=0.1, seed=None),use_bias = True,bias_initializer='zeros',padding = 'same',activation='relu')(droupout1)\n",
    "layerD12 = keras.layers.Conv2D(filters= 32,kernel_size=[2,2],kernel_initializer = keras.initializers.RandomUniform(minval=-0.1, maxval=0.1, seed=None),use_bias = True,bias_initializer='zeros',padding = 'same',activation='relu')(keras.layers.concatenate((droupout1, layerD11), axis = 3))\n",
    "layerD13 = keras.layers.Conv2D(filters= 32,kernel_size=[2,2],kernel_initializer = keras.initializers.RandomUniform(minval=-0.1, maxval=0.1, seed=None),use_bias = True,bias_initializer='zeros',padding = 'same',activation='relu')(keras.layers.concatenate((droupout1, layerD11,layerD12), axis = 3))\n",
    "layerD14 = keras.layers.Conv2D(filters= 32,kernel_size=[2,2],kernel_initializer = keras.initializers.RandomUniform(minval=-0.1, maxval=0.1, seed=None),use_bias = True,bias_initializer='zeros',padding = 'same',activation='relu')(keras.layers.concatenate((droupout1, layerD11,layerD12, layerD13), axis = 3))\n",
    "layerD15 = keras.layers.Conv2D(filters= 32,kernel_size=[2,2],kernel_initializer = keras.initializers.RandomUniform(minval=-0.1, maxval=0.1, seed=None),use_bias = True,bias_initializer='zeros',padding = 'same',activation='relu')(keras.layers.concatenate((droupout1, layerD11,layerD12, layerD13, layerD14), axis = 3))\n",
    "\n",
    "layer2 = keras.layers.Conv2D(strides = 2, filters= 64,kernel_size=[2,2],kernel_initializer = keras.initializers.RandomUniform(minval=-0.1, maxval=0.1, seed=None),use_bias = True,bias_initializer='zeros',padding = 'same',activation = 'relu')(layerD15)\n",
    "droupout2= keras.layers.Dropout(0.3)(layer2)\n",
    "#layer3 = keras.layers.Conv2D(strides = 2,filters= 64,kernel_size=[2,2],kernel_initializer = keras.initializers.RandomUniform(minval=-0.1, maxval=0.1, seed=None),use_bias = True,bias_initializer='zeros',padding = 'same',activation = 'relu')(layer2)\n",
    "#keras.layers.MaxPool2D(pool_size=(2,2),strides= 2,padding='same'),\n",
    "\n",
    "#startdense block 2\n",
    "layerD21 = keras.layers.Conv2D(filters= 32,kernel_size=[2,2],kernel_initializer = keras.initializers.RandomUniform(minval=-0.1, maxval=0.1, seed=None),use_bias = True,bias_initializer='zeros',padding = 'same',activation='relu')(droupout2)\n",
    "layerD22 = keras.layers.Conv2D(filters= 32,kernel_size=[2,2],kernel_initializer = keras.initializers.RandomUniform(minval=-0.1, maxval=0.1, seed=None),use_bias = True,bias_initializer='zeros',padding = 'same',activation='relu')(keras.layers.concatenate((droupout2, layerD21), axis = 3))\n",
    "layerD23 = keras.layers.Conv2D(filters= 32,kernel_size=[2,2],kernel_initializer = keras.initializers.RandomUniform(minval=-0.1, maxval=0.1, seed=None),use_bias = True,bias_initializer='zeros',padding = 'same',activation='relu')(keras.layers.concatenate((droupout2, layerD21,layerD22), axis = 3))\n",
    "layerD24 = keras.layers.Conv2D(filters= 32,kernel_size=[2,2],kernel_initializer = keras.initializers.RandomUniform(minval=-0.1, maxval=0.1, seed=None),use_bias = True,bias_initializer='zeros',padding = 'same',activation='relu')(keras.layers.concatenate((droupout2, layerD21,layerD22, layerD23), axis = 3))\n",
    "layerD25 = keras.layers.Conv2D(filters= 32,kernel_size=[2,2],kernel_initializer = keras.initializers.RandomUniform(minval=-0.1, maxval=0.1, seed=None),use_bias = True,bias_initializer='zeros',padding = 'same',activation='relu')(keras.layers.concatenate((droupout2, layerD21,layerD22, layerD23, layerD24), axis = 3))\n",
    "\n",
    "layer3 = keras.layers.Conv2D(strides = 2, filters= 64,kernel_size=[2,2],kernel_initializer = keras.initializers.RandomUniform(minval=-0.1, maxval=0.1, seed=None),use_bias = True,bias_initializer='zeros',padding = 'same',activation = 'relu')(layerD25)\n",
    "droupout3= keras.layers.Dropout(0.4)(layer3)\n",
    "\n",
    "#startdense block 3\n",
    "layerD31 = keras.layers.Conv2D(filters= 32,kernel_size=[2,2],kernel_initializer = keras.initializers.RandomUniform(minval=-0.1, maxval=0.1, seed=None),use_bias = True,bias_initializer='zeros',padding = 'same',activation='relu')(droupout3)\n",
    "layerD32 = keras.layers.Conv2D(filters= 32,kernel_size=[2,2],kernel_initializer = keras.initializers.RandomUniform(minval=-0.1, maxval=0.1, seed=None),use_bias = True,bias_initializer='zeros',padding = 'same',activation='relu')(keras.layers.concatenate((droupout3, layerD31), axis = 3))\n",
    "layerD33 = keras.layers.Conv2D(filters= 32,kernel_size=[2,2],kernel_initializer = keras.initializers.RandomUniform(minval=-0.1, maxval=0.1, seed=None),use_bias = True,bias_initializer='zeros',padding = 'same',activation='relu')(keras.layers.concatenate((droupout3, layerD31,layerD32), axis = 3))\n",
    "layerD34 = keras.layers.Conv2D(filters= 32,kernel_size=[2,2],kernel_initializer = keras.initializers.RandomUniform(minval=-0.1, maxval=0.1, seed=None),use_bias = True,bias_initializer='zeros',padding = 'same',activation='relu')(keras.layers.concatenate((droupout3, layerD31,layerD32, layerD33), axis = 3))\n",
    "layerD35 = keras.layers.Conv2D(filters= 32,kernel_size=[2,2],kernel_initializer = keras.initializers.RandomUniform(minval=-0.1, maxval=0.1, seed=None),use_bias = True,bias_initializer='zeros',padding = 'same',activation='relu')(keras.layers.concatenate((droupout3, layerD31,layerD32, layerD33, layerD34), axis = 3))\n",
    "\n",
    "\n",
    "layer = keras.layers.Flatten()(layerD35)\n",
    "\n",
    "#layerd1 = keras.layers.Dense(64,kernel_initializer = keras.initializers.RandomUniform(minval=-0.1, maxval=0.1, seed=None),use_bias= True,bias_initializer='zeros', activation='tanh' )(layer)\n",
    "img_output= keras.layers.Dense(10,kernel_initializer = keras.initializers.RandomUniform(minval=-0.1, maxval=0.1, seed=None),use_bias= True,bias_initializer='zeros' )(layer)\n"
   ]
  },
  {
   "cell_type": "code",
   "execution_count": 0,
   "metadata": {
    "colab": {},
    "colab_type": "code",
    "id": "QU54m7zkrTX4"
   },
   "outputs": [],
   "source": [
    "model_cifar = keras.Model(img_input, img_output, name = 'try')"
   ]
  },
  {
   "cell_type": "code",
   "execution_count": 0,
   "metadata": {
    "colab": {},
    "colab_type": "code",
    "id": "vLUs6kvrr0lP"
   },
   "outputs": [],
   "source": [
    "model_cifar.summary()"
   ]
  },
  {
   "cell_type": "code",
   "execution_count": 0,
   "metadata": {
    "colab": {},
    "colab_type": "code",
    "id": "durgY-1p-XTm"
   },
   "outputs": [],
   "source": [
    "model_cifar.compile(optimizer= 'adam',\n",
    "              loss = tf.keras.losses.SparseCategoricalCrossentropy(from_logits= True),\n",
    "              metrics = ['accuracy'])"
   ]
  },
  {
   "cell_type": "code",
   "execution_count": 0,
   "metadata": {
    "colab": {
     "base_uri": "https://localhost:8080/",
     "height": 52
    },
    "colab_type": "code",
    "executionInfo": {
     "elapsed": 5817016,
     "status": "ok",
     "timestamp": 1589447127395,
     "user": {
      "displayName": "Manish Bhandari",
      "photoUrl": "https://lh3.googleusercontent.com/a-/AOh14Gj3UFCAW-r8cJBfqGIIVERoai8y8pHog0151LIdMg=s64",
      "userId": "05147973307681278030"
     },
     "user_tz": -120
    },
    "id": "uxC2EimdVy5a",
    "outputId": "fb61d9c8-871f-4e9d-fbc6-56f12fee705a"
   },
   "outputs": [
    {
     "name": "stdout",
     "output_type": "stream",
     "text": [
      "39100/39100 [==============================] - 5807s 149ms/step - loss: 0.4699 - accuracy: 0.8320\n"
     ]
    },
    {
     "data": {
      "text/plain": [
       "<tensorflow.python.keras.callbacks.History at 0x7fa452ef1390>"
      ]
     },
     "execution_count": 11,
     "metadata": {
      "tags": []
     },
     "output_type": "execute_result"
    }
   ],
   "source": [
    "model_cifar.fit(data_cifar10)"
   ]
  },
  {
   "cell_type": "code",
   "execution_count": 12,
   "metadata": {
    "colab": {
     "base_uri": "https://localhost:8080/",
     "height": 35
    },
    "colab_type": "code",
    "executionInfo": {
     "elapsed": 5856,
     "status": "ok",
     "timestamp": 1589448079999,
     "user": {
      "displayName": "Manish Bhandari",
      "photoUrl": "https://lh3.googleusercontent.com/a-/AOh14Gj3UFCAW-r8cJBfqGIIVERoai8y8pHog0151LIdMg=s64",
      "userId": "05147973307681278030"
     },
     "user_tz": -120
    },
    "id": "QssohOlCdR0c",
    "outputId": "5af49170-b379-45ce-f4b3-42439716c285"
   },
   "outputs": [
    {
     "name": "stdout",
     "output_type": "stream",
     "text": [
      "Test acc: 0.7820000052452087\n"
     ]
    }
   ],
   "source": [
    "# accuracy = []\n",
    "# for img_batch, lbl_batch in test_data_cifar10:\n",
    "#     test_loss, test_accuracy = model_cifar.evaluate(test_data_cifar10)\n",
    "#     acc = test_accuracy\n",
    "#     accuracy.append(acc)\n",
    "# print(np.mean(accuracy))\n",
    "\n",
    "#     #print('\\n Test accuracy: ', test_accuracy)\n",
    "\n",
    "\n",
    "test_acc_metric = tf.keras.metrics.SparseCategoricalAccuracy()\n",
    "for img_batch, lbl_batch in test_data_cifar10:\n",
    "    test_acc_metric(lbl_batch, model_cifar(img_batch))\n",
    "print(\"Test acc: {}\".format(test_acc_metric.result()))"
   ]
  }
 ],
 "metadata": {
  "accelerator": "GPU",
  "colab": {
   "authorship_tag": "ABX9TyPaQZWaE+xnGtOQkzGGsteE",
   "collapsed_sections": [],
   "mount_file_id": "1yV5BNtsWBBXO1_F51MV59SIt2ByeHiSL",
   "name": "cnn.ipynb",
   "provenance": []
  },
  "kernelspec": {
   "display_name": "Python 3",
   "language": "python",
   "name": "python3"
  },
  "language_info": {
   "codemirror_mode": {
    "name": "ipython",
    "version": 3
   },
   "file_extension": ".py",
   "mimetype": "text/x-python",
   "name": "python",
   "nbconvert_exporter": "python",
   "pygments_lexer": "ipython3",
   "version": "3.7.3"
  }
 },
 "nbformat": 4,
 "nbformat_minor": 1
}
