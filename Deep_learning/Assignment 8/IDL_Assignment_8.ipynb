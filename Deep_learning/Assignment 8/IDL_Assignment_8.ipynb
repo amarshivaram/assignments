{
  "cells": [
    {
      "cell_type": "code",
      "execution_count": null,
      "metadata": {
        "colab": {},
        "colab_type": "code",
        "id": "n1j-vLhiKHDu"
      },
      "outputs": [],
      "source": []
    },
    {
      "cell_type": "code",
      "execution_count": null,
      "metadata": {},
      "outputs": [],
      "source": [
        "%tensorflow_version 2.x\n",
        "import tensorflow as tf\n",
        "from tensorflow import keras\n",
        "import numpy as np\n",
        "import matplotlib.pyplot as plt\n",
        "import os\n",
        "\n",
        "os.getcwd()\n",
        "os.chdir(\"/content/drive/My Drive/Colab Notebooks\")"
      ]
    },
    {
      "cell_type": "code",
      "execution_count": 3,
      "metadata": {
        "colab": {
          "base_uri": "https://localhost:8080/",
          "height": 156
        },
        "colab_type": "code",
        "id": "hvQTvYvPKlkQ",
        "outputId": "0d16bab2-1b48-4ea5-f631-b37278c81f98"
      },
      "outputs": [
        {
          "name": "stdout",
          "output_type": "stream",
          "text": [
            "Downloading data from https://storage.googleapis.com/tensorflow/tf-keras-datasets/train-labels-idx1-ubyte.gz\n",
            "32768/29515 [=================================] - 0s 0us/step\n",
            "Downloading data from https://storage.googleapis.com/tensorflow/tf-keras-datasets/train-images-idx3-ubyte.gz\n",
            "26427392/26421880 [==============================] - 0s 0us/step\n",
            "Downloading data from https://storage.googleapis.com/tensorflow/tf-keras-datasets/t10k-labels-idx1-ubyte.gz\n",
            "8192/5148 [===============================================] - 0s 0us/step\n",
            "Downloading data from https://storage.googleapis.com/tensorflow/tf-keras-datasets/t10k-images-idx3-ubyte.gz\n",
            "4423680/4422102 [==============================] - 0s 0us/step\n"
          ]
        }
      ],
      "source": [
        "fashion_mnist = keras.datasets.fashion_mnist\n",
        "(train_images, train_labels), (test_images, test_labels) = fashion_mnist.load_data()"
      ]
    },
    {
      "cell_type": "markdown",
      "metadata": {
        "colab_type": "text",
        "id": "9yLJcuwAkfHR"
      },
      "source": [
        "Loss: MSE, epochs = 5\n",
        "1. No activation in last layer, loss = 0.0871\n",
        "2. Sigmoid in last layer, loss = 0.0871\n",
        "3. tanh in last layer, loss = 0.0872\n",
        "4. relu in last layer, loss = 0.1056\n",
        "\n"
      ]
    },
    {
      "cell_type": "code",
      "execution_count": null,
      "metadata": {
        "colab": {},
        "colab_type": "code",
        "id": "4vqNI3QTLqvT"
      },
      "outputs": [],
      "source": [
        "data = tf.data.Dataset.from_tensor_slices((\n",
        "    (train_images.astype(np.float32)/255),(train_images.astype(np.float32)/255)))\n",
        "data_fmnist = data.shuffle(buffer_size =120000).batch(128)\n",
        "test_data_fmnist = tf.data.Dataset.from_tensor_slices(\n",
        "    ((test_images.astype(np.float32)/255), (test_images.astype(np.float32)/255))).batch(128)"
      ]
    },
    {
      "cell_type": "code",
      "execution_count": null,
      "metadata": {
        "colab": {},
        "colab_type": "code",
        "id": "yxuR8_bTOV7U"
      },
      "outputs": [],
      "source": [
        "model_dense = keras.models.Sequential([keras.layers.Flatten(),\n",
        "                                keras.layers.Dense(392, activation=tf.nn.relu),\n",
        "                                keras.layers.Dense(128, activation=tf.nn.relu),\n",
        "                                keras.layers.Dense(64, activation= tf.nn.relu, name= 'encoder'),\n",
        "                                keras.layers.Dense(64, activation= tf.nn.relu),\n",
        "                                keras.layers.Dense(128, activation= tf.nn.relu),\n",
        "                                keras.layers.Dense(392, activation= tf.nn.relu),\n",
        "                                keras.layers.Dense(784, activation= tf.nn.relu),\n",
        "                                keras.layers.Reshape((-1,28,28))]\n",
        "                                )"
      ]
    },
    {
      "cell_type": "code",
      "execution_count": null,
      "metadata": {
        "colab": {},
        "colab_type": "code",
        "id": "y6nvTHm9u1TP"
      },
      "outputs": [],
      "source": [
        "model.compile(optimizer= 'adam',\n",
        "              loss = tf.losses.mean_squared_error\n",
        "              )"
      ]
    },
    {
      "cell_type": "code",
      "execution_count": null,
      "metadata": {
        "colab": {},
        "colab_type": "code",
        "id": "uGEsoTw2u8qJ"
      },
      "outputs": [],
      "source": [
        "model_dense.fit(data_fmnist,epochs= 5)\n"
      ]
    },
    {
      "cell_type": "code",
      "execution_count": null,
      "metadata": {
        "colab": {},
        "colab_type": "code",
        "id": "dvKQ9q631-i7"
      },
      "outputs": [],
      "source": [
        "#reconstructing image of the last layer of decoder\n",
        "\n",
        "test_data_fmnist = ((test_images.astype(np.float32)/255))\n",
        "output = model_dense(test_data_fmnist)\n",
        "image = output[9999]\n",
        "image = tf.squeeze(image, 0)\n",
        "plt.imshow(image)"
      ]
    },
    {
      "cell_type": "markdown",
      "metadata": {
        "colab_type": "text",
        "id": "MHbmylHpuJuI"
      },
      "source": [
        "Loss: MSE, epochs = 5, Conv2DTranspose\n",
        "1. No activation in last layer, loss = 1.1374e-05\n",
        "2. Sigmoid in last layer, loss = 5.6050e-04\n",
        "3. tanh in last layer, loss = 1.4835e-04\n",
        "4. relu in last layer, loss = 3.9464e-05\n",
        "\n",
        "Loss: MSE, epochs = 5, Upsample\n",
        "\n",
        "1. No activation in last layer, loss = 0.0031\n",
        "2. Sigmoid in last layer, loss = 0.0032\n",
        "3. tanh in last layer, loss = 0.0031\n",
        "4. relu in last layer, loss = 0.0033"
      ]
    },
    {
      "cell_type": "markdown",
      "metadata": {
        "colab_type": "text",
        "id": "dwivMLX4HYkI"
      },
      "source": [
        "cnn_Transpose\n",
        "\n",
        "![image.png](data:image/png;base64,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)\n",
        "\n",
        "relu\n",
        "\n",
        "![image.png](data:image/png;base64,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)\n",
        "\n",
        "tanh\n",
        "\n",
        "![image.png](data:image/png;base64,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)\n",
        "\n",
        "sigmoid\n",
        "\n",
        "![image.png](data:image/png;base64,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)\n",
        "\n",
        "no activation"
      ]
    },
    {
      "cell_type": "markdown",
      "metadata": {
        "colab_type": "text",
        "id": "UkSSIH3KEoPk"
      },
      "source": [
        "cnn_upsampling\n",
        "\n",
        "![image.png](data:image/png;base64,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)\n",
        "\n",
        "tanh\n",
        "\n",
        "![image.png](data:image/png;base64,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)\n",
        "\n",
        "sigmoid\n",
        "\n",
        "![image.png](data:image/png;base64,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)\n",
        "\n",
        "relu\n",
        "\n",
        "![image.png](data:image/png;base64,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)\n",
        "\n",
        "no activation\n",
        "\n"
      ]
    },
    {
      "cell_type": "code",
      "execution_count": null,
      "metadata": {
        "colab": {},
        "colab_type": "code",
        "id": "fgX59XM6sij1"
      },
      "outputs": [],
      "source": [
        "data = tf.data.Dataset.from_tensor_slices(\n",
        "    (train_images.reshape([-1,28,28,1]).astype(np.float32)/255,train_images.reshape([-1,28,28,1]).astype(np.float32)/255,))\n",
        "data_fmnist = data.shuffle(buffer_size =120000).batch(128)\n",
        "\n",
        "test_data_fmnist = tf.data.Dataset.from_tensor_slices(\n",
        "    (test_images.reshape([-1,28,28,1]).astype(np.float32)/255, test_images.reshape([-1,28,28,1]).astype(np.float32)/255)).batch(128)"
      ]
    },
    {
      "cell_type": "code",
      "execution_count": null,
      "metadata": {
        "colab": {},
        "colab_type": "code",
        "id": "QWI3WhhNmWk5"
      },
      "outputs": [],
      "source": [
        "model_cnn_t = keras.Sequential([keras.layers.Conv2D(filters= 16,kernel_size=[3,3],kernel_initializer = keras.initializers.RandomUniform(minval=-0.05, maxval=0.05, seed=None),use_bias = True,bias_initializer='zeros',padding = 'same',activation = 'relu',input_shape=(28,28,1)),\n",
        "                          keras.layers.Conv2D(filters= 32,kernel_size=[3,3],kernel_initializer = keras.initializers.RandomUniform(minval=-0.05, maxval=0.05, seed=None),use_bias = True,bias_initializer='zeros',padding = 'same',activation = 'relu'),\n",
        "                          keras.layers.Conv2DTranspose(filters=1, kernel_size=[3,3],kernel_initializer = keras.initializers.RandomUniform(minval=-0.05, maxval=0.05, seed=None),use_bias = True,bias_initializer='zeros',padding = 'same',activation = 'sigmoid')\n",
        "                          ])"
      ]
    },
    {
      "cell_type": "code",
      "execution_count": null,
      "metadata": {
        "colab": {},
        "colab_type": "code",
        "id": "88JxHH9kvcCx"
      },
      "outputs": [],
      "source": [
        "model_cnn_up = keras.Sequential([keras.layers.Conv2D(filters= 16,kernel_size=[3,3],kernel_initializer = keras.initializers.RandomUniform(minval=-0.05, maxval=0.05, seed=None),use_bias = True,bias_initializer='zeros',padding = 'same',activation = 'relu',input_shape=(28,28,1)),\n",
        "                           keras.layers.MaxPool2D(pool_size=(2,2),padding='same'),\n",
        "                          keras.layers.Conv2D(filters= 32,kernel_size=[3,3],kernel_initializer = keras.initializers.RandomUniform(minval=-0.05, maxval=0.05, seed=None),use_bias = True,bias_initializer='zeros',padding = 'same',activation = 'relu'),\n",
        "                          keras.layers.UpSampling2D(size= (2,2)),\n",
        "                          keras.layers.Conv2D(filters=1, kernel_size=[3,3],kernel_initializer = keras.initializers.RandomUniform(minval=-0.05, maxval=0.05, seed=None),use_bias = True,bias_initializer='zeros',padding = 'same',activation = 'tanh')\n",
        "                          ])"
      ]
    },
    {
      "cell_type": "code",
      "execution_count": null,
      "metadata": {
        "colab": {},
        "colab_type": "code",
        "id": "AcKdZbdbVSx0"
      },
      "outputs": [],
      "source": [
        "model_cnn_t.compile(optimizer= 'adam',\n",
        "              loss = tf.losses.mean_squared_error\n",
        "              )"
      ]
    },
    {
      "cell_type": "code",
      "execution_count": null,
      "metadata": {
        "colab": {
          "base_uri": "https://localhost:8080/",
          "height": 329
        },
        "colab_type": "code",
        "id": "owjcF25Sn23a",
        "outputId": "9d0bde0e-20c3-4913-b4be-9f3899d99e19"
      },
      "outputs": [
        {
          "name": "stdout",
          "output_type": "stream",
          "text": [
            "Model: \"sequential_37\"\n",
            "_________________________________________________________________\n",
            "Layer (type)                 Output Shape              Param #   \n",
            "=================================================================\n",
            "conv2d_51 (Conv2D)           (None, 28, 28, 16)        160       \n",
            "_________________________________________________________________\n",
            "max_pooling2d_9 (MaxPooling2 (None, 14, 14, 16)        0         \n",
            "_________________________________________________________________\n",
            "conv2d_52 (Conv2D)           (None, 14, 14, 32)        4640      \n",
            "_________________________________________________________________\n",
            "up_sampling2d_7 (UpSampling2 (None, 28, 28, 32)        0         \n",
            "_________________________________________________________________\n",
            "conv2d_53 (Conv2D)           (None, 28, 28, 1)         289       \n",
            "=================================================================\n",
            "Total params: 5,089\n",
            "Trainable params: 5,089\n",
            "Non-trainable params: 0\n",
            "_________________________________________________________________\n"
          ]
        }
      ],
      "source": [
        "model_cnn_t.summary()"
      ]
    },
    {
      "cell_type": "code",
      "execution_count": null,
      "metadata": {
        "colab": {
          "base_uri": "https://localhost:8080/",
          "height": 208
        },
        "colab_type": "code",
        "id": "ECPNAbYCWuqE",
        "outputId": "02747488-7347-4486-94bb-184f12a6de7a"
      },
      "outputs": [
        {
          "name": "stdout",
          "output_type": "stream",
          "text": [
            "Epoch 1/5\n",
            "469/469 [==============================] - 4s 9ms/step - loss: 0.0099\n",
            "Epoch 2/5\n",
            "469/469 [==============================] - 4s 9ms/step - loss: 1.7073e-04\n",
            "Epoch 3/5\n",
            "469/469 [==============================] - 4s 9ms/step - loss: 1.1467e-04\n",
            "Epoch 4/5\n",
            "469/469 [==============================] - 4s 9ms/step - loss: 9.3986e-05\n",
            "Epoch 5/5\n",
            "469/469 [==============================] - 4s 9ms/step - loss: 6.7368e-05\n"
          ]
        },
        {
          "data": {
            "text/plain": [
              "<tensorflow.python.keras.callbacks.History at 0x7f71c68e8128>"
            ]
          },
          "execution_count": 226,
          "metadata": {
            "tags": []
          },
          "output_type": "execute_result"
        }
      ],
      "source": [
        "model_cnn_t.fit(data_fmnist, epochs= 5)"
      ]
    },
    {
      "cell_type": "code",
      "execution_count": null,
      "metadata": {
        "colab": {},
        "colab_type": "code",
        "id": "s0OTuRRZENJs"
      },
      "outputs": [],
      "source": [
        "#reconstructing image of the last layer of decoder\n",
        "\n",
        "test_data_fmnist = ((test_images.astype(np.float32)/255))\n",
        "output = model_cnn_t(test_data_fmnist)\n",
        "image = output[9999]\n",
        "image = tf.squeeze(image, 2)\n",
        "plt.imshow(image)"
      ]
    },
    {
      "cell_type": "markdown",
      "metadata": {
        "colab_type": "text",
        "id": "Yz6vbOkg6ntw"
      },
      "source": [
        "Classification"
      ]
    },
    {
      "cell_type": "code",
      "execution_count": null,
      "metadata": {
        "colab": {},
        "colab_type": "code",
        "id": "djAcWnmBuXrl"
      },
      "outputs": [],
      "source": [
        "model_encoder = keras.models.Sequential([keras.layers.Flatten(),\n",
        "                                keras.layers.Dense(392, activation=tf.nn.relu),\n",
        "                                keras.layers.Dense(128, activation=tf.nn.relu),\n",
        "                                keras.layers.Dense(64, activation= tf.nn.relu)])\n",
        "model_decoder = keras.models.Sequential([keras.layers.Dense(64, activation= tf.nn.relu),\n",
        "                                keras.layers.Dense(128, activation= tf.nn.relu),\n",
        "                                keras.layers.Dense(392, activation= tf.nn.relu),\n",
        "                                keras.layers.Dense(784, activation= tf.nn.relu),\n",
        "                                keras.layers.Reshape((-1,28,28))]\n",
        "                                )"
      ]
    },
    {
      "cell_type": "code",
      "execution_count": 7,
      "metadata": {
        "colab": {
          "base_uri": "https://localhost:8080/",
          "height": 208
        },
        "colab_type": "code",
        "id": "7n1FLjw2urmt",
        "outputId": "bf56b1b9-a900-4747-d646-294ecf7c6e47"
      },
      "outputs": [
        {
          "name": "stdout",
          "output_type": "stream",
          "text": [
            "Epoch 1/5\n",
            "469/469 [==============================] - 5s 10ms/step - loss: 0.1134\n",
            "Epoch 2/5\n",
            "469/469 [==============================] - 5s 10ms/step - loss: 0.1116\n",
            "Epoch 3/5\n",
            "469/469 [==============================] - 5s 10ms/step - loss: 0.1116\n",
            "Epoch 4/5\n",
            "469/469 [==============================] - 5s 10ms/step - loss: 0.1112\n",
            "Epoch 5/5\n",
            "469/469 [==============================] - 5s 10ms/step - loss: 0.1112\n"
          ]
        },
        {
          "data": {
            "text/plain": [
              "<tensorflow.python.keras.callbacks.History at 0x7f1ec2390518>"
            ]
          },
          "execution_count": 7,
          "metadata": {
            "tags": []
          },
          "output_type": "execute_result"
        }
      ],
      "source": [
        "model = keras.models.Sequential([model_encoder,model_decoder])\n",
        "model.compile(optimizer= 'adam',loss = tf.losses.mean_squared_error)\n",
        "model.fit(data_fmnist, epochs= 5)"
      ]
    },
    {
      "cell_type": "code",
      "execution_count": null,
      "metadata": {
        "colab": {},
        "colab_type": "code",
        "id": "TUFsymyg8QYw"
      },
      "outputs": [],
      "source": [
        "data = tf.data.Dataset.from_tensor_slices((\n",
        "    (train_images.astype(np.float32)/255),(train_labels.astype(np.int32))))\n",
        "data_fmnist = data.shuffle(buffer_size =120000).batch(128)\n",
        "test_data_fmnist = tf.data.Dataset.from_tensor_slices(\n",
        "    ((test_images.astype(np.float32)/255), ( test_labels.astype(np.int32)))).batch(128)\n"
      ]
    },
    {
      "cell_type": "code",
      "execution_count": null,
      "metadata": {
        "colab": {},
        "colab_type": "code",
        "id": "5mgY5HF0F_uW"
      },
      "outputs": [],
      "source": [
        "data"
      ]
    },
    {
      "cell_type": "code",
      "execution_count": null,
      "metadata": {
        "colab": {},
        "colab_type": "code",
        "id": "QFxWygE3CZ0m"
      },
      "outputs": [],
      "source": [
        "model_encoder.trainable = False"
      ]
    },
    {
      "cell_type": "code",
      "execution_count": null,
      "metadata": {
        "colab": {},
        "colab_type": "code",
        "id": "x__PGYJn-1Zr"
      },
      "outputs": [],
      "source": [
        "class_model = keras.models.Sequential([keras.layers.Dense(64, activation=tf.nn.relu, input_shape = (64,)),\n",
        "                                keras.layers.Dense(32, activation=tf.nn.relu),\n",
        "                                keras.layers.Dense(16, activation= tf.nn.relu),\n",
        "                                \n",
        "                                keras.layers.Dense(10,use_bias= True,bias_initializer='zeros' )\n",
        "                                ])"
      ]
    },
    {
      "cell_type": "code",
      "execution_count": null,
      "metadata": {
        "colab": {},
        "colab_type": "code",
        "id": "XRbHzCvrEswX"
      },
      "outputs": [],
      "source": [
        "class_model.build((128,64))"
      ]
    },
    {
      "cell_type": "code",
      "execution_count": 12,
      "metadata": {
        "colab": {
          "base_uri": "https://localhost:8080/",
          "height": 295
        },
        "colab_type": "code",
        "id": "AmWVhK9rFK3s",
        "outputId": "a5fbf178-4e2e-47c9-d5ee-c640ab095e7f"
      },
      "outputs": [
        {
          "name": "stdout",
          "output_type": "stream",
          "text": [
            "Model: \"sequential_4\"\n",
            "_________________________________________________________________\n",
            "Layer (type)                 Output Shape              Param #   \n",
            "=================================================================\n",
            "dense_7 (Dense)              (None, 64)                4160      \n",
            "_________________________________________________________________\n",
            "dense_8 (Dense)              (None, 32)                2080      \n",
            "_________________________________________________________________\n",
            "dense_9 (Dense)              (None, 16)                528       \n",
            "_________________________________________________________________\n",
            "dense_10 (Dense)             (None, 10)                170       \n",
            "=================================================================\n",
            "Total params: 6,938\n",
            "Trainable params: 6,938\n",
            "Non-trainable params: 0\n",
            "_________________________________________________________________\n"
          ]
        }
      ],
      "source": [
        "class_model.summary()"
      ]
    },
    {
      "cell_type": "code",
      "execution_count": null,
      "metadata": {
        "colab": {},
        "colab_type": "code",
        "id": "dDOi0jHynVgK"
      },
      "outputs": [],
      "source": [
        "fina_model = keras.models.Sequential([model_encoder,\n",
        "                                      class_model])"
      ]
    },
    {
      "cell_type": "code",
      "execution_count": 17,
      "metadata": {
        "colab": {
          "base_uri": "https://localhost:8080/",
          "height": 728
        },
        "colab_type": "code",
        "id": "ffk3ac_y_e4o",
        "outputId": "63c5ce78-9728-4962-eac8-1c794d5f9542"
      },
      "outputs": [
        {
          "name": "stdout",
          "output_type": "stream",
          "text": [
            "Epoch 1/20\n",
            "469/469 [==============================] - 2s 4ms/step - loss: 1.6130 - accuracy: 0.3764\n",
            "Epoch 2/20\n",
            "469/469 [==============================] - 2s 4ms/step - loss: 1.5967 - accuracy: 0.3826\n",
            "Epoch 3/20\n",
            "469/469 [==============================] - 2s 4ms/step - loss: 1.5845 - accuracy: 0.3884\n",
            "Epoch 4/20\n",
            "469/469 [==============================] - 2s 4ms/step - loss: 1.5728 - accuracy: 0.3929\n",
            "Epoch 5/20\n",
            "469/469 [==============================] - 2s 4ms/step - loss: 1.5640 - accuracy: 0.3956\n",
            "Epoch 6/20\n",
            "469/469 [==============================] - 2s 4ms/step - loss: 1.5562 - accuracy: 0.3996\n",
            "Epoch 7/20\n",
            "469/469 [==============================] - 2s 4ms/step - loss: 1.5488 - accuracy: 0.4034\n",
            "Epoch 8/20\n",
            "469/469 [==============================] - 2s 4ms/step - loss: 1.5447 - accuracy: 0.4035\n",
            "Epoch 9/20\n",
            "469/469 [==============================] - 2s 4ms/step - loss: 1.5364 - accuracy: 0.4078\n",
            "Epoch 10/20\n",
            "469/469 [==============================] - 2s 4ms/step - loss: 1.5324 - accuracy: 0.4096\n",
            "Epoch 11/20\n",
            "469/469 [==============================] - 2s 4ms/step - loss: 1.5262 - accuracy: 0.4105\n",
            "Epoch 12/20\n",
            "469/469 [==============================] - 2s 4ms/step - loss: 1.5248 - accuracy: 0.4120\n",
            "Epoch 13/20\n",
            "469/469 [==============================] - 2s 4ms/step - loss: 1.5212 - accuracy: 0.4146\n",
            "Epoch 14/20\n",
            "469/469 [==============================] - 2s 4ms/step - loss: 1.5159 - accuracy: 0.4155\n",
            "Epoch 15/20\n",
            "469/469 [==============================] - 2s 4ms/step - loss: 1.5147 - accuracy: 0.4129\n",
            "Epoch 16/20\n",
            "469/469 [==============================] - 2s 4ms/step - loss: 1.5114 - accuracy: 0.4171\n",
            "Epoch 17/20\n",
            "469/469 [==============================] - 2s 4ms/step - loss: 1.5084 - accuracy: 0.4177\n",
            "Epoch 18/20\n",
            "469/469 [==============================] - 2s 4ms/step - loss: 1.5053 - accuracy: 0.4172\n",
            "Epoch 19/20\n",
            "469/469 [==============================] - 2s 4ms/step - loss: 1.5022 - accuracy: 0.4224\n",
            "Epoch 20/20\n",
            "469/469 [==============================] - 2s 4ms/step - loss: 1.4981 - accuracy: 0.4186\n"
          ]
        },
        {
          "data": {
            "text/plain": [
              "<tensorflow.python.keras.callbacks.History at 0x7f1eb00f4fd0>"
            ]
          },
          "execution_count": 17,
          "metadata": {
            "tags": []
          },
          "output_type": "execute_result"
        }
      ],
      "source": [
        "fina_model.compile(optimizer= 'adam',loss = tf.keras.losses.SparseCategoricalCrossentropy(from_logits= True),\n",
        "              metrics = ['accuracy'])\n",
        "fina_model.fit(data_fmnist, epochs= 20)"
      ]
    },
    {
      "cell_type": "code",
      "execution_count": 16,
      "metadata": {
        "colab": {
          "base_uri": "https://localhost:8080/",
          "height": 52
        },
        "colab_type": "code",
        "id": "mR2kVwAxn0BX",
        "outputId": "a68e3ffa-e3ca-42e1-84de-c92218142655"
      },
      "outputs": [
        {
          "name": "stdout",
          "output_type": "stream",
          "text": [
            "79/79 [==============================] - 0s 3ms/step - loss: 1.6166 - accuracy: 0.3774\n"
          ]
        },
        {
          "data": {
            "text/plain": [
              "[1.6166075468063354, 0.3774000108242035]"
            ]
          },
          "execution_count": 16,
          "metadata": {
            "tags": []
          },
          "output_type": "execute_result"
        }
      ],
      "source": [
        "fina_model.evaluate(test_data_fmnist)"
      ]
    },
    {
      "cell_type": "code",
      "execution_count": null,
      "metadata": {
        "colab": {},
        "colab_type": "code",
        "id": "lDUcWlK1oIJ3"
      },
      "outputs": [],
      "source": [
        "classification_model = keras.models.Sequential([keras.layers.Flatten(),\n",
        "                                keras.layers.Dense(392, activation=tf.nn.relu),\n",
        "                                keras.layers.Dense(128, activation=tf.nn.relu),\n",
        "                                keras.layers.Dense(64, activation= tf.nn.relu, name= 'encoder'),\n",
        "                                keras.layers.Dense(64, activation= tf.nn.relu),\n",
        "                               keras.layers.Dense(10, activation= tf.nn.relu) ])"
      ]
    },
    {
      "cell_type": "code",
      "execution_count": 19,
      "metadata": {
        "colab": {
          "base_uri": "https://localhost:8080/",
          "height": 728
        },
        "colab_type": "code",
        "id": "9VY9ZpUVolCn",
        "outputId": "6e3f3bdd-3332-413c-8954-4788e12e2239"
      },
      "outputs": [
        {
          "name": "stdout",
          "output_type": "stream",
          "text": [
            "Epoch 1/20\n",
            "469/469 [==============================] - 2s 4ms/step - loss: 0.7670 - accuracy: 0.7176\n",
            "Epoch 2/20\n",
            "469/469 [==============================] - 2s 4ms/step - loss: 0.5954 - accuracy: 0.7689\n",
            "Epoch 3/20\n",
            "469/469 [==============================] - 2s 4ms/step - loss: 0.4244 - accuracy: 0.8402\n",
            "Epoch 4/20\n",
            "469/469 [==============================] - 2s 4ms/step - loss: 0.3142 - accuracy: 0.8852\n",
            "Epoch 5/20\n",
            "469/469 [==============================] - 2s 4ms/step - loss: 0.2917 - accuracy: 0.8917\n",
            "Epoch 6/20\n",
            "469/469 [==============================] - 2s 4ms/step - loss: 0.2768 - accuracy: 0.8978\n",
            "Epoch 7/20\n",
            "469/469 [==============================] - 2s 4ms/step - loss: 0.2628 - accuracy: 0.9015\n",
            "Epoch 8/20\n",
            "469/469 [==============================] - 2s 4ms/step - loss: 0.2544 - accuracy: 0.9046\n",
            "Epoch 9/20\n",
            "469/469 [==============================] - 2s 4ms/step - loss: 0.2428 - accuracy: 0.9092\n",
            "Epoch 10/20\n",
            "469/469 [==============================] - 2s 4ms/step - loss: 0.2324 - accuracy: 0.9120\n",
            "Epoch 11/20\n",
            "469/469 [==============================] - 2s 4ms/step - loss: 0.2227 - accuracy: 0.9162\n",
            "Epoch 12/20\n",
            "469/469 [==============================] - 2s 4ms/step - loss: 0.2169 - accuracy: 0.9182\n",
            "Epoch 13/20\n",
            "469/469 [==============================] - 2s 4ms/step - loss: 0.2096 - accuracy: 0.9200\n",
            "Epoch 14/20\n",
            "469/469 [==============================] - 2s 4ms/step - loss: 0.1987 - accuracy: 0.9249\n",
            "Epoch 15/20\n",
            "469/469 [==============================] - 2s 4ms/step - loss: 0.1942 - accuracy: 0.9255\n",
            "Epoch 16/20\n",
            "469/469 [==============================] - 2s 4ms/step - loss: 0.1852 - accuracy: 0.9298\n",
            "Epoch 17/20\n",
            "469/469 [==============================] - 2s 4ms/step - loss: 0.1819 - accuracy: 0.9305\n",
            "Epoch 18/20\n",
            "469/469 [==============================] - 2s 4ms/step - loss: 0.1745 - accuracy: 0.9329\n",
            "Epoch 19/20\n",
            "469/469 [==============================] - 2s 4ms/step - loss: 0.1678 - accuracy: 0.9364\n",
            "Epoch 20/20\n",
            "469/469 [==============================] - 2s 4ms/step - loss: 0.1635 - accuracy: 0.9377\n"
          ]
        },
        {
          "data": {
            "text/plain": [
              "<tensorflow.python.keras.callbacks.History at 0x7f1e67c3a588>"
            ]
          },
          "execution_count": 19,
          "metadata": {
            "tags": []
          },
          "output_type": "execute_result"
        }
      ],
      "source": [
        "classification_model.compile(optimizer= 'adam',loss = tf.keras.losses.SparseCategoricalCrossentropy(from_logits= True),\n",
        "              metrics = ['accuracy'])\n",
        "classification_model.fit(data_fmnist, epochs= 20)"
      ]
    },
    {
      "cell_type": "code",
      "execution_count": 20,
      "metadata": {
        "colab": {
          "base_uri": "https://localhost:8080/",
          "height": 52
        },
        "colab_type": "code",
        "id": "As6omaGZo9iV",
        "outputId": "46a6c773-1598-42f4-f6f3-685f25dff7aa"
      },
      "outputs": [
        {
          "name": "stdout",
          "output_type": "stream",
          "text": [
            "79/79 [==============================] - 0s 3ms/step - loss: 0.3371 - accuracy: 0.8927\n"
          ]
        },
        {
          "data": {
            "text/plain": [
              "[0.3371073603630066, 0.8927000164985657]"
            ]
          },
          "execution_count": 20,
          "metadata": {
            "tags": []
          },
          "output_type": "execute_result"
        }
      ],
      "source": [
        "classification_model.evaluate(test_data_fmnist)"
      ]
    }
  ],
  "metadata": {
    "accelerator": "GPU",
    "colab": {
      "collapsed_sections": [],
      "name": "Autoencoder.ipynb",
      "provenance": []
    },
    "kernelspec": {
      "display_name": "Python 3",
      "name": "python3"
    }
  },
  "nbformat": 4,
  "nbformat_minor": 0
}
