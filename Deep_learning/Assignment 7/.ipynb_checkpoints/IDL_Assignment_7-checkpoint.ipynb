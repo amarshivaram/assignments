{
 "cells": [
  {
   "cell_type": "markdown",
   "metadata": {
    "colab_type": "text",
    "id": "QQEwYV2SWRGt"
   },
   "source": [
    "Assignment 7: Assorted Programming Puzzles\n",
    "\n",
    "1.   Amar Shivaram - 226015\n",
    "2.   Manish Bhandari - 226011\n",
    "3.   Aishwarya Jauhari - 226084"
   ]
  },
  {
   "cell_type": "code",
   "execution_count": 0,
   "metadata": {
    "colab": {},
    "colab_type": "code",
    "id": "epZ923121MeN"
   },
   "outputs": [],
   "source": [
    "%tensorflow_version 2.x\n",
    "import tensorflow as tf\n"
   ]
  },
  {
   "cell_type": "code",
   "execution_count": 4,
   "metadata": {
    "cellView": "both",
    "colab": {
     "base_uri": "https://localhost:8080/",
     "height": 87
    },
    "colab_type": "code",
    "id": "bApF2hhr1sjp",
    "outputId": "df2fb9bc-0d2b-436d-cb89-b34edeaeedc1"
   },
   "outputs": [
    {
     "name": "stdout",
     "output_type": "stream",
     "text": [
      "tf.Tensor(\n",
      "[[3 2 1]\n",
      " [6 5 4]\n",
      " [9 8 7]], shape=(3, 3), dtype=int32)\n"
     ]
    }
   ],
   "source": [
    "#@title 1\n",
    "@tf.function\n",
    "def top_k(input_tensor, k):\n",
    "  return tf.math.top_k(input_tensor, k).values\n",
    "\n",
    "a = tf.constant([[1,2,3], [4,5,6], [7,8,9]])\n",
    "k = 3\n",
    "print(top_k(a,k))\n"
   ]
  },
  {
   "cell_type": "code",
   "execution_count": 5,
   "metadata": {
    "cellView": "both",
    "colab": {
     "base_uri": "https://localhost:8080/",
     "height": 173
    },
    "colab_type": "code",
    "id": "xLZjOz4-jEHh",
    "outputId": "aec72c02-acdd-48e4-e7ab-8e31a53b288c"
   },
   "outputs": [
    {
     "name": "stdout",
     "output_type": "stream",
     "text": [
      "tf.Tensor([[0]], shape=(1, 1), dtype=int32)\n",
      "tf.Tensor([[1]], shape=(1, 1), dtype=int32)\n",
      "tf.Tensor([[2]], shape=(1, 1), dtype=int32)\n",
      "tf.Tensor([[2]], shape=(1, 1), dtype=int32)\n",
      "tf.Tensor(\n",
      "[[1 0 0]\n",
      " [0 1 0]\n",
      " [0 0 1]\n",
      " [0 0 1]], shape=(4, 3), dtype=int32)\n"
     ]
    }
   ],
   "source": [
    "#@title 2\n",
    "def arg_max_tensor(a):\n",
    "  b = tf.math.top_k(a,k=1).indices\n",
    "\n",
    "  c = tf.TensorArray(tf.int32, size= 0, dynamic_size= True)\n",
    "  for i in tf.range(tf.shape(a)[0]): \n",
    "\n",
    "    indices = b[i]\n",
    "    indices = tf.expand_dims(indices,0) \n",
    "    print(indices)\n",
    "    updates = tf.Variable([1])  \n",
    "    shape = tf.Variable([tf.shape(a)[1]]) \n",
    "\n",
    "    scatter = tf.scatter_nd(indices, updates, shape)\n",
    "    c.write(i,scatter).mark_used()\n",
    "\n",
    "  return c.stack()\n",
    "\n",
    "a = tf.Variable([[3,2,3],[4,6,5],[7,8,9],[11,12,13]])\n",
    "m = arg_max_tensor(a)\n",
    "print(m)\n"
   ]
  },
  {
   "cell_type": "code",
   "execution_count": 65,
   "metadata": {
    "cellView": "both",
    "colab": {
     "base_uri": "https://localhost:8080/",
     "height": 121
    },
    "colab_type": "code",
    "id": "3leLHNOmN8bd",
    "outputId": "00248b6c-79f8-4187-afba-4104b768266e"
   },
   "outputs": [
    {
     "data": {
      "text/plain": [
       "<tf.Tensor: shape=(5, 5), dtype=int64, numpy=\n",
       "array([[0, 0, 0, 0, 1],\n",
       "       [0, 0, 1, 0, 0],\n",
       "       [0, 0, 1, 0, 0],\n",
       "       [0, 0, 0, 0, 1],\n",
       "       [1, 0, 0, 0, 0]])>"
      ]
     },
     "execution_count": 65,
     "metadata": {
      "tags": []
     },
     "output_type": "execute_result"
    }
   ],
   "source": [
    "#@title 2 with tf function\n",
    "\n",
    "\n",
    "@tf.function\n",
    "def argmax_tensor(task2_tensor):\n",
    "  max = tf.math.argmax(task2_tensor, 1)\n",
    "  index_max = tf.one_hot(max,depth=tf.shape(task2_tensor)[1],dtype=tf.int64)\n",
    "  return index_max\n",
    "task2_tensor = tf.random.uniform(shape=[5,5], minval=1, maxval=20, dtype=tf.int64)\n",
    "\n",
    "\n",
    "argmax_index = argmax_tensor(task2_tensor)\n",
    "\n",
    "argmax_index"
   ]
  },
  {
   "cell_type": "markdown",
   "metadata": {
    "colab_type": "text",
    "id": "XeUn0Yc2Nfzq"
   },
   "source": [
    "when using tf function, it threw error of too many non first variable call"
   ]
  },
  {
   "cell_type": "code",
   "execution_count": 64,
   "metadata": {
    "cellView": "both",
    "colab": {
     "base_uri": "https://localhost:8080/",
     "height": 104
    },
    "colab_type": "code",
    "id": "4GwWHba9mmEa",
    "outputId": "0e876853-8325-4b52-c26c-70536ea96617"
   },
   "outputs": [
    {
     "name": "stdout",
     "output_type": "stream",
     "text": [
      "tf.Tensor(\n",
      "[[1 0 0 1 1]\n",
      " [1 1 1 0 0]\n",
      " [0 0 1 1 1]\n",
      " [0 0 1 1 1]], shape=(4, 5), dtype=int32)\n"
     ]
    }
   ],
   "source": [
    "#@title 3\n",
    "#@tf.function\n",
    "def arg_k_max_tensor(a,k):\n",
    "  \n",
    "  b = tf.math.top_k(a,k=k).indices\n",
    "  c = tf.TensorArray(tf.int32, size= 0, dynamic_size= True)\n",
    "\n",
    "  for i in tf.range(tf.shape(a)[0]): \n",
    "\n",
    "    indices = b[i]\n",
    "    indices = tf.expand_dims(indices,0)\n",
    "    \n",
    "    d = tf.TensorArray(tf.int32, size= 0, dynamic_size= True)\n",
    "    for j in tf.range(tf.shape(indices)[1]):\n",
    "      d = d.write(j, [indices[0][j]])\n",
    "    d = d.stack()\n",
    "    \n",
    "    updates = tf.Variable(tf.ones(dtype= tf.int32,shape = tf.shape(d)[0]))    \n",
    "    shape = tf.Variable([tf.shape(a)[1]])  \n",
    "    scatter = tf.scatter_nd(d, updates, shape)\n",
    "    c = c.write(i,scatter)\n",
    "\n",
    "  return c.stack()\n",
    "\n",
    "\n",
    "a = tf.Variable([[1000,1,0,2,3],[4,5,6,2,1],[7,8,9,88,99],[10,11,12,13,14]])\n",
    "k = 3\n",
    "print(arg_k_max_tensor(a,k))\n",
    "\n",
    "\n",
    "\n",
    "\n"
   ]
  },
  {
   "cell_type": "code",
   "execution_count": 58,
   "metadata": {
    "cellView": "both",
    "colab": {
     "base_uri": "https://localhost:8080/",
     "height": 35
    },
    "colab_type": "code",
    "id": "gZOYo5od6F65",
    "outputId": "91e9630e-6203-4d7f-da42-fef062d19a5a"
   },
   "outputs": [
    {
     "name": "stdout",
     "output_type": "stream",
     "text": [
      "[100 166.999985 256.11]\n"
     ]
    }
   ],
   "source": [
    "#@title 4\n",
    "@tf.function\n",
    "def exp_moving(a, decay_rate):\n",
    "  b = tf.TensorArray(dtype = tf.float32, size= 0, dynamic_size= True)\n",
    "  \n",
    "  sh = tf.convert_to_tensor(tf.shape(a)[0])\n",
    "\n",
    "  for i in tf.range(0,sh, delta=1):\n",
    "    if i == 0:\n",
    "      b = b.write(i,a[i])\n",
    "    else:\n",
    "      m = tf.math.multiply(decay_rate,b.stack()[i-1])\n",
    "      \n",
    "      n = tf.math.multiply((1-decay_rate),a[i])\n",
    "      \n",
    "      c = m + n \n",
    "      b = b.write(i,c)\n",
    "  return b.stack()\n",
    "\n",
    "a = tf.Variable([100,200, 300], dtype= tf.float32)\n",
    "#print(a)\n",
    "decay_rate = 0.33\n",
    "decay_rate = tf.Variable(decay_rate, dtype= tf.float32)\n",
    "tf.print(exp_moving(a, decay_rate))\n",
    "\n"
   ]
  },
  {
   "cell_type": "markdown",
   "metadata": {
    "colab_type": "text",
    "id": "nmY0cijtOi4E"
   },
   "source": [
    "tf.function-decorated function tried to create variables on non-first call."
   ]
  },
  {
   "cell_type": "code",
   "execution_count": 18,
   "metadata": {
    "cellView": "both",
    "colab": {
     "base_uri": "https://localhost:8080/",
     "height": 589
    },
    "colab_type": "code",
    "id": "jF7fK0_qLtkJ",
    "outputId": "c03235d0-3604-47cf-c68c-e2caf0af70c3"
   },
   "outputs": [
    {
     "ename": "ValueError",
     "evalue": "ignored",
     "output_type": "error",
     "traceback": [
      "\u001b[0;31m---------------------------------------------------------------------------\u001b[0m",
      "\u001b[0;31mValueError\u001b[0m                                Traceback (most recent call last)",
      "\u001b[0;32m<ipython-input-18-a260c1f8a151>\u001b[0m in \u001b[0;36m<module>\u001b[0;34m()\u001b[0m\n\u001b[1;32m     25\u001b[0m \u001b[0;31m#print(a)\u001b[0m\u001b[0;34m\u001b[0m\u001b[0;34m\u001b[0m\u001b[0;34m\u001b[0m\u001b[0m\n\u001b[1;32m     26\u001b[0m \u001b[0mdecay_rate\u001b[0m \u001b[0;34m=\u001b[0m \u001b[0;36m0.33\u001b[0m\u001b[0;34m\u001b[0m\u001b[0;34m\u001b[0m\u001b[0m\n\u001b[0;32m---> 27\u001b[0;31m \u001b[0mb\u001b[0m \u001b[0;34m=\u001b[0m \u001b[0mexp_moving\u001b[0m\u001b[0;34m(\u001b[0m\u001b[0ma\u001b[0m\u001b[0;34m,\u001b[0m \u001b[0mdecay_rate\u001b[0m\u001b[0;34m)\u001b[0m\u001b[0;34m\u001b[0m\u001b[0;34m\u001b[0m\u001b[0m\n\u001b[0m\u001b[1;32m     28\u001b[0m \u001b[0mtf\u001b[0m\u001b[0;34m.\u001b[0m\u001b[0mprint\u001b[0m\u001b[0;34m(\u001b[0m\u001b[0mb\u001b[0m\u001b[0;34m)\u001b[0m\u001b[0;34m\u001b[0m\u001b[0;34m\u001b[0m\u001b[0m\n",
      "\u001b[0;32m/usr/local/lib/python3.6/dist-packages/tensorflow/python/eager/def_function.py\u001b[0m in \u001b[0;36m__call__\u001b[0;34m(self, *args, **kwds)\u001b[0m\n\u001b[1;32m    578\u001b[0m         \u001b[0mxla_context\u001b[0m\u001b[0;34m.\u001b[0m\u001b[0mExit\u001b[0m\u001b[0;34m(\u001b[0m\u001b[0;34m)\u001b[0m\u001b[0;34m\u001b[0m\u001b[0;34m\u001b[0m\u001b[0m\n\u001b[1;32m    579\u001b[0m     \u001b[0;32melse\u001b[0m\u001b[0;34m:\u001b[0m\u001b[0;34m\u001b[0m\u001b[0;34m\u001b[0m\u001b[0m\n\u001b[0;32m--> 580\u001b[0;31m       \u001b[0mresult\u001b[0m \u001b[0;34m=\u001b[0m \u001b[0mself\u001b[0m\u001b[0;34m.\u001b[0m\u001b[0m_call\u001b[0m\u001b[0;34m(\u001b[0m\u001b[0;34m*\u001b[0m\u001b[0margs\u001b[0m\u001b[0;34m,\u001b[0m \u001b[0;34m**\u001b[0m\u001b[0mkwds\u001b[0m\u001b[0;34m)\u001b[0m\u001b[0;34m\u001b[0m\u001b[0;34m\u001b[0m\u001b[0m\n\u001b[0m\u001b[1;32m    581\u001b[0m \u001b[0;34m\u001b[0m\u001b[0m\n\u001b[1;32m    582\u001b[0m     \u001b[0;32mif\u001b[0m \u001b[0mtracing_count\u001b[0m \u001b[0;34m==\u001b[0m \u001b[0mself\u001b[0m\u001b[0;34m.\u001b[0m\u001b[0m_get_tracing_count\u001b[0m\u001b[0;34m(\u001b[0m\u001b[0;34m)\u001b[0m\u001b[0;34m:\u001b[0m\u001b[0;34m\u001b[0m\u001b[0;34m\u001b[0m\u001b[0m\n",
      "\u001b[0;32m/usr/local/lib/python3.6/dist-packages/tensorflow/python/eager/def_function.py\u001b[0m in \u001b[0;36m_call\u001b[0;34m(self, *args, **kwds)\u001b[0m\n\u001b[1;32m    642\u001b[0m         \u001b[0;31m# Lifting succeeded, so variables are initialized and we can run the\u001b[0m\u001b[0;34m\u001b[0m\u001b[0;34m\u001b[0m\u001b[0;34m\u001b[0m\u001b[0m\n\u001b[1;32m    643\u001b[0m         \u001b[0;31m# stateless function.\u001b[0m\u001b[0;34m\u001b[0m\u001b[0;34m\u001b[0m\u001b[0;34m\u001b[0m\u001b[0m\n\u001b[0;32m--> 644\u001b[0;31m         \u001b[0;32mreturn\u001b[0m \u001b[0mself\u001b[0m\u001b[0;34m.\u001b[0m\u001b[0m_stateless_fn\u001b[0m\u001b[0;34m(\u001b[0m\u001b[0;34m*\u001b[0m\u001b[0margs\u001b[0m\u001b[0;34m,\u001b[0m \u001b[0;34m**\u001b[0m\u001b[0mkwds\u001b[0m\u001b[0;34m)\u001b[0m\u001b[0;34m\u001b[0m\u001b[0;34m\u001b[0m\u001b[0m\n\u001b[0m\u001b[1;32m    645\u001b[0m     \u001b[0;32melse\u001b[0m\u001b[0;34m:\u001b[0m\u001b[0;34m\u001b[0m\u001b[0;34m\u001b[0m\u001b[0m\n\u001b[1;32m    646\u001b[0m       \u001b[0mcanon_args\u001b[0m\u001b[0;34m,\u001b[0m \u001b[0mcanon_kwds\u001b[0m \u001b[0;34m=\u001b[0m\u001b[0;31m \u001b[0m\u001b[0;31m\\\u001b[0m\u001b[0;34m\u001b[0m\u001b[0;34m\u001b[0m\u001b[0m\n",
      "\u001b[0;32m/usr/local/lib/python3.6/dist-packages/tensorflow/python/eager/function.py\u001b[0m in \u001b[0;36m__call__\u001b[0;34m(self, *args, **kwargs)\u001b[0m\n\u001b[1;32m   2417\u001b[0m     \u001b[0;34m\"\"\"Calls a graph function specialized to the inputs.\"\"\"\u001b[0m\u001b[0;34m\u001b[0m\u001b[0;34m\u001b[0m\u001b[0m\n\u001b[1;32m   2418\u001b[0m     \u001b[0;32mwith\u001b[0m \u001b[0mself\u001b[0m\u001b[0;34m.\u001b[0m\u001b[0m_lock\u001b[0m\u001b[0;34m:\u001b[0m\u001b[0;34m\u001b[0m\u001b[0;34m\u001b[0m\u001b[0m\n\u001b[0;32m-> 2419\u001b[0;31m       \u001b[0mgraph_function\u001b[0m\u001b[0;34m,\u001b[0m \u001b[0margs\u001b[0m\u001b[0;34m,\u001b[0m \u001b[0mkwargs\u001b[0m \u001b[0;34m=\u001b[0m \u001b[0mself\u001b[0m\u001b[0;34m.\u001b[0m\u001b[0m_maybe_define_function\u001b[0m\u001b[0;34m(\u001b[0m\u001b[0margs\u001b[0m\u001b[0;34m,\u001b[0m \u001b[0mkwargs\u001b[0m\u001b[0;34m)\u001b[0m\u001b[0;34m\u001b[0m\u001b[0;34m\u001b[0m\u001b[0m\n\u001b[0m\u001b[1;32m   2420\u001b[0m     \u001b[0;32mreturn\u001b[0m \u001b[0mgraph_function\u001b[0m\u001b[0;34m.\u001b[0m\u001b[0m_filtered_call\u001b[0m\u001b[0;34m(\u001b[0m\u001b[0margs\u001b[0m\u001b[0;34m,\u001b[0m \u001b[0mkwargs\u001b[0m\u001b[0;34m)\u001b[0m  \u001b[0;31m# pylint: disable=protected-access\u001b[0m\u001b[0;34m\u001b[0m\u001b[0;34m\u001b[0m\u001b[0m\n\u001b[1;32m   2421\u001b[0m \u001b[0;34m\u001b[0m\u001b[0m\n",
      "\u001b[0;32m/usr/local/lib/python3.6/dist-packages/tensorflow/python/eager/function.py\u001b[0m in \u001b[0;36m_maybe_define_function\u001b[0;34m(self, args, kwargs)\u001b[0m\n\u001b[1;32m   2775\u001b[0m \u001b[0;34m\u001b[0m\u001b[0m\n\u001b[1;32m   2776\u001b[0m       \u001b[0mself\u001b[0m\u001b[0;34m.\u001b[0m\u001b[0m_function_cache\u001b[0m\u001b[0;34m.\u001b[0m\u001b[0mmissed\u001b[0m\u001b[0;34m.\u001b[0m\u001b[0madd\u001b[0m\u001b[0;34m(\u001b[0m\u001b[0mcall_context_key\u001b[0m\u001b[0;34m)\u001b[0m\u001b[0;34m\u001b[0m\u001b[0;34m\u001b[0m\u001b[0m\n\u001b[0;32m-> 2777\u001b[0;31m       \u001b[0mgraph_function\u001b[0m \u001b[0;34m=\u001b[0m \u001b[0mself\u001b[0m\u001b[0;34m.\u001b[0m\u001b[0m_create_graph_function\u001b[0m\u001b[0;34m(\u001b[0m\u001b[0margs\u001b[0m\u001b[0;34m,\u001b[0m \u001b[0mkwargs\u001b[0m\u001b[0;34m)\u001b[0m\u001b[0;34m\u001b[0m\u001b[0;34m\u001b[0m\u001b[0m\n\u001b[0m\u001b[1;32m   2778\u001b[0m       \u001b[0mself\u001b[0m\u001b[0;34m.\u001b[0m\u001b[0m_function_cache\u001b[0m\u001b[0;34m.\u001b[0m\u001b[0mprimary\u001b[0m\u001b[0;34m[\u001b[0m\u001b[0mcache_key\u001b[0m\u001b[0;34m]\u001b[0m \u001b[0;34m=\u001b[0m \u001b[0mgraph_function\u001b[0m\u001b[0;34m\u001b[0m\u001b[0;34m\u001b[0m\u001b[0m\n\u001b[1;32m   2779\u001b[0m       \u001b[0;32mreturn\u001b[0m \u001b[0mgraph_function\u001b[0m\u001b[0;34m,\u001b[0m \u001b[0margs\u001b[0m\u001b[0;34m,\u001b[0m \u001b[0mkwargs\u001b[0m\u001b[0;34m\u001b[0m\u001b[0;34m\u001b[0m\u001b[0m\n",
      "\u001b[0;32m/usr/local/lib/python3.6/dist-packages/tensorflow/python/eager/function.py\u001b[0m in \u001b[0;36m_create_graph_function\u001b[0;34m(self, args, kwargs, override_flat_arg_shapes)\u001b[0m\n\u001b[1;32m   2665\u001b[0m             \u001b[0marg_names\u001b[0m\u001b[0;34m=\u001b[0m\u001b[0marg_names\u001b[0m\u001b[0;34m,\u001b[0m\u001b[0;34m\u001b[0m\u001b[0;34m\u001b[0m\u001b[0m\n\u001b[1;32m   2666\u001b[0m             \u001b[0moverride_flat_arg_shapes\u001b[0m\u001b[0;34m=\u001b[0m\u001b[0moverride_flat_arg_shapes\u001b[0m\u001b[0;34m,\u001b[0m\u001b[0;34m\u001b[0m\u001b[0;34m\u001b[0m\u001b[0m\n\u001b[0;32m-> 2667\u001b[0;31m             capture_by_value=self._capture_by_value),\n\u001b[0m\u001b[1;32m   2668\u001b[0m         \u001b[0mself\u001b[0m\u001b[0;34m.\u001b[0m\u001b[0m_function_attributes\u001b[0m\u001b[0;34m,\u001b[0m\u001b[0;34m\u001b[0m\u001b[0;34m\u001b[0m\u001b[0m\n\u001b[1;32m   2669\u001b[0m         \u001b[0;31m# Tell the ConcreteFunction to clean up its graph once it goes out of\u001b[0m\u001b[0;34m\u001b[0m\u001b[0;34m\u001b[0m\u001b[0;34m\u001b[0m\u001b[0m\n",
      "\u001b[0;32m/usr/local/lib/python3.6/dist-packages/tensorflow/python/framework/func_graph.py\u001b[0m in \u001b[0;36mfunc_graph_from_py_func\u001b[0;34m(name, python_func, args, kwargs, signature, func_graph, autograph, autograph_options, add_control_dependencies, arg_names, op_return_value, collections, capture_by_value, override_flat_arg_shapes)\u001b[0m\n\u001b[1;32m    979\u001b[0m         \u001b[0m_\u001b[0m\u001b[0;34m,\u001b[0m \u001b[0moriginal_func\u001b[0m \u001b[0;34m=\u001b[0m \u001b[0mtf_decorator\u001b[0m\u001b[0;34m.\u001b[0m\u001b[0munwrap\u001b[0m\u001b[0;34m(\u001b[0m\u001b[0mpython_func\u001b[0m\u001b[0;34m)\u001b[0m\u001b[0;34m\u001b[0m\u001b[0;34m\u001b[0m\u001b[0m\n\u001b[1;32m    980\u001b[0m \u001b[0;34m\u001b[0m\u001b[0m\n\u001b[0;32m--> 981\u001b[0;31m       \u001b[0mfunc_outputs\u001b[0m \u001b[0;34m=\u001b[0m \u001b[0mpython_func\u001b[0m\u001b[0;34m(\u001b[0m\u001b[0;34m*\u001b[0m\u001b[0mfunc_args\u001b[0m\u001b[0;34m,\u001b[0m \u001b[0;34m**\u001b[0m\u001b[0mfunc_kwargs\u001b[0m\u001b[0;34m)\u001b[0m\u001b[0;34m\u001b[0m\u001b[0;34m\u001b[0m\u001b[0m\n\u001b[0m\u001b[1;32m    982\u001b[0m \u001b[0;34m\u001b[0m\u001b[0m\n\u001b[1;32m    983\u001b[0m       \u001b[0;31m# invariant: `func_outputs` contains only Tensors, CompositeTensors,\u001b[0m\u001b[0;34m\u001b[0m\u001b[0;34m\u001b[0m\u001b[0;34m\u001b[0m\u001b[0m\n",
      "\u001b[0;32m/usr/local/lib/python3.6/dist-packages/tensorflow/python/eager/def_function.py\u001b[0m in \u001b[0;36mwrapped_fn\u001b[0;34m(*args, **kwds)\u001b[0m\n\u001b[1;32m    439\u001b[0m         \u001b[0;31m# __wrapped__ allows AutoGraph to swap in a converted function. We give\u001b[0m\u001b[0;34m\u001b[0m\u001b[0;34m\u001b[0m\u001b[0;34m\u001b[0m\u001b[0m\n\u001b[1;32m    440\u001b[0m         \u001b[0;31m# the function a weak reference to itself to avoid a reference cycle.\u001b[0m\u001b[0;34m\u001b[0m\u001b[0;34m\u001b[0m\u001b[0;34m\u001b[0m\u001b[0m\n\u001b[0;32m--> 441\u001b[0;31m         \u001b[0;32mreturn\u001b[0m \u001b[0mweak_wrapped_fn\u001b[0m\u001b[0;34m(\u001b[0m\u001b[0;34m)\u001b[0m\u001b[0;34m.\u001b[0m\u001b[0m__wrapped__\u001b[0m\u001b[0;34m(\u001b[0m\u001b[0;34m*\u001b[0m\u001b[0margs\u001b[0m\u001b[0;34m,\u001b[0m \u001b[0;34m**\u001b[0m\u001b[0mkwds\u001b[0m\u001b[0;34m)\u001b[0m\u001b[0;34m\u001b[0m\u001b[0;34m\u001b[0m\u001b[0m\n\u001b[0m\u001b[1;32m    442\u001b[0m     \u001b[0mweak_wrapped_fn\u001b[0m \u001b[0;34m=\u001b[0m \u001b[0mweakref\u001b[0m\u001b[0;34m.\u001b[0m\u001b[0mref\u001b[0m\u001b[0;34m(\u001b[0m\u001b[0mwrapped_fn\u001b[0m\u001b[0;34m)\u001b[0m\u001b[0;34m\u001b[0m\u001b[0;34m\u001b[0m\u001b[0m\n\u001b[1;32m    443\u001b[0m \u001b[0;34m\u001b[0m\u001b[0m\n",
      "\u001b[0;32m/usr/local/lib/python3.6/dist-packages/tensorflow/python/framework/func_graph.py\u001b[0m in \u001b[0;36mwrapper\u001b[0;34m(*args, **kwargs)\u001b[0m\n\u001b[1;32m    966\u001b[0m           \u001b[0;32mexcept\u001b[0m \u001b[0mException\u001b[0m \u001b[0;32mas\u001b[0m \u001b[0me\u001b[0m\u001b[0;34m:\u001b[0m  \u001b[0;31m# pylint:disable=broad-except\u001b[0m\u001b[0;34m\u001b[0m\u001b[0;34m\u001b[0m\u001b[0m\n\u001b[1;32m    967\u001b[0m             \u001b[0;32mif\u001b[0m \u001b[0mhasattr\u001b[0m\u001b[0;34m(\u001b[0m\u001b[0me\u001b[0m\u001b[0;34m,\u001b[0m \u001b[0;34m\"ag_error_metadata\"\u001b[0m\u001b[0;34m)\u001b[0m\u001b[0;34m:\u001b[0m\u001b[0;34m\u001b[0m\u001b[0;34m\u001b[0m\u001b[0m\n\u001b[0;32m--> 968\u001b[0;31m               \u001b[0;32mraise\u001b[0m \u001b[0me\u001b[0m\u001b[0;34m.\u001b[0m\u001b[0mag_error_metadata\u001b[0m\u001b[0;34m.\u001b[0m\u001b[0mto_exception\u001b[0m\u001b[0;34m(\u001b[0m\u001b[0me\u001b[0m\u001b[0;34m)\u001b[0m\u001b[0;34m\u001b[0m\u001b[0;34m\u001b[0m\u001b[0m\n\u001b[0m\u001b[1;32m    969\u001b[0m             \u001b[0;32melse\u001b[0m\u001b[0;34m:\u001b[0m\u001b[0;34m\u001b[0m\u001b[0;34m\u001b[0m\u001b[0m\n\u001b[1;32m    970\u001b[0m               \u001b[0;32mraise\u001b[0m\u001b[0;34m\u001b[0m\u001b[0;34m\u001b[0m\u001b[0m\n",
      "\u001b[0;31mValueError\u001b[0m: in user code:\n\n    <ipython-input-17-a3a8c56b4f4e>:7 exp_moving  *\n        decay_rate = tf.Variable(decay_rate, dtype= tf.float32)\n    /usr/local/lib/python3.6/dist-packages/tensorflow/python/ops/variables.py:261 __call__  **\n        return cls._variable_v2_call(*args, **kwargs)\n    /usr/local/lib/python3.6/dist-packages/tensorflow/python/ops/variables.py:255 _variable_v2_call\n        shape=shape)\n    /usr/local/lib/python3.6/dist-packages/tensorflow/python/ops/variables.py:66 getter\n        return captured_getter(captured_previous, **kwargs)\n    /usr/local/lib/python3.6/dist-packages/tensorflow/python/eager/def_function.py:511 invalid_creator_scope\n        \"tf.function-decorated function tried to create \"\n\n    ValueError: tf.function-decorated function tried to create variables on non-first call.\n"
     ]
    }
   ],
   "source": [
    "#@title 4 with tf function\n",
    "\n",
    "@tf.function\n",
    "def exp_moving(a, decay_rate):\n",
    "  \n",
    "  b = tf.TensorArray(dtype = tf.float32, size= 0, dynamic_size= True)\n",
    "  decay_rate = tf.Variable(decay_rate, dtype= tf.float32)\n",
    "  sh = tf.convert_to_tensor(tf.shape(a)[0])\n",
    "  #print(sh)\n",
    "\n",
    "  for i in tf.range(0,sh, delta=1):    \n",
    "    if i == 0:\n",
    "      b = b.write(i,a[i])\n",
    "    else:\n",
    "      m = tf.math.multiply(decay_rate,b.stack()[i-1])\n",
    "      \n",
    "      n = tf.math.multiply((1-decay_rate),a[i])\n",
    "      \n",
    "      c = m + n \n",
    "      b = b.write(i,c)\n",
    "  b = b.stack()\n",
    "  return b\n",
    "\n",
    "a = tf.Variable([100,200, 300], dtype= tf.float32)\n",
    "#print(a)\n",
    "decay_rate = 0.33\n",
    "b = exp_moving(a, decay_rate)\n",
    "tf.print(b)"
   ]
  },
  {
   "cell_type": "code",
   "execution_count": 71,
   "metadata": {
    "cellView": "both",
    "colab": {
     "base_uri": "https://localhost:8080/",
     "height": 35
    },
    "colab_type": "code",
    "id": "uScdnzmo8ORx",
    "outputId": "0ef9b0f2-f894-4c50-af6f-4b9305cccd71"
   },
   "outputs": [
    {
     "name": "stdout",
     "output_type": "stream",
     "text": [
      "225\n"
     ]
    }
   ],
   "source": [
    "#@title 5\n",
    "def exp_moving(a, decay_rate,b,i):\n",
    "  if tf.shape(a)[0] == i:\n",
    "    return \n",
    "\n",
    "  # for i in tf.range(0,tf.shape(a), delta=1):\n",
    "  if i == 0:\n",
    "    b = b.write(i,a[i])\n",
    "    # b = b.stack()\n",
    "    # print(b)\n",
    "    exp_moving(a,decay_rate,b,i+1)\n",
    "  else:\n",
    "    # print(b)\n",
    "    m = tf.math.multiply(decay_rate,b.stack()[i-1])\n",
    "    \n",
    "    n = tf.math.multiply((1-decay_rate),a[i])\n",
    "    # b.unstack()\n",
    "    c = m + n \n",
    "    # print(c)\n",
    "    b = b.write(i,c)\n",
    "    # b = b.stack()\n",
    "\n",
    "    exp_moving(a,decay_rate,b,i+1)\n",
    "    # b = b.stack()\n",
    "  return b.stack()[-1]\n",
    "\n",
    "a = tf.Variable([100,200, 300], dtype= tf.float32)\n",
    "#print(a)\n",
    "decay_rate = 0.5\n",
    "decay_rate = tf.Variable(decay_rate, dtype= tf.float32)\n",
    "\n",
    "b = tf.TensorArray(dtype = tf.float32, size= 0, dynamic_size= True)\n",
    "output = exp_moving(a, decay_rate,b,i=0)\n",
    "tf.print(output)"
   ]
  },
  {
   "cell_type": "code",
   "execution_count": 54,
   "metadata": {
    "cellView": "both",
    "colab": {
     "base_uri": "https://localhost:8080/",
     "height": 87
    },
    "colab_type": "code",
    "id": "2vmmlnEXVMgG",
    "outputId": "795aba02-6e0f-460f-fb4c-5ce61ebf3ab7"
   },
   "outputs": [
    {
     "name": "stdout",
     "output_type": "stream",
     "text": [
      "tf.Tensor(\n",
      "[[19. 11. 21.]\n",
      " [13. 23. 15.]\n",
      " [25. 17. 27.]], shape=(3, 3), dtype=float32)\n"
     ]
    }
   ],
   "source": [
    "#@title 6\n",
    "@tf.function\n",
    "def odd_eve(x,y,z):\n",
    "\n",
    "  m = tf.TensorArray(dtype= tf.float32, size= 0, dynamic_size= True)\n",
    "  if tf.shape(x).shape == 1:\n",
    "    for i in tf.range(tf.shape(x)[0]):\n",
    "      if (x[i]%2 == 0):\n",
    "        m =m.write(i,y[i])\n",
    "      else:\n",
    "        m = m.write(i, z[i])\n",
    "  else:\n",
    "\n",
    "    for i in tf.range(tf.shape(x)[0]):\n",
    "      n = tf.TensorArray(dtype= tf.float32, size= 0, dynamic_size= True)\n",
    "      for j in tf.range(tf.shape(x)[1]):\n",
    "        if (x[i][j]% 2 == 0):\n",
    "          n = n.write(j,y[i][j])\n",
    "        else:\n",
    "          n = n.write(j,z[i][j])\n",
    "      n = n.stack()\n",
    "      m= m.write(i,n)\n",
    "\n",
    "  return m.stack()\n",
    "\n",
    "x = tf.Variable([[1,2,3],[4,5,6],[7,8,9]], dtype= tf.float32)\n",
    "y = tf.Variable([[10,11,12],[13,14,15],[16,17,18]], dtype= tf.float32)\n",
    "z = tf.Variable([[19,20,21],[22,23,24],[25,26,27]], dtype= tf.float32)\n",
    "\n",
    "print(odd_eve(x,y,z))\n",
    "\n",
    "\n",
    "\n"
   ]
  },
  {
   "cell_type": "code",
   "execution_count": 43,
   "metadata": {
    "cellView": "both",
    "colab": {
     "base_uri": "https://localhost:8080/",
     "height": 35
    },
    "colab_type": "code",
    "id": "AZ8AfIozco3F",
    "outputId": "11582582-61df-49e2-bed2-329d4db5af96"
   },
   "outputs": [
    {
     "name": "stdout",
     "output_type": "stream",
     "text": [
      "tf.Tensor(12, shape=(), dtype=int32)\n"
     ]
    }
   ],
   "source": [
    "#@title 7\n",
    "@tf.function\n",
    "def last_dim(x):\n",
    "  if tf.shape(x)[-1] > 100:\n",
    "     return 100\n",
    "  elif tf.shape(x)[-1] >44:\n",
    "     return 12\n",
    "  else:\n",
    "    return 0\n",
    " \n",
    "x = tf.Variable(tf.zeros(shape = (100,44,55,66)))\n",
    "print(last_dim(x))\n"
   ]
  },
  {
   "cell_type": "markdown",
   "metadata": {
    "colab_type": "text",
    "id": "q3jEih-dKzXD"
   },
   "source": [
    "When using tf.function all the counter increase irrespective of the condition met. We could not mitigate the issue"
   ]
  },
  {
   "cell_type": "code",
   "execution_count": 0,
   "metadata": {
    "cellView": "both",
    "colab": {},
    "colab_type": "code",
    "id": "TLuqO6y6nvtG"
   },
   "outputs": [],
   "source": [
    "#@title 8\n",
    "count_100 = 0\n",
    "count_44 = 0\n",
    "count_0 = 0"
   ]
  },
  {
   "cell_type": "code",
   "execution_count": 50,
   "metadata": {
    "cellView": "both",
    "colab": {
     "base_uri": "https://localhost:8080/",
     "height": 87
    },
    "colab_type": "code",
    "id": "vspwfVdJjZp5",
    "outputId": "bcbcee0a-25c4-4b3a-ae83-38620637c5f8"
   },
   "outputs": [
    {
     "name": "stdout",
     "output_type": "stream",
     "text": [
      "0\n",
      "Count100 : 0\n",
      "Count44 : 0\n",
      "Count0 : 1\n"
     ]
    }
   ],
   "source": [
    "#@title 8\n",
    "\n",
    "def last_dim(x):\n",
    "  if tf.shape(x)[-1] > 100:\n",
    "    global count_100\n",
    "    count_100 = count_100 + 1\n",
    "    return 100\n",
    "  elif tf.shape(x)[-1] >44:\n",
    "    global count_44\n",
    "    count_44 = count_44 + 1\n",
    "    return 12\n",
    "  else:\n",
    "    global count_0\n",
    "    count_0 = count_0 + 1\n",
    "    return 0\n",
    "\n",
    "\n",
    " \n",
    "x = tf.Variable(tf.zeros(shape = (100,44,55,43)))\n",
    "print(last_dim(x))\n",
    "print(\"Count100 :\", count_100)\n",
    "print(\"Count44 :\", count_44)\n",
    "print(\"Count0 :\", count_0)\n"
   ]
  },
  {
   "cell_type": "code",
   "execution_count": 35,
   "metadata": {
    "cellView": "both",
    "colab": {
     "base_uri": "https://localhost:8080/",
     "height": 87
    },
    "colab_type": "code",
    "id": "JRhmqUxmqARh",
    "outputId": "0f7bdc3c-ed5a-46df-e5f7-749d33971eba"
   },
   "outputs": [
    {
     "name": "stdout",
     "output_type": "stream",
     "text": [
      "tf.Tensor(\n",
      "[[-3. -4. -5.]\n",
      " [-2. -3. -4.]\n",
      " [-1. -2. -3.]], shape=(3, 3), dtype=float32)\n"
     ]
    }
   ],
   "source": [
    "#@title 9\n",
    "@tf.function\n",
    "def broad_cast(a,b):\n",
    "  return tf.transpose(a- tf.reshape(b,[tf.shape(b)[0],1]))\n",
    "\n",
    "\n",
    "a = tf.Variable([1,2,3], dtype = tf.float32)\n",
    "b = tf.Variable([4,5,6], dtype = tf.float32)\n",
    "\n",
    "print(broad_cast(a,b))\n"
   ]
  },
  {
   "cell_type": "code",
   "execution_count": 42,
   "metadata": {
    "cellView": "both",
    "colab": {
     "base_uri": "https://localhost:8080/",
     "height": 87
    },
    "colab_type": "code",
    "id": "uZNOd8b2xMYV",
    "outputId": "afd27665-11d8-4425-804f-95e0648be16d"
   },
   "outputs": [
    {
     "name": "stdout",
     "output_type": "stream",
     "text": [
      "tf.Tensor(\n",
      "[[ 4.  8. 12. 16.]\n",
      " [20. 24. 28. 32.]\n",
      " [36. 40. 44. 48.]], shape=(3, 4), dtype=float32)\n"
     ]
    }
   ],
   "source": [
    "#@title 10\n",
    "@tf.function\n",
    "def attention(encoder_states, decoder_state):\n",
    "  alpha = tf.tensordot(encoder_states, decoder_state, axes= [[-1],[-1]])\n",
    "  alpha = tf.reduce_mean(alpha, axis=2)\n",
    "  return alpha\n",
    "encoder_states = tf.Variable([[[1,1,1,1],[2,2,2,2],[3,3,3,3],[4,4,4,4]],[[5,5,5,5],[6,6,6,6],[7,7,7,7],[8,8,8,8]],[[9,9,9,9],[10,10,10,10],[11,11,11,11],[12,12,12,12]]] ,dtype= tf.float32)\n",
    "decoder_state = tf.Variable(tf.ones((3,4)), dtype= tf.float32)\n",
    "print(attention(encoder_states, decoder_state))"
   ]
  }
 ],
 "metadata": {
  "accelerator": "GPU",
  "colab": {
   "collapsed_sections": [],
   "name": "Tensorflowcore",
   "provenance": []
  },
  "kernelspec": {
   "display_name": "Python 3",
   "language": "python",
   "name": "python3"
  },
  "language_info": {
   "codemirror_mode": {
    "name": "ipython",
    "version": 3
   },
   "file_extension": ".py",
   "mimetype": "text/x-python",
   "name": "python",
   "nbconvert_exporter": "python",
   "pygments_lexer": "ipython3",
   "version": "3.7.3"
  }
 },
 "nbformat": 4,
 "nbformat_minor": 1
}
