{
  "cells": [
    {
      "cell_type": "markdown",
      "metadata": {
        "colab_type": "text",
        "id": "2wtSADyaQ3SF"
      },
      "source": [
        "# **IDL Assignment 3 - Keras and CNNs**"
      ]
    },
    {
      "cell_type": "markdown",
      "metadata": {
        "colab_type": "text",
        "id": "b3fVxBd5HocV"
      },
      "source": [
        "## **Assigning Tensorflow version and importing the libraries required for the tasks**\n"
      ]
    },
    {
      "cell_type": "code",
      "execution_count": null,
      "metadata": {
        "colab": {
          "base_uri": "https://localhost:8080/",
          "height": 70
        },
        "colab_type": "code",
        "id": "3g1v3YHPFgiV",
        "outputId": "83b80040-7663-4091-e340-607e1978032f",
        "vscode": {
          "languageId": "python"
        }
      },
      "outputs": [
        {
          "name": "stderr",
          "output_type": "stream",
          "text": [
            "/usr/local/lib/python3.6/dist-packages/statsmodels/tools/_testing.py:19: FutureWarning: pandas.util.testing is deprecated. Use the functions in the public API at pandas.testing instead.\n",
            "  import pandas.util.testing as tm\n"
          ]
        }
      ],
      "source": [
        "%tensorflow_version 2.x\n",
        "\n",
        "import tensorflow as tf\n",
        "import numpy as np\n",
        "import matplotlib.pyplot as plt\n",
        "import pandas as pd\n",
        "import seaborn as sns\n",
        "import os"
      ]
    },
    {
      "cell_type": "code",
      "execution_count": null,
      "metadata": {
        "colab": {
          "base_uri": "https://localhost:8080/",
          "height": 34
        },
        "colab_type": "code",
        "id": "ZqgaqJz2HoAM",
        "outputId": "059511e7-2445-4e7a-a032-91ff081d03e2",
        "vscode": {
          "languageId": "python"
        }
      },
      "outputs": [
        {
          "data": {
            "text/plain": [
              "'2.2.0-rc4'"
            ]
          },
          "execution_count": 2,
          "metadata": {
            "tags": []
          },
          "output_type": "execute_result"
        }
      ],
      "source": [
        "tf.__version__"
      ]
    },
    {
      "cell_type": "markdown",
      "metadata": {
        "colab_type": "text",
        "id": "gfXS6CZD62lU"
      },
      "source": [
        "## **Load CIFAR10 dataset**"
      ]
    },
    {
      "cell_type": "code",
      "execution_count": null,
      "metadata": {
        "colab": {
          "base_uri": "https://localhost:8080/",
          "height": 50
        },
        "colab_type": "code",
        "id": "18HxS0Sq4dJp",
        "outputId": "742c6a77-1be3-4263-80f8-15fff74f8782",
        "vscode": {
          "languageId": "python"
        }
      },
      "outputs": [
        {
          "name": "stdout",
          "output_type": "stream",
          "text": [
            "Downloading data from https://www.cs.toronto.edu/~kriz/cifar-10-python.tar.gz\n",
            "170500096/170498071 [==============================] - 4s 0us/step\n"
          ]
        }
      ],
      "source": [
        "(train_images, train_labels), (test_images, test_labels) = tf.keras.datasets.cifar10.load_data()\n"
      ]
    },
    {
      "cell_type": "code",
      "execution_count": null,
      "metadata": {
        "colab": {
          "base_uri": "https://localhost:8080/",
          "height": 283
        },
        "colab_type": "code",
        "id": "M4JoElkz7v0b",
        "outputId": "dd0a0a21-6a82-4173-c176-605531079b39",
        "vscode": {
          "languageId": "python"
        }
      },
      "outputs": [
        {
          "data": {
            "text/plain": [
              "<matplotlib.image.AxesImage at 0x7f7d5b475240>"
            ]
          },
          "execution_count": 4,
          "metadata": {
            "tags": []
          },
          "output_type": "execute_result"
        },
        {
          "data": {
            "image/png": "[encoded data removed]",
            "text/plain": [
              "<Figure size 432x288 with 1 Axes>"
            ]
          },
          "metadata": {
            "needs_background": "light",
            "tags": []
          },
          "output_type": "display_data"
        }
      ],
      "source": [
        "plt.imshow(train_images[7], cmap=plt.cm.binary)\n"
      ]
    },
    {
      "cell_type": "code",
      "execution_count": null,
      "metadata": {
        "colab": {},
        "colab_type": "code",
        "id": "8XhZxPPz7VVo",
        "vscode": {
          "languageId": "python"
        }
      },
      "outputs": [],
      "source": [
        "\n",
        "# this is now different\n",
        "train_data = tf.data.Dataset.from_tensor_slices((train_images, train_labels))\n",
        "\n",
        "test_data = tf.data.Dataset.from_tensor_slices((test_images, test_labels))\n",
        "\n",
        "\n",
        "# things we really gotta do:\n",
        "# - normalize the images to [0, 1] (first convert to float)\n",
        "# - reshape images from (28, 28) to (784,) (although we could do this later!)\n",
        "# - convert labels to int32 (otherwise tensorflow is gonna be sad :( )\n",
        "\n",
        "#train_images = (train_images.astype(np.float32) / 255.).reshape((-1, 784))\n",
        "#test_images = (test_images.astype(np.float32) / 255.).reshape((-1, 784))\n",
        "train_images = (train_images.astype(np.float32) / 255.)\n",
        "test_images = (test_images.astype(np.float32) / 255.)\n",
        "\n",
        "train_labels = train_labels.astype(np.int32).reshape((-1,))\n",
        "test_labels = test_labels.astype(np.int32).reshape((-1,))\n",
        "\n",
        "train_data = tf.data.Dataset.from_tensor_slices((train_images, train_labels))\n",
        "\n",
        "test_data = tf.data.Dataset.from_tensor_slices((test_images, test_labels))\n",
        "\n",
        "    \n"
      ]
    },
    {
      "cell_type": "code",
      "execution_count": null,
      "metadata": {
        "colab": {
          "base_uri": "https://localhost:8080/",
          "height": 34
        },
        "colab_type": "code",
        "id": "8v6ZsAtg8i6N",
        "outputId": "71265867-3f28-4fd7-9a4e-5e8adec44b55",
        "vscode": {
          "languageId": "python"
        }
      },
      "outputs": [
        {
          "data": {
            "text/plain": [
              "<TensorSliceDataset shapes: ((32, 32, 3), ()), types: (tf.float32, tf.int32)>"
            ]
          },
          "execution_count": 6,
          "metadata": {
            "tags": []
          },
          "output_type": "execute_result"
        }
      ],
      "source": [
        "train_data"
      ]
    },
    {
      "cell_type": "code",
      "execution_count": null,
      "metadata": {
        "colab": {},
        "colab_type": "code",
        "id": "rFRLy9TYEeKQ",
        "vscode": {
          "languageId": "python"
        }
      },
      "outputs": [],
      "source": [
        "## Declare the sizes of batch, shuffle and repeat\n",
        "\n",
        "SHUFFLE_SIZE = 10000\n",
        "BATCH_SIZE = 128\n",
        "REPEAT_TIMES = 3"
      ]
    },
    {
      "cell_type": "code",
      "execution_count": null,
      "metadata": {
        "colab": {},
        "colab_type": "code",
        "id": "H5JAavDtD_cu",
        "vscode": {
          "languageId": "python"
        }
      },
      "outputs": [],
      "source": [
        "def batch_shuffle_repeat(data):\n",
        "\n",
        "\n",
        "    data = data.shuffle(SHUFFLE_SIZE, reshuffle_each_iteration= True)\n",
        "    data = data.batch(BATCH_SIZE)    \n",
        "    #data = data.repeat(REPEAT_TIMES)\n",
        "\n",
        "\n",
        "    return data"
      ]
    },
    {
      "cell_type": "code",
      "execution_count": null,
      "metadata": {
        "colab": {},
        "colab_type": "code",
        "id": "wyyEwmin_pDP",
        "vscode": {
          "languageId": "python"
        }
      },
      "outputs": [],
      "source": [
        "train_data = batch_shuffle_repeat(train_data)\n"
      ]
    },
    {
      "cell_type": "code",
      "execution_count": null,
      "metadata": {
        "colab": {},
        "colab_type": "code",
        "id": "Nm-8yNhwytO-",
        "vscode": {
          "languageId": "python"
        }
      },
      "outputs": [],
      "source": [
        "test_data = test_data.shuffle(SHUFFLE_SIZE).batch(BATCH_SIZE)"
      ]
    },
    {
      "cell_type": "code",
      "execution_count": null,
      "metadata": {
        "colab": {
          "base_uri": "https://localhost:8080/",
          "height": 34
        },
        "colab_type": "code",
        "id": "nkGjoL-x9Uuc",
        "outputId": "bb68f244-2918-4242-8a57-74c457eed600",
        "vscode": {
          "languageId": "python"
        }
      },
      "outputs": [
        {
          "data": {
            "text/plain": [
              "(50000,)"
            ]
          },
          "execution_count": 11,
          "metadata": {
            "tags": []
          },
          "output_type": "execute_result"
        }
      ],
      "source": [
        "train_labels.shape"
      ]
    },
    {
      "cell_type": "markdown",
      "metadata": {
        "colab_type": "text",
        "id": "lVOI2YJtjQjA"
      },
      "source": [
        "## Training of the CNN Network"
      ]
    },
    {
      "cell_type": "markdown",
      "metadata": {
        "colab_type": "text",
        "id": "XLETTkGw1YnL"
      },
      "source": [
        "**Parameter Settings**\n",
        "\n",
        "**Run 1** -- **Test Accuracy - 65.20%**\n",
        "\n",
        "\n",
        "Padding - Same in all convolution layer\n",
        "\n",
        "\n",
        "**epochs= 3**\n",
        "\n",
        "![](https://drive.google.com/uc?id=1XFUK5JBv9BNq0en2PZgStjm5mXIjVZ-H)\n",
        "\n",
        "\n",
        "---\n",
        "\n",
        "\n",
        "\n",
        "**Run 2** -- **Test Accuracy - 61.39%**\n",
        "\n",
        "\n",
        "Padding - valid in all convolution layer\n",
        "\n",
        "\n",
        "**epochs= 3**\n",
        "\n",
        "![alt text](https://drive.google.com/uc?id=1cF9Q-ZrTj3OJKvOWMKsMcMUuTQu8PojW)\n",
        "\n",
        "\n",
        "---\n",
        "\n",
        "\n",
        "\n",
        "**Run 3** -- **Test Accuracy - 60.58%**\n",
        "\n",
        "\n",
        "Padding - same in all convolution layer\n",
        "\n",
        "\n",
        "**epochs= 3**\n",
        "\n",
        "![alt text](https://drive.google.com/uc?id=1g3D1mT4ekCEFjkFjIfQxGx6Ak3DaP5Lj)\n",
        "\n",
        "\n",
        "---\n",
        "\n",
        "\n",
        "\n",
        "**Run 4** -- **Test Accuracy - 63.67%**\n",
        "\n",
        "\n",
        "Padding - same in all convolution layer\n",
        "\n",
        "\n",
        "**epochs= 3**\n",
        "\n",
        "![alt text](https://drive.google.com/uc?id=1-przRunHmx2tdlnHgbGgly9SKhr7vugg)\n",
        "\n",
        "\n",
        "---\n",
        "\n",
        "\n",
        "\n",
        "**Run 5** -- **Test Accuracy - 72.03%**\n",
        "\n",
        "\n",
        "Padding - same in all convolution layer\n",
        "\n",
        "\n",
        "**epochs= 3**\n",
        "\n",
        "![alt text](https://drive.google.com/uc?id=184ub9cn6CSRqUetPOrHf0Q5lgf5MefRa)\n",
        "\n",
        "\n",
        "---\n",
        "\n",
        "\n",
        "\n",
        "**Run 6** -- **Test Accuracy - 78.26%**\n",
        "\n",
        "\n",
        "Padding - same in all convolution layer\n",
        "\n",
        "\n",
        "**Parameters same as run5 | epoch - 50**\n",
        "\n",
        "\n",
        "---\n",
        "\n",
        "\n",
        "\n",
        "**Run 7** -- **Test Accuracy - 78.64%**\n",
        "\n",
        "\n",
        "Padding - same in all convolution layer\n",
        "\n",
        "\n",
        "**Parameters same as run5 | epoch - 100**\n",
        "\n",
        "\n",
        "---\n",
        "\n",
        "\n",
        "\n",
        "**Run 8** -- **Test Accuracy - 84.03%**\n",
        "\n",
        "\n",
        "Padding - same in all convolution layer and dropout(0.25) after every pooling layer\n",
        "\n",
        "\n",
        "**Parameters same as run5 | epoch - 100**\n",
        "\n",
        "\n",
        "---\n",
        "\n",
        "\n",
        "\n",
        "**Run 9** -- **Test Accuracy - 85.26%**\n",
        "\n",
        "\n",
        "Padding - same in all convolution layer and dropout after every pooling layer\n",
        "**epoch - 100**\n",
        "\n",
        "![alt text](https://drive.google.com/uc?id=1hd_u7o6Io6y6r5aary9f-fAll-Q5_Q8Q)\n",
        "\n",
        "\n",
        "---\n",
        "\n",
        "\n",
        "**Run 10** -- **Test Accuracy - 85.79%**\n",
        "\n",
        "\n",
        "Padding - same in all convolution layer and dropout after every pool layer\n",
        "\n",
        "**Parameters same as run9 | epoch - 150**\n",
        "\n",
        "\n",
        "---\n",
        "\n",
        "\n",
        "**Run 11** -- **Test Accuracy - 84.59%**\n",
        "\n",
        "\n",
        "Padding - same in all layers.. and dropout after every pooling layer and after last FullyConnected layer and before output layer\n",
        "\n",
        "**epoch - 200**\n",
        "\n",
        "![alt text](https://drive.google.com/uc?id=1Ec6q-bSKCr8knxDopu5mdecis2uJ2ZDO)\n",
        "\n",
        "\n",
        "---\n",
        "\n",
        "\n",
        "**Run 12** -- **Test Accuracy - 85.67%**\n",
        "\n",
        "\n",
        "Padding - same in all convolution layer and dropout after every pooling layer\n",
        "\n",
        "**Parameters same as run9 |  epoch - 200**\n",
        "\n",
        "\n",
        "---\n",
        "\n",
        "\n",
        "**Run 13** -- **Test Accuracy - 85.82%**\n",
        "\n",
        "\n",
        "Padding - same in all convolution layer and dropout after every pooling layer\n",
        "\n",
        "**Parameters same as run9 | epoch - 400**\n",
        "\n",
        "\n",
        "---\n",
        "\n",
        "\n",
        "**Run 14** -- **Test Accuracy - 55.97%**\n",
        "\n",
        "\n",
        "Padding - same in all convolution layer and dropout after every pooling layer\n",
        "\n",
        "\n",
        "**Size of filter used is now 1**\n",
        "\n",
        "**Parameters same as run9 | epoch - 200**\n",
        "\n",
        "\n",
        "---\n",
        "\n",
        "\n",
        "**Run 15** -- **Test Accuracy - 10.00%**\n",
        "\n",
        "\n",
        "Padding - same in all convolution layer and dropout after every pooling layer\n",
        "\n",
        "\n",
        "**Size of filter same as size of input to that layer**\n",
        "\n",
        "**Parameters same as run9 | epoch - 200**\n",
        "\n",
        "---\n",
        "\n"
      ]
    },
    {
      "cell_type": "code",
      "execution_count": null,
      "metadata": {
        "colab": {},
        "colab_type": "code",
        "id": "Cg1sUAcfjqhc",
        "vscode": {
          "languageId": "python"
        }
      },
      "outputs": [],
      "source": [
        "layers_config = [\n",
        "          tf.keras.layers.Conv2D(32,3,padding='same',activation='relu',\n",
        "                                 input_shape=(32,32,3),\n",
        "                                 kernel_initializer = tf.keras.initializers.RandomUniform(minval=-0.1, maxval=0.1, seed=None),\n",
        "                                 use_bias = True,bias_initializer='zeros'),\n",
        "          tf.keras.layers.Conv2D(32,3,padding='same',activation='relu',\n",
        "                                 kernel_initializer = tf.keras.initializers.RandomUniform(minval=-0.1, maxval=0.1, seed=None),\n",
        "                                 use_bias = True,bias_initializer='zeros'),\n",
        "          tf.keras.layers.MaxPool2D((2,2)),\n",
        "          tf.keras.layers.Dropout(0.2),\n",
        "\n",
        "          tf.keras.layers.Conv2D(64,3,padding='same',activation='relu',\n",
        "                                 kernel_initializer = tf.keras.initializers.RandomUniform(minval=-0.1, maxval=0.1, seed=None),\n",
        "                                 use_bias = True,bias_initializer='zeros'),\n",
        "          tf.keras.layers.Conv2D(64,3,padding='same',activation='relu',\n",
        "                                 kernel_initializer = tf.keras.initializers.RandomUniform(minval=-0.1, maxval=0.1, seed=None),\n",
        "                                 use_bias = True,bias_initializer='zeros'),\n",
        "          tf.keras.layers.MaxPool2D((2,2)),\n",
        "          tf.keras.layers.Dropout(0.3),\n",
        "\n",
        "          tf.keras.layers.Conv2D(128,3,padding='same',activation='relu',\n",
        "                                 kernel_initializer = tf.keras.initializers.RandomUniform(minval=-0.1, maxval=0.1, seed=None),\n",
        "                                 use_bias = True,bias_initializer='zeros'),\n",
        "          tf.keras.layers.Conv2D(128,3,padding='same',activation='relu',\n",
        "                                 kernel_initializer = tf.keras.initializers.RandomUniform(minval=-0.1, maxval=0.1, seed=None),\n",
        "                                 use_bias = True,bias_initializer='zeros'),\n",
        "          tf.keras.layers.MaxPool2D((2,2)),\n",
        "          tf.keras.layers.Dropout(0.4),\n",
        "\n",
        "          tf.keras.layers.Conv2D(256,3,padding='same',activation='relu',\n",
        "                                 kernel_initializer = tf.keras.initializers.RandomUniform(minval=-0.1, maxval=0.1, seed=None),\n",
        "                                 use_bias = True,bias_initializer='zeros'),\n",
        "          tf.keras.layers.MaxPool2D((2,2)),\n",
        "          tf.keras.layers.Dropout(0.25),\n",
        "\n",
        "          tf.keras.layers.Flatten(),\n",
        "          tf.keras.layers.Dense(128,activation='relu'),\n",
        "          #tf.keras.layers.Dropout(0.25),\n",
        "\n",
        "          tf.keras.layers.Dense(256,activation='relu'),\n",
        "          tf.keras.layers.Dense(512,activation='relu'),\n",
        "          #tf.keras.layers.Dense(1024,activation='relu'),\n",
        "          tf.keras.layers.Dense(10)\n",
        "\n",
        "]"
      ]
    },
    {
      "cell_type": "code",
      "execution_count": null,
      "metadata": {
        "colab": {},
        "colab_type": "code",
        "id": "KDPaF7LCi9sM",
        "vscode": {
          "languageId": "python"
        }
      },
      "outputs": [],
      "source": [
        "## Define the model\n",
        "model = tf.keras.Sequential(layers_config)\n"
      ]
    },
    {
      "cell_type": "code",
      "execution_count": null,
      "metadata": {
        "colab": {
          "base_uri": "https://localhost:8080/",
          "height": 823
        },
        "colab_type": "code",
        "id": "vrwjDyq2s91_",
        "outputId": "cae06416-bd1e-42f6-dc16-935512fe436f",
        "vscode": {
          "languageId": "python"
        }
      },
      "outputs": [
        {
          "name": "stdout",
          "output_type": "stream",
          "text": [
            "Model: \"sequential_3\"\n",
            "_________________________________________________________________\n",
            "Layer (type)                 Output Shape              Param #   \n",
            "=================================================================\n",
            "conv2d_21 (Conv2D)           (None, 32, 32, 32)        896       \n",
            "_________________________________________________________________\n",
            "conv2d_22 (Conv2D)           (None, 32, 32, 32)        9248      \n",
            "_________________________________________________________________\n",
            "max_pooling2d_12 (MaxPooling (None, 16, 16, 32)        0         \n",
            "_________________________________________________________________\n",
            "dropout_12 (Dropout)         (None, 16, 16, 32)        0         \n",
            "_________________________________________________________________\n",
            "conv2d_23 (Conv2D)           (None, 16, 16, 64)        18496     \n",
            "_________________________________________________________________\n",
            "conv2d_24 (Conv2D)           (None, 16, 16, 64)        36928     \n",
            "_________________________________________________________________\n",
            "max_pooling2d_13 (MaxPooling (None, 8, 8, 64)          0         \n",
            "_________________________________________________________________\n",
            "dropout_13 (Dropout)         (None, 8, 8, 64)          0         \n",
            "_________________________________________________________________\n",
            "conv2d_25 (Conv2D)           (None, 8, 8, 128)         73856     \n",
            "_________________________________________________________________\n",
            "conv2d_26 (Conv2D)           (None, 8, 8, 128)         147584    \n",
            "_________________________________________________________________\n",
            "max_pooling2d_14 (MaxPooling (None, 4, 4, 128)         0         \n",
            "_________________________________________________________________\n",
            "dropout_14 (Dropout)         (None, 4, 4, 128)         0         \n",
            "_________________________________________________________________\n",
            "conv2d_27 (Conv2D)           (None, 4, 4, 256)         295168    \n",
            "_________________________________________________________________\n",
            "max_pooling2d_15 (MaxPooling (None, 2, 2, 256)         0         \n",
            "_________________________________________________________________\n",
            "dropout_15 (Dropout)         (None, 2, 2, 256)         0         \n",
            "_________________________________________________________________\n",
            "flatten_3 (Flatten)          (None, 1024)              0         \n",
            "_________________________________________________________________\n",
            "dense_12 (Dense)             (None, 128)               131200    \n",
            "_________________________________________________________________\n",
            "dense_13 (Dense)             (None, 256)               33024     \n",
            "_________________________________________________________________\n",
            "dense_14 (Dense)             (None, 512)               131584    \n",
            "_________________________________________________________________\n",
            "dense_15 (Dense)             (None, 10)                5130      \n",
            "=================================================================\n",
            "Total params: 883,114\n",
            "Trainable params: 883,114\n",
            "Non-trainable params: 0\n",
            "_________________________________________________________________\n"
          ]
        }
      ],
      "source": [
        "## Get the summary of the model\n",
        "model.summary()"
      ]
    },
    {
      "cell_type": "code",
      "execution_count": null,
      "metadata": {
        "colab": {},
        "colab_type": "code",
        "id": "T49gkGxftRrf",
        "vscode": {
          "languageId": "python"
        }
      },
      "outputs": [],
      "source": [
        "## Define the optimizers and the losses\n",
        "\n",
        "## Optimizer defined\n",
        "opt = tf.keras.optimizers.Adam(0.001)\n",
        "\n",
        "\n",
        "## Loss function defined..  \n",
        "loss_fn = tf.keras.losses.SparseCategoricalCrossentropy(from_logits=True)\n",
        "\n",
        "## Train accuracy metric\n",
        "train_acc_metric = tf.keras.metrics.SparseCategoricalAccuracy()\n",
        "## Test Accuracy metric\n",
        "test_acc_metric = tf.keras.metrics.SparseCategoricalAccuracy()\n"
      ]
    },
    {
      "cell_type": "code",
      "execution_count": null,
      "metadata": {
        "colab": {
          "base_uri": "https://localhost:8080/",
          "height": 1000
        },
        "colab_type": "code",
        "id": "ouzj8I0RuSM2",
        "outputId": "f7f8b2ea-a35e-43da-f816-dfe01b6d11cf",
        "vscode": {
          "languageId": "python"
        }
      },
      "outputs": [
        {
          "name": "stdout",
          "output_type": "stream",
          "text": [
            "Start of epoch 0\n",
            "Loss: 1.938278317451477 Accuracy: 0.18992187082767487\n",
            "Loss: 1.7873191833496094 Accuracy: 0.2935156226158142\n",
            "Loss: 1.682999610900879 Accuracy: 0.3483593761920929\n",
            "Start of epoch 1\n",
            "Loss: 1.3540093898773193 Accuracy: 0.41648370027542114\n",
            "Loss: 1.378724217414856 Accuracy: 0.4454687535762787\n",
            "Loss: 1.4443848133087158 Accuracy: 0.48554688692092896\n",
            "Loss: 1.3925807476043701 Accuracy: 0.5060937404632568\n",
            "Start of epoch 2\n",
            "Loss: 1.0680367946624756 Accuracy: 0.5275250673294067\n",
            "Loss: 1.2524354457855225 Accuracy: 0.5482031106948853\n",
            "Loss: 1.2870652675628662 Accuracy: 0.5754687786102295\n",
            "Loss: 1.1348211765289307 Accuracy: 0.5793750286102295\n",
            "Start of epoch 3\n",
            "Loss: 0.9464881420135498 Accuracy: 0.5930050015449524\n",
            "Loss: 0.9391876459121704 Accuracy: 0.6042187213897705\n",
            "Loss: 0.981805682182312 Accuracy: 0.6305468678474426\n",
            "Loss: 0.8964163064956665 Accuracy: 0.6253125071525574\n",
            "Start of epoch 4\n",
            "Loss: 0.8680856227874756 Accuracy: 0.6325282454490662\n",
            "Loss: 0.9439824819564819 Accuracy: 0.6376562714576721\n",
            "Loss: 0.8798980712890625 Accuracy: 0.6527343988418579\n",
            "Loss: 0.7790907025337219 Accuracy: 0.6569530963897705\n",
            "Start of epoch 5\n",
            "Loss: 0.8327347040176392 Accuracy: 0.6802070140838623\n",
            "Loss: 0.8715776205062866 Accuracy: 0.6853906512260437\n",
            "Loss: 0.8840887546539307 Accuracy: 0.681640625\n",
            "Loss: 0.9516196250915527 Accuracy: 0.6846093535423279\n",
            "Start of epoch 6\n",
            "Loss: 1.1395800113677979 Accuracy: 0.6951850652694702\n",
            "Loss: 0.7157125473022461 Accuracy: 0.7016406059265137\n",
            "Loss: 0.8859621286392212 Accuracy: 0.7111718654632568\n",
            "Loss: 0.7709023356437683 Accuracy: 0.7174218893051147\n",
            "Start of epoch 7\n",
            "Loss: 0.7112910747528076 Accuracy: 0.7161229848861694\n",
            "Loss: 0.639445424079895 Accuracy: 0.7151562571525574\n",
            "Loss: 0.8108273148536682 Accuracy: 0.727343738079071\n",
            "Loss: 0.6365925073623657 Accuracy: 0.7235937714576721\n",
            "Start of epoch 8\n",
            "Loss: 0.7412444353103638 Accuracy: 0.7278074026107788\n",
            "Loss: 0.8390833735466003 Accuracy: 0.7276562452316284\n",
            "Loss: 0.7820924520492554 Accuracy: 0.735546886920929\n",
            "Loss: 0.7306832671165466 Accuracy: 0.7424218654632568\n",
            "Start of epoch 9\n",
            "Loss: 0.7581978440284729 Accuracy: 0.7496079206466675\n",
            "Loss: 0.4655231237411499 Accuracy: 0.7465624809265137\n",
            "Loss: 0.7818519473075867 Accuracy: 0.746874988079071\n",
            "Loss: 0.7251535654067993 Accuracy: 0.7486718893051147\n",
            "Start of epoch 10\n",
            "Loss: 0.6673930883407593 Accuracy: 0.7544698715209961\n",
            "Loss: 0.6269034147262573 Accuracy: 0.7595312595367432\n",
            "Loss: 0.8984148502349854 Accuracy: 0.7590625286102295\n",
            "Loss: 0.5716575384140015 Accuracy: 0.7625781297683716\n",
            "Start of epoch 11\n",
            "Loss: 0.5656900405883789 Accuracy: 0.7634096741676331\n",
            "Loss: 0.5185940265655518 Accuracy: 0.7669531106948853\n",
            "Loss: 0.5891509056091309 Accuracy: 0.7639843821525574\n",
            "Start of epoch 12\n",
            "Loss: 0.520268976688385 Accuracy: 0.7648996114730835\n",
            "Loss: 0.6614099740982056 Accuracy: 0.7767968773841858\n",
            "Loss: 0.8114113807678223 Accuracy: 0.7709375023841858\n",
            "Loss: 0.6218319535255432 Accuracy: 0.7650781273841858\n",
            "Start of epoch 13\n",
            "Loss: 0.6532813310623169 Accuracy: 0.778544545173645\n",
            "Loss: 0.671535313129425 Accuracy: 0.7788281440734863\n",
            "Loss: 0.6318098306655884 Accuracy: 0.7792187333106995\n",
            "Loss: 0.7326632738113403 Accuracy: 0.7852343916893005\n",
            "Start of epoch 14\n",
            "Loss: 0.5810841917991638 Accuracy: 0.7861511707305908\n",
            "Loss: 0.6941700577735901 Accuracy: 0.7830469012260437\n",
            "Loss: 0.5315463542938232 Accuracy: 0.7911718487739563\n",
            "Loss: 0.5899235010147095 Accuracy: 0.7916406393051147\n",
            "Start of epoch 15\n",
            "Loss: 0.6088134050369263 Accuracy: 0.7873274683952332\n",
            "Loss: 0.5760446786880493 Accuracy: 0.7960156202316284\n",
            "Loss: 0.5267729163169861 Accuracy: 0.7885937690734863\n",
            "Loss: 0.5542632341384888 Accuracy: 0.7975000143051147\n",
            "Start of epoch 16\n",
            "Loss: 0.4761865735054016 Accuracy: 0.7990903258323669\n",
            "Loss: 0.7571872472763062 Accuracy: 0.7942187786102295\n",
            "Loss: 0.5655612349510193 Accuracy: 0.8010156154632568\n",
            "Loss: 0.5878358483314514 Accuracy: 0.7983593940734863\n",
            "Start of epoch 17\n",
            "Loss: 0.6041109561920166 Accuracy: 0.7990119457244873\n",
            "Loss: 0.48246121406555176 Accuracy: 0.7975000143051147\n",
            "Loss: 0.4046635329723358 Accuracy: 0.8114843964576721\n",
            "Loss: 0.5268682241439819 Accuracy: 0.799609363079071\n",
            "Start of epoch 18\n",
            "Loss: 0.6221942901611328 Accuracy: 0.8020702600479126\n",
            "Loss: 0.621151328086853 Accuracy: 0.8025000095367432\n",
            "Loss: 0.5707204937934875 Accuracy: 0.80859375\n",
            "Loss: 0.5509817600250244 Accuracy: 0.8064844012260437\n",
            "Start of epoch 19\n",
            "Loss: 0.4752676486968994 Accuracy: 0.8114021420478821\n",
            "Loss: 0.5658717155456543 Accuracy: 0.813671886920929\n",
            "Loss: 0.5040329694747925 Accuracy: 0.8100781440734863\n",
            "Loss: 0.5678770542144775 Accuracy: 0.8126562237739563\n",
            "Start of epoch 20\n",
            "Loss: 0.6475964188575745 Accuracy: 0.8196361064910889\n",
            "Loss: 0.4864564836025238 Accuracy: 0.8133593797683716\n",
            "Loss: 0.49590349197387695 Accuracy: 0.821484386920929\n",
            "Loss: 0.4160657823085785 Accuracy: 0.8143749833106995\n",
            "Start of epoch 21\n",
            "Loss: 0.604386568069458 Accuracy: 0.8148525953292847\n",
            "Loss: 0.5078041553497314 Accuracy: 0.8138281106948853\n",
            "Loss: 0.454098105430603 Accuracy: 0.8206250071525574\n",
            "Loss: 0.537213146686554 Accuracy: 0.8158593773841858\n",
            "Start of epoch 22\n",
            "Loss: 0.49411875009536743 Accuracy: 0.8195577263832092\n",
            "Loss: 0.42818769812583923 Accuracy: 0.8214062452316284\n",
            "Loss: 0.5885335803031921 Accuracy: 0.8256250023841858\n",
            "Start of epoch 23\n",
            "Loss: 0.42635583877563477 Accuracy: 0.8250470757484436\n",
            "Loss: 0.48677897453308105 Accuracy: 0.8244531154632568\n",
            "Loss: 0.47379520535469055 Accuracy: 0.8280468583106995\n",
            "Loss: 0.48185572028160095 Accuracy: 0.8210155963897705\n",
            "Start of epoch 24\n",
            "Loss: 0.6014368534088135 Accuracy: 0.8312421441078186\n",
            "Loss: 0.48197898268699646 Accuracy: 0.830078125\n",
            "Loss: 0.3715437948703766 Accuracy: 0.8325781226158142\n",
            "Loss: 0.4856650233268738 Accuracy: 0.8267187476158142\n",
            "Start of epoch 25\n",
            "Loss: 0.5147273540496826 Accuracy: 0.8307716250419617\n",
            "Loss: 0.46100378036499023 Accuracy: 0.8267187476158142\n",
            "Loss: 0.4537660777568817 Accuracy: 0.8314843773841858\n",
            "Loss: 0.5169009566307068 Accuracy: 0.8326562643051147\n",
            "Start of epoch 26\n",
            "Loss: 0.5393324494361877 Accuracy: 0.835476815700531\n",
            "Loss: 0.4251711964607239 Accuracy: 0.8317968845367432\n",
            "Loss: 0.39278608560562134 Accuracy: 0.8275781273841858\n",
            "Loss: 0.330117404460907 Accuracy: 0.8389843702316284\n",
            "Start of epoch 27\n",
            "Loss: 0.38047581911087036 Accuracy: 0.8396329879760742\n",
            "Loss: 0.6122012138366699 Accuracy: 0.8333593606948853\n",
            "Loss: 0.4591273367404938 Accuracy: 0.8329687714576721\n",
            "Loss: 0.5067094564437866 Accuracy: 0.8385156393051147\n",
            "Start of epoch 28\n",
            "Loss: 0.5244354009628296 Accuracy: 0.8384566903114319\n",
            "Loss: 0.34300971031188965 Accuracy: 0.8432031273841858\n",
            "Loss: 0.47479248046875 Accuracy: 0.8362500071525574\n",
            "Loss: 0.5111880302429199 Accuracy: 0.8422656059265137\n",
            "Start of epoch 29\n",
            "Loss: 0.5265533328056335 Accuracy: 0.8430050015449524\n",
            "Loss: 0.37745869159698486 Accuracy: 0.838671863079071\n",
            "Loss: 0.5224303603172302 Accuracy: 0.8396093845367432\n",
            "Loss: 0.4883354902267456 Accuracy: 0.8400781154632568\n",
            "Start of epoch 30\n",
            "Loss: 0.6291813850402832 Accuracy: 0.8537484407424927\n",
            "Loss: 0.46652454137802124 Accuracy: 0.8443750143051147\n",
            "Loss: 0.49404454231262207 Accuracy: 0.8380468487739563\n",
            "Loss: 0.41307544708251953 Accuracy: 0.8492968678474426\n",
            "Start of epoch 31\n",
            "Loss: 0.4761448800563812 Accuracy: 0.8460633754730225\n",
            "Loss: 0.46996796131134033 Accuracy: 0.8374218940734863\n",
            "Loss: 0.5367186069488525 Accuracy: 0.8506249785423279\n",
            "Loss: 0.48014533519744873 Accuracy: 0.8407812714576721\n",
            "Start of epoch 32\n",
            "Loss: 0.29250937700271606 Accuracy: 0.8474749326705933\n",
            "Loss: 0.4801260828971863 Accuracy: 0.8492187261581421\n",
            "Loss: 0.4285043478012085 Accuracy: 0.8482031226158142\n",
            "Loss: 0.3335152864456177 Accuracy: 0.849609375\n",
            "Start of epoch 33\n",
            "Loss: 0.4142024517059326 Accuracy: 0.8539837002754211\n",
            "Loss: 0.36153334379196167 Accuracy: 0.8483593463897705\n",
            "Loss: 0.33683937788009644 Accuracy: 0.8498437404632568\n",
            "Start of epoch 34\n",
            "Loss: 0.5026483535766602 Accuracy: 0.8481806516647339\n",
            "Loss: 0.33859652280807495 Accuracy: 0.8528906106948853\n",
            "Loss: 0.37242597341537476 Accuracy: 0.8524218797683716\n",
            "Loss: 0.37664392590522766 Accuracy: 0.8485156297683716\n",
            "Start of epoch 35\n",
            "Loss: 0.3387948274612427 Accuracy: 0.8539837002754211\n",
            "Loss: 0.355657160282135 Accuracy: 0.8565624952316284\n",
            "Loss: 0.37916120886802673 Accuracy: 0.8530468940734863\n",
            "Loss: 0.391091912984848 Accuracy: 0.8470312356948853\n",
            "Start of epoch 36\n",
            "Loss: 0.5288897156715393 Accuracy: 0.8576694130897522\n",
            "Loss: 0.3458230793476105 Accuracy: 0.8551562428474426\n",
            "Loss: 0.38991084694862366 Accuracy: 0.8460937738418579\n",
            "Loss: 0.35535478591918945 Accuracy: 0.8564062714576721\n",
            "Start of epoch 37\n",
            "Loss: 0.25525349378585815 Accuracy: 0.8594730496406555\n",
            "Loss: 0.322009414434433 Accuracy: 0.8524218797683716\n",
            "Loss: 0.3876569867134094 Accuracy: 0.8560937643051147\n",
            "Loss: 0.25174522399902344 Accuracy: 0.856249988079071\n",
            "Start of epoch 38\n",
            "Loss: 0.2924140989780426 Accuracy: 0.8622176647186279\n",
            "Loss: 0.3450731337070465 Accuracy: 0.8588281273841858\n",
            "Loss: 0.4575326442718506 Accuracy: 0.856249988079071\n",
            "Loss: 0.40574169158935547 Accuracy: 0.8596875071525574\n",
            "Start of epoch 39\n",
            "Loss: 0.32509535551071167 Accuracy: 0.8631587028503418\n",
            "Loss: 0.31679457426071167 Accuracy: 0.8612499833106995\n",
            "Loss: 0.48860877752304077 Accuracy: 0.8578125238418579\n",
            "Loss: 0.4907416105270386 Accuracy: 0.8657031059265137\n",
            "Start of epoch 40\n",
            "Loss: 0.40249955654144287 Accuracy: 0.8637861013412476\n",
            "Loss: 0.39788347482681274 Accuracy: 0.8512499928474426\n",
            "Loss: 0.375557541847229 Accuracy: 0.8599218726158142\n",
            "Loss: 0.37793561816215515 Accuracy: 0.8557812571525574\n",
            "Start of epoch 41\n",
            "Loss: 0.40823400020599365 Accuracy: 0.8629234433174133\n",
            "Loss: 0.383044958114624 Accuracy: 0.8645312786102295\n",
            "Loss: 0.3889195919036865 Accuracy: 0.86328125\n",
            "Loss: 0.3414033055305481 Accuracy: 0.8650000095367432\n",
            "Start of epoch 42\n",
            "Loss: 0.3615823984146118 Accuracy: 0.8630803227424622\n",
            "Loss: 0.35812079906463623 Accuracy: 0.8650781512260437\n",
            "Loss: 0.3287011981010437 Accuracy: 0.8614843487739563\n",
            "Loss: 0.3475210666656494 Accuracy: 0.8656250238418579\n",
            "Start of epoch 43\n",
            "Loss: 0.3346371650695801 Accuracy: 0.8613550662994385\n",
            "Loss: 0.3989056944847107 Accuracy: 0.8650781512260437\n",
            "Loss: 0.43477553129196167 Accuracy: 0.8628906011581421\n",
            "Loss: 0.3668929934501648 Accuracy: 0.8711718916893005\n",
            "Start of epoch 44\n",
            "Loss: 0.36640265583992004 Accuracy: 0.8633155822753906\n",
            "Loss: 0.29841431975364685 Accuracy: 0.8637499809265137\n",
            "Loss: 0.3877801299095154 Accuracy: 0.8677343726158142\n",
            "Start of epoch 45\n",
            "Loss: 0.36997246742248535 Accuracy: 0.8619040250778198\n",
            "Loss: 0.4004611074924469 Accuracy: 0.8617187738418579\n",
            "Loss: 0.3303985297679901 Accuracy: 0.870312511920929\n",
            "Loss: 0.3771880865097046 Accuracy: 0.870312511920929\n",
            "Start of epoch 46\n",
            "Loss: 0.30783116817474365 Accuracy: 0.8725690245628357\n",
            "Loss: 0.4157548248767853 Accuracy: 0.8670312762260437\n",
            "Loss: 0.4782620668411255 Accuracy: 0.8687499761581421\n",
            "Loss: 0.4478965699672699 Accuracy: 0.8653125166893005\n",
            "Start of epoch 47\n",
            "Loss: 0.4317663609981537 Accuracy: 0.8676286339759827\n",
            "Loss: 0.4743408262729645 Accuracy: 0.8709375262260437\n",
            "Loss: 0.29820170998573303 Accuracy: 0.8740624785423279\n",
            "Loss: 0.46503758430480957 Accuracy: 0.8735156059265137\n",
            "Start of epoch 48\n",
            "Loss: 0.33353498578071594 Accuracy: 0.8691185712814331\n",
            "Loss: 0.34515827894210815 Accuracy: 0.8678905963897705\n",
            "Loss: 0.41341739892959595 Accuracy: 0.87109375\n",
            "Loss: 0.2556907832622528 Accuracy: 0.8737499713897705\n",
            "Start of epoch 49\n",
            "Loss: 0.3716438114643097 Accuracy: 0.8711574673652649\n",
            "Loss: 0.291788786649704 Accuracy: 0.8779687285423279\n",
            "Loss: 0.38261082768440247 Accuracy: 0.8700000047683716\n",
            "Loss: 0.4388471841812134 Accuracy: 0.8751562237739563\n",
            "Start of epoch 50\n",
            "Loss: 0.4697372019290924 Accuracy: 0.8699811697006226\n",
            "Loss: 0.3628818094730377 Accuracy: 0.8707812428474426\n",
            "Loss: 0.35462042689323425 Accuracy: 0.8768749833106995\n",
            "Loss: 0.4352966547012329 Accuracy: 0.8725781440734863\n",
            "Start of epoch 51\n",
            "Loss: 0.34388312697410583 Accuracy: 0.8727258443832397\n",
            "Loss: 0.37180134654045105 Accuracy: 0.8763281106948853\n",
            "Loss: 0.31607338786125183 Accuracy: 0.8732030987739563\n",
            "Loss: 0.3281496465206146 Accuracy: 0.8704687356948853\n",
            "Start of epoch 52\n",
            "Loss: 0.2680673599243164 Accuracy: 0.875156819820404\n",
            "Loss: 0.38330966234207153 Accuracy: 0.8737499713897705\n",
            "Loss: 0.39200860261917114 Accuracy: 0.8751562237739563\n",
            "Loss: 0.32933947443962097 Accuracy: 0.8762500286102295\n",
            "Start of epoch 53\n",
            "Loss: 0.32296672463417053 Accuracy: 0.8795483112335205\n",
            "Loss: 0.43149954080581665 Accuracy: 0.8728906512260437\n",
            "Loss: 0.243486225605011 Accuracy: 0.8763281106948853\n",
            "Loss: 0.487474262714386 Accuracy: 0.8805468678474426\n",
            "Start of epoch 54\n",
            "Loss: 0.2530972957611084 Accuracy: 0.879940390586853\n",
            "Loss: 0.5374693870544434 Accuracy: 0.8745312690734863\n",
            "Loss: 0.49860715866088867 Accuracy: 0.880859375\n",
            "Loss: 0.22143717110157013 Accuracy: 0.8812500238418579\n",
            "Start of epoch 55\n",
            "Loss: 0.3939479887485504 Accuracy: 0.8780583143234253\n",
            "Loss: 0.28687259554862976 Accuracy: 0.8759375214576721\n",
            "Loss: 0.4487440288066864 Accuracy: 0.8807031512260437\n",
            "Start of epoch 56\n",
            "Loss: 0.31426388025283813 Accuracy: 0.8768820762634277\n",
            "Loss: 0.38215503096580505 Accuracy: 0.8798437714576721\n",
            "Loss: 0.3520435690879822 Accuracy: 0.8755468726158142\n",
            "Loss: 0.3561893403530121 Accuracy: 0.8807031512260437\n",
            "Start of epoch 57\n",
            "Loss: 0.40189382433891296 Accuracy: 0.8812735080718994\n",
            "Loss: 0.44425007700920105 Accuracy: 0.8830468654632568\n",
            "Loss: 0.4202844798564911 Accuracy: 0.8856250047683716\n",
            "Loss: 0.4996281862258911 Accuracy: 0.8695312738418579\n",
            "Start of epoch 58\n",
            "Loss: 0.43031150102615356 Accuracy: 0.8808814287185669\n",
            "Loss: 0.4055633246898651 Accuracy: 0.8862500190734863\n",
            "Loss: 0.4201349914073944 Accuracy: 0.8823437690734863\n",
            "Loss: 0.31398805975914 Accuracy: 0.8810155987739563\n",
            "Start of epoch 59\n",
            "Loss: 0.2629431486129761 Accuracy: 0.8832340240478516\n",
            "Loss: 0.3268794119358063 Accuracy: 0.8849999904632568\n",
            "Loss: 0.42935284972190857 Accuracy: 0.882031261920929\n",
            "Loss: 0.37292104959487915 Accuracy: 0.8825781345367432\n",
            "Start of epoch 60\n",
            "Loss: 0.49897485971450806 Accuracy: 0.88888019323349\n",
            "Loss: 0.39685380458831787 Accuracy: 0.8811718821525574\n",
            "Loss: 0.3412795066833496 Accuracy: 0.8862500190734863\n",
            "Loss: 0.1991981416940689 Accuracy: 0.8921093940734863\n",
            "Start of epoch 61\n",
            "Loss: 0.22149771451950073 Accuracy: 0.884880781173706\n",
            "Loss: 0.23942771553993225 Accuracy: 0.8819531202316284\n",
            "Loss: 0.26488298177719116 Accuracy: 0.8828125\n",
            "Loss: 0.473888099193573 Accuracy: 0.87890625\n",
            "Start of epoch 62\n",
            "Loss: 0.31122392416000366 Accuracy: 0.8796267509460449\n",
            "Loss: 0.3137955665588379 Accuracy: 0.878125011920929\n",
            "Loss: 0.3275051712989807 Accuracy: 0.8778125047683716\n",
            "Loss: 0.5033637285232544 Accuracy: 0.8867968916893005\n",
            "Start of epoch 63\n",
            "Loss: 0.25161516666412354 Accuracy: 0.8860570788383484\n",
            "Loss: 0.32504802942276 Accuracy: 0.878125011920929\n",
            "Loss: 0.2570737898349762 Accuracy: 0.8811718821525574\n",
            "Loss: 0.22220242023468018 Accuracy: 0.8899999856948853\n",
            "Start of epoch 64\n",
            "Loss: 0.333371639251709 Accuracy: 0.8894290924072266\n",
            "Loss: 0.33238303661346436 Accuracy: 0.8875781297683716\n",
            "Loss: 0.2929725646972656 Accuracy: 0.8834375143051147\n",
            "Loss: 0.37142130732536316 Accuracy: 0.8849999904632568\n",
            "Start of epoch 65\n",
            "Loss: 0.20613552629947662 Accuracy: 0.8942126631736755\n",
            "Loss: 0.2606145739555359 Accuracy: 0.8872656226158142\n",
            "Loss: 0.21184350550174713 Accuracy: 0.8839062452316284\n",
            "Loss: 0.3138604760169983 Accuracy: 0.8910937309265137\n",
            "Start of epoch 66\n",
            "Loss: 0.3954532742500305 Accuracy: 0.8855081796646118\n",
            "Loss: 0.4728730320930481 Accuracy: 0.8842968940734863\n",
            "Loss: 0.3110749125480652 Accuracy: 0.885937511920929\n",
            "Start of epoch 67\n",
            "Loss: 0.2373448610305786 Accuracy: 0.890762209892273\n",
            "Loss: 0.22348423302173615 Accuracy: 0.8928906321525574\n",
            "Loss: 0.36898109316825867 Accuracy: 0.8858593702316284\n",
            "Loss: 0.2671806812286377 Accuracy: 0.8871093988418579\n",
            "Start of epoch 68\n",
            "Loss: 0.30539023876190186 Accuracy: 0.8862138986587524\n",
            "Loss: 0.3420712947845459 Accuracy: 0.8846094012260437\n",
            "Loss: 0.4508458375930786 Accuracy: 0.89453125\n",
            "Loss: 0.2843342423439026 Accuracy: 0.885546863079071\n",
            "Start of epoch 69\n",
            "Loss: 0.3288779854774475 Accuracy: 0.8855081796646118\n",
            "Loss: 0.2895060181617737 Accuracy: 0.8924999833106995\n",
            "Loss: 0.14090760052204132 Accuracy: 0.8881250023841858\n",
            "Loss: 0.18568196892738342 Accuracy: 0.8899219036102295\n",
            "Start of epoch 70\n",
            "Loss: 0.35707855224609375 Accuracy: 0.8869981169700623\n",
            "Loss: 0.22072744369506836 Accuracy: 0.8870312571525574\n",
            "Loss: 0.41461193561553955 Accuracy: 0.8871093988418579\n",
            "Loss: 0.26706722378730774 Accuracy: 0.8907812237739563\n",
            "Start of epoch 71\n",
            "Loss: 0.2120090126991272 Accuracy: 0.8898996114730835\n",
            "Loss: 0.288622111082077 Accuracy: 0.8924999833106995\n",
            "Loss: 0.24934208393096924 Accuracy: 0.8912500143051147\n",
            "Loss: 0.2821441888809204 Accuracy: 0.8939843773841858\n",
            "Start of epoch 72\n",
            "Loss: 0.4211089313030243 Accuracy: 0.8935068845748901\n",
            "Loss: 0.3259430229663849 Accuracy: 0.8928124904632568\n",
            "Loss: 0.2265387624502182 Accuracy: 0.8903906345367432\n",
            "Loss: 0.3267384469509125 Accuracy: 0.891406238079071\n",
            "Start of epoch 73\n",
            "Loss: 0.24020248651504517 Accuracy: 0.890762209892273\n",
            "Loss: 0.1808537393808365 Accuracy: 0.893359363079071\n",
            "Loss: 0.31655505299568176 Accuracy: 0.8853124976158142\n",
            "Loss: 0.3057789206504822 Accuracy: 0.892578125\n",
            "Start of epoch 74\n",
            "Loss: 0.24738919734954834 Accuracy: 0.8892722725868225\n",
            "Loss: 0.2948410212993622 Accuracy: 0.9009374976158142\n",
            "Loss: 0.38528960943222046 Accuracy: 0.8864843845367432\n",
            "Loss: 0.3412422239780426 Accuracy: 0.8913280963897705\n",
            "Start of epoch 75\n",
            "Loss: 0.35148149728775024 Accuracy: 0.8972710371017456\n",
            "Loss: 0.3058309555053711 Accuracy: 0.892578125\n",
            "Loss: 0.39830905199050903 Accuracy: 0.8918750286102295\n",
            "Loss: 0.3056783974170685 Accuracy: 0.8922656178474426\n",
            "Start of epoch 76\n",
            "Loss: 0.2977842092514038 Accuracy: 0.894447922706604\n",
            "Loss: 0.28909802436828613 Accuracy: 0.8965625166893005\n",
            "Loss: 0.27831631898880005 Accuracy: 0.8959375023841858\n",
            "Loss: 0.30692601203918457 Accuracy: 0.8920312523841858\n",
            "Start of epoch 77\n",
            "Loss: 0.31626757979393005 Accuracy: 0.8967220783233643\n",
            "Loss: 0.452170193195343 Accuracy: 0.8939062356948853\n",
            "Loss: 0.24122966825962067 Accuracy: 0.8900781273841858\n",
            "Start of epoch 78\n",
            "Loss: 0.2592615485191345 Accuracy: 0.8993099331855774\n",
            "Loss: 0.21733586490154266 Accuracy: 0.896484375\n",
            "Loss: 0.23403331637382507 Accuracy: 0.8989062309265137\n",
            "Loss: 0.2397894263267517 Accuracy: 0.8953906297683716\n",
            "Start of epoch 79\n",
            "Loss: 0.29633498191833496 Accuracy: 0.8905269503593445\n",
            "Loss: 0.2923333942890167 Accuracy: 0.8934375047683716\n",
            "Loss: 0.22148224711418152 Accuracy: 0.897656261920929\n",
            "Loss: 0.2930152416229248 Accuracy: 0.89453125\n",
            "Start of epoch 80\n",
            "Loss: 0.2526453733444214 Accuracy: 0.8966436386108398\n",
            "Loss: 0.22135230898857117 Accuracy: 0.8953906297683716\n",
            "Loss: 0.4173024594783783 Accuracy: 0.896484375\n",
            "Loss: 0.33762097358703613 Accuracy: 0.8946874737739563\n",
            "Start of epoch 81\n",
            "Loss: 0.16764262318611145 Accuracy: 0.8990746736526489\n",
            "Loss: 0.2786659598350525 Accuracy: 0.8964062333106995\n",
            "Loss: 0.2623963952064514 Accuracy: 0.9000781178474426\n",
            "Loss: 0.44738292694091797 Accuracy: 0.8983593583106995\n",
            "Start of epoch 82\n",
            "Loss: 0.38235554099082947 Accuracy: 0.899231493473053\n",
            "Loss: 0.2794210910797119 Accuracy: 0.8988281488418579\n",
            "Loss: 0.26251479983329773 Accuracy: 0.8994531035423279\n",
            "Loss: 0.3241851329803467 Accuracy: 0.8942187428474426\n",
            "Start of epoch 83\n",
            "Loss: 0.27193382382392883 Accuracy: 0.8961731195449829\n",
            "Loss: 0.3692858815193176 Accuracy: 0.9006249904632568\n",
            "Loss: 0.3478063642978668 Accuracy: 0.8983593583106995\n",
            "Loss: 0.30680012702941895 Accuracy: 0.8986718654632568\n",
            "Start of epoch 84\n",
            "Loss: 0.213623046875 Accuracy: 0.8994667530059814\n",
            "Loss: 0.24004143476486206 Accuracy: 0.9026562571525574\n",
            "Loss: 0.310282826423645 Accuracy: 0.8994531035423279\n",
            "Loss: 0.2211199402809143 Accuracy: 0.8988281488418579\n",
            "Start of epoch 85\n",
            "Loss: 0.22970256209373474 Accuracy: 0.9026035070419312\n",
            "Loss: 0.32179319858551025 Accuracy: 0.9027343988418579\n",
            "Loss: 0.3021719455718994 Accuracy: 0.899218738079071\n",
            "Loss: 0.2264251708984375 Accuracy: 0.9013281464576721\n",
            "Start of epoch 86\n",
            "Loss: 0.41114580631256104 Accuracy: 0.9024466872215271\n",
            "Loss: 0.3298552632331848 Accuracy: 0.8999999761581421\n",
            "Loss: 0.14508125185966492 Accuracy: 0.9016406536102295\n",
            "Loss: 0.34860044717788696 Accuracy: 0.9005468487739563\n",
            "Start of epoch 87\n",
            "Loss: 0.31770095229148865 Accuracy: 0.9045639634132385\n",
            "Loss: 0.17569752037525177 Accuracy: 0.8978124856948853\n",
            "Loss: 0.27518755197525024 Accuracy: 0.9013281464576721\n",
            "Loss: 0.2237522155046463 Accuracy: 0.8967187404632568\n",
            "Start of epoch 88\n",
            "Loss: 0.31706100702285767 Accuracy: 0.9021329879760742\n",
            "Loss: 0.2676357626914978 Accuracy: 0.903124988079071\n",
            "Loss: 0.20273855328559875 Accuracy: 0.9002344012260437\n",
            "Start of epoch 89\n",
            "Loss: 0.3368711471557617 Accuracy: 0.9018193483352661\n",
            "Loss: 0.28734028339385986 Accuracy: 0.9014062285423279\n",
            "Loss: 0.2355181872844696 Accuracy: 0.9034374952316284\n",
            "Loss: 0.1562148630619049 Accuracy: 0.9042187333106995\n",
            "Start of epoch 90\n",
            "Loss: 0.21408545970916748 Accuracy: 0.9018977284431458\n",
            "Loss: 0.28576579689979553 Accuracy: 0.900390625\n",
            "Loss: 0.29420560598373413 Accuracy: 0.8988281488418579\n",
            "Loss: 0.2369200885295868 Accuracy: 0.90625\n",
            "Start of epoch 91\n",
            "Loss: 0.2170470952987671 Accuracy: 0.9049561023712158\n",
            "Loss: 0.2845621407032013 Accuracy: 0.9057031273841858\n",
            "Loss: 0.29588213562965393 Accuracy: 0.8992968797683716\n",
            "Loss: 0.2929689884185791 Accuracy: 0.9025781154632568\n",
            "Start of epoch 92\n",
            "Loss: 0.3664434552192688 Accuracy: 0.9029955863952637\n",
            "Loss: 0.22565649449825287 Accuracy: 0.9049999713897705\n",
            "Loss: 0.32565468549728394 Accuracy: 0.9033593535423279\n",
            "Loss: 0.23142769932746887 Accuracy: 0.8974218964576721\n",
            "Start of epoch 93\n",
            "Loss: 0.26550692319869995 Accuracy: 0.9018977284431458\n",
            "Loss: 0.388255774974823 Accuracy: 0.9078124761581421\n",
            "Loss: 0.3305838406085968 Accuracy: 0.9047656059265137\n",
            "Loss: 0.31779733300209045 Accuracy: 0.9036718606948853\n",
            "Start of epoch 94\n",
            "Loss: 0.30967971682548523 Accuracy: 0.9028387665748596\n",
            "Loss: 0.41164594888687134 Accuracy: 0.9042187333106995\n",
            "Loss: 0.2795988619327545 Accuracy: 0.9029687643051147\n",
            "Loss: 0.20799870789051056 Accuracy: 0.907421886920929\n",
            "Start of epoch 95\n",
            "Loss: 0.23287233710289001 Accuracy: 0.9026819467544556\n",
            "Loss: 0.2633414566516876 Accuracy: 0.9046093821525574\n",
            "Loss: 0.27716535329818726 Accuracy: 0.9103124737739563\n",
            "Loss: 0.2634918689727783 Accuracy: 0.9077343940734863\n",
            "Start of epoch 96\n",
            "Loss: 0.36568889021873474 Accuracy: 0.9014272093772888\n",
            "Loss: 0.31298112869262695 Accuracy: 0.8979687690734863\n",
            "Loss: 0.32213667035102844 Accuracy: 0.9117968678474426\n",
            "Loss: 0.41860517859458923 Accuracy: 0.9081249833106995\n",
            "Start of epoch 97\n",
            "Loss: 0.3161800503730774 Accuracy: 0.9063675999641418\n",
            "Loss: 0.24419450759887695 Accuracy: 0.9069530963897705\n",
            "Loss: 0.2666958272457123 Accuracy: 0.9064843654632568\n",
            "Loss: 0.19150948524475098 Accuracy: 0.9108593463897705\n",
            "Start of epoch 98\n",
            "Loss: 0.24919892847537994 Accuracy: 0.9028387665748596\n",
            "Loss: 0.17732667922973633 Accuracy: 0.9132031202316284\n",
            "Loss: 0.1887470781803131 Accuracy: 0.9081249833106995\n",
            "Loss: 0.2580740451812744 Accuracy: 0.9072656035423279\n",
            "Start of epoch 99\n",
            "Loss: 0.2765975594520569 Accuracy: 0.9022114276885986\n",
            "Loss: 0.19737541675567627 Accuracy: 0.9091406464576721\n",
            "Loss: 0.28052350878715515 Accuracy: 0.9099218845367432\n",
            "Loss: 0.45469990372657776 Accuracy: 0.9047208428382874\n"
          ]
        }
      ],
      "source": [
        "steps = 0\n",
        "\n",
        "epochs = 100\n",
        "for epoch in range(epochs):\n",
        "  print('Start of epoch %d' % (epoch,))\n",
        "\n",
        "  for img_batch,lbl_batch in train_data:\n",
        "      steps = steps+1\n",
        "      #img_batch, lbl_batch = mnist_data.next_batch()\n",
        "      with tf.GradientTape(persistent=True) as tape:\n",
        "          logits = model(img_batch, training=True)  # Logits for this minibatch\n",
        "\n",
        "          # Compute the loss value for this minibatch.\n",
        "          loss_value = loss_fn(lbl_batch, logits)\n",
        "\n",
        "      # Use the gradient tape to automatically retrieve\n",
        "      # the gradients of the trainable variables with respect to the loss.\n",
        "      grads = tape.gradient(loss_value, model.trainable_weights)\n",
        "\n",
        "      # Run one step of gradient descent by updating\n",
        "      # the value of the variables to minimize the loss.\n",
        "      opt.apply_gradients(zip(grads, model.trainable_weights))\n",
        "\n",
        "      train_acc_metric(lbl_batch, logits)\n",
        "      \n",
        "      if not steps % 100:\n",
        "          # this is different from before. there, we only evaluated accuracy\n",
        "          # for one batch. Now, we always average over 100 batches\n",
        "          print(\"Loss: {} Accuracy: {}\".format(loss_value, train_acc_metric.result()))\n",
        "          train_acc_metric.reset_states()\n"
      ]
    },
    {
      "cell_type": "code",
      "execution_count": null,
      "metadata": {
        "colab": {
          "base_uri": "https://localhost:8080/",
          "height": 34
        },
        "colab_type": "code",
        "id": "I0i2FudJyoaC",
        "outputId": "cf216bae-8f36-459d-8ac5-4008a7e1117b",
        "vscode": {
          "languageId": "python"
        }
      },
      "outputs": [
        {
          "name": "stdout",
          "output_type": "stream",
          "text": [
            "Test acc: 0.8348000049591064\n"
          ]
        }
      ],
      "source": [
        "# this is very convenient -- before, we usually had code that\n",
        "# evaluates the whole test set at once -- this won't work for\n",
        "# large datasets/models. With metrics, we can just iterate\n",
        "# over the data and the metric takes care of averaging etc.\n",
        "\n",
        "test_acc_metric = tf.keras.metrics.SparseCategoricalAccuracy()\n",
        "for img_batch, lbl_batch in test_data:\n",
        "    test_acc_metric(lbl_batch, model(img_batch))\n",
        "print(\"Test acc: {}\".format(test_acc_metric.result()))"
      ]
    },
    {
      "cell_type": "markdown",
      "metadata": {
        "colab_type": "text",
        "id": "4isjRVVm610s"
      },
      "source": [
        "### **Visualize filters**\n",
        "\n",
        "Visualizing the 3 channels of first 6 filters\n",
        "\n",
        "**Note:** For the “viridis” colour map we selected, yellow represents a value of 1 and dark blue a value of 0.\n",
        "\n",
        "*Ref from:* https://machinelearningmastery.com/how-to-visualize-filters-and-feature-maps-in-convolutional-neural-networks/"
      ]
    },
    {
      "cell_type": "code",
      "execution_count": null,
      "metadata": {
        "colab": {
          "base_uri": "https://localhost:8080/",
          "height": 1000
        },
        "colab_type": "code",
        "id": "ZCGMk7XX5jnh",
        "outputId": "73157e7d-5775-4bff-94f3-a5907303ef07",
        "vscode": {
          "languageId": "python"
        }
      },
      "outputs": [
        {
          "name": "stdout",
          "output_type": "stream",
          "text": [
            "Visualizing filters for Filter number  1\n"
          ]
        },
        {
          "data": {
            "image/png": "[encoded data removed]",
            "text/plain": [
              "<Figure size 720x576 with 18 Axes>"
            ]
          },
          "metadata": {
            "tags": []
          },
          "output_type": "display_data"
        },
        {
          "name": "stdout",
          "output_type": "stream",
          "text": [
            "Visualizing filters for Filter number  2\n"
          ]
        },
        {
          "data": {
            "image/png": "[encoded data removed]",
            "text/plain": [
              "<Figure size 720x576 with 18 Axes>"
            ]
          },
          "metadata": {
            "tags": []
          },
          "output_type": "display_data"
        },
        {
          "name": "stdout",
          "output_type": "stream",
          "text": [
            "Visualizing filters for Filter number  3\n"
          ]
        },
        {
          "data": {
            "image/png": "[encoded data removed]",
            "text/plain": [
              "<Figure size 720x576 with 18 Axes>"
            ]
          },
          "metadata": {
            "tags": []
          },
          "output_type": "display_data"
        },
        {
          "name": "stdout",
          "output_type": "stream",
          "text": [
            "Visualizing filters for Filter number  4\n"
          ]
        },
        {
          "data": {
            "image/png": "[encoded data removed]",
            "text/plain": [
              "<Figure size 720x576 with 18 Axes>"
            ]
          },
          "metadata": {
            "tags": []
          },
          "output_type": "display_data"
        },
        {
          "name": "stdout",
          "output_type": "stream",
          "text": [
            "Visualizing filters for Filter number  5\n"
          ]
        },
        {
          "data": {
            "image/png": "[encoded data removed]",
            "text/plain": [
              "<Figure size 720x576 with 18 Axes>"
            ]
          },
          "metadata": {
            "tags": []
          },
          "output_type": "display_data"
        },
        {
          "name": "stdout",
          "output_type": "stream",
          "text": [
            "Visualizing filters for Filter number  6\n"
          ]
        },
        {
          "data": {
            "image/png": "[encoded data removed]",
            "text/plain": [
              "<Figure size 720x576 with 18 Axes>"
            ]
          },
          "metadata": {
            "tags": []
          },
          "output_type": "display_data"
        },
        {
          "name": "stdout",
          "output_type": "stream",
          "text": [
            "Visualizing filters for Filter number  7\n"
          ]
        },
        {
          "data": {
            "image/png": "[encoded data removed]",
            "text/plain": [
              "<Figure size 720x576 with 18 Axes>"
            ]
          },
          "metadata": {
            "tags": []
          },
          "output_type": "display_data"
        }
      ],
      "source": [
        "number = 1\n",
        "for layer in model.layers:\n",
        "    # check for convolutional layer\n",
        "    if 'conv' not in layer.name:\n",
        "      continue\n",
        "    # get filter weights\n",
        "    filters, biases = layer.get_weights()\n",
        "    #print(layer.name, filters.shape)\n",
        "\n",
        "    print(\"Visualizing filters for Filter number \", number)\n",
        "\n",
        "    number = number+1\n",
        "    # normalize filter values to 0-1 so we can visualize them\n",
        "    f_min, f_max = filters.min(), filters.max()\n",
        "    filters = (filters - f_min) / (f_max - f_min)\n",
        "\n",
        "    # plot first few filters\n",
        "    n_filters, ix = 6, 1\n",
        "    _, ax = plt.subplots(n_filters, 3, figsize=(10, 8))\n",
        "\n",
        "    for i in range(n_filters):\n",
        "      # get the filter\n",
        "      f = filters[:, :, :, i]\n",
        "      # plot each channel separately\n",
        "      for j in range(3):\n",
        "        # specify subplot and turn of axis\n",
        "        ax = plt.subplot(n_filters, 3, ix)\n",
        "        ax.set_xticks([])\n",
        "        ax.set_yticks([])\n",
        "        # plot filter channel in grayscale\n",
        "        plt.imshow(f[:, :, j], cmap=\"viridis\")\n",
        "        ix += 1\n",
        "    # show the figure\n",
        "    plt.tight_layout()\n",
        "    plt.show()"
      ]
    }
  ],
  "metadata": {
    "accelerator": "GPU",
    "colab": {
      "name": "IDL_Assignment3.ipynb",
      "provenance": [],
      "toc_visible": true
    },
    "kernelspec": {
      "display_name": "Python 3",
      "name": "python3"
    }
  },
  "nbformat": 4,
  "nbformat_minor": 0
}
