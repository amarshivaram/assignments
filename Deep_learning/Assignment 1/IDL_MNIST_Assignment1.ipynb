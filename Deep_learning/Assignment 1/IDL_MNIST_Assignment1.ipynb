{
 "cells": [
  {
   "cell_type": "markdown",
   "metadata": {
    "colab_type": "text",
    "id": "2wtSADyaQ3SF"
   },
   "source": [
    "# **IDL Assignment 1 - MLP on MNIST Dataset**"
   ]
  },
  {
   "cell_type": "markdown",
   "metadata": {
    "colab_type": "text",
    "id": "b3fVxBd5HocV"
   },
   "source": [
    "## **Assigning Tensorflow version and importing the libraries required for the tasks**\n"
   ]
  },
  {
   "cell_type": "code",
   "execution_count": null,
   "metadata": {
    "colab": {},
    "colab_type": "code",
    "id": "3g1v3YHPFgiV"
   },
   "outputs": [],
   "source": [
    "%tensorflow_version 2.x\n",
    "\n",
    "import tensorflow as tf\n",
    "import numpy as np\n",
    "import matplotlib.pyplot as plt\n",
    "import pandas as pd\n"
   ]
  },
  {
   "cell_type": "code",
   "execution_count": 2,
   "metadata": {
    "colab": {
     "base_uri": "https://localhost:8080/",
     "height": 34
    },
    "colab_type": "code",
    "id": "ZqgaqJz2HoAM",
    "outputId": "47ba8691-ace8-4be8-e46a-5bea60e0c0df"
   },
   "outputs": [
    {
     "data": {
      "text/plain": [
       "'2.2.0-rc3'"
      ]
     },
     "execution_count": 2,
     "metadata": {
      "tags": []
     },
     "output_type": "execute_result"
    }
   ],
   "source": [
    "tf.__version__"
   ]
  },
  {
   "cell_type": "markdown",
   "metadata": {
    "colab_type": "text",
    "id": "5PWKL96AI7-9"
   },
   "source": [
    "## **Initialising file upload and mounting drive**"
   ]
  },
  {
   "cell_type": "code",
   "execution_count": 3,
   "metadata": {
    "colab": {
     "base_uri": "https://localhost:8080/",
     "height": 111,
     "resources": {
      "http://localhost:8080/nbextensions/google.colab/files.js": {
       "data": "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",
       "headers": [
        [
         "content-type",
         "application/javascript"
        ]
       ],
       "ok": true,
       "status": 200,
       "status_text": ""
      }
     }
    },
    "colab_type": "code",
    "id": "QSOVeJVes57u",
    "outputId": "6ebb7d6d-be59-4ccb-b846-a4ebac55be2c"
   },
   "outputs": [
    {
     "data": {
      "text/html": [
       "\n",
       "     <input type=\"file\" id=\"files-2d6e56f1-e05e-4872-9eab-7fac7420da90\" name=\"files[]\" multiple disabled />\n",
       "     <output id=\"result-2d6e56f1-e05e-4872-9eab-7fac7420da90\">\n",
       "      Upload widget is only available when the cell has been executed in the\n",
       "      current browser session. Please rerun this cell to enable.\n",
       "      </output>\n",
       "      <script src=\"/nbextensions/google.colab/files.js\"></script> "
      ],
      "text/plain": [
       "<IPython.core.display.HTML object>"
      ]
     },
     "metadata": {
      "tags": []
     },
     "output_type": "display_data"
    },
    {
     "name": "stdout",
     "output_type": "stream",
     "text": [
      "Saving datasets.py to datasets.py\n"
     ]
    },
    {
     "data": {
      "text/plain": [
       "{'datasets.py': b'import numpy as np\\n\\n\\nclass MNISTDataset:\\n    \"\"\"\\'Bare minimum\\' class to wrap MNIST numpy arrays into a dataset.\"\"\"\\n    def __init__(self, train_imgs, train_lbs, test_imgs, test_lbls, batch_size,\\n                 to01=True, shuffle=True, seed=None):\\n        \"\"\"\\n        Use seed optionally to always get the same shuffling (-> reproducible\\n        results).\\n        \"\"\"\\n        self.batch_size = batch_size\\n        self.train_data = train_imgs\\n        self.train_labels = train_lbs.astype(np.int32)\\n        self.test_data = test_imgs\\n        self.test_labels = test_lbls.astype(np.int32)\\n\\n        if to01:\\n            # int in [0, 255] -> float in [0, 1]\\n            self.train_data = self.train_data.astype(np.float32) / 255\\n            self.test_data = self.test_data.astype(np.float32) / 255\\n\\n        self.size = self.train_data.shape[0]\\n\\n        if seed:\\n            np.random.seed(seed)\\n        if shuffle:\\n            self.shuffle_train()\\n        self.shuffle = shuffle\\n        self.current_pos = 0\\n\\n    def next_batch(self):\\n        \"\"\"Either gets the next batch, or optionally shuffles and starts a\\n        new epoch.\"\"\"\\n        end_pos = self.current_pos + self.batch_size\\n        if end_pos < self.size:\\n            batch = (self.train_data[self.current_pos:end_pos],\\n                     self.train_labels[self.current_pos:end_pos])\\n            self.current_pos += self.batch_size\\n        else:\\n            # we return what\\'s left (-> possibly smaller batch!) and prepare\\n            # the start of a new epoch\\n            batch = (self.train_data[self.current_pos:self.size],\\n                     self.train_labels[self.current_pos:self.size])\\n            if self.shuffle:\\n                self.shuffle_train()\\n            self.current_pos = 0\\n            print(\"Starting new epoch...\")\\n        return batch\\n\\n    def shuffle_train(self):\\n        shuffled_inds = np.arange(self.train_data.shape[0])\\n        np.random.shuffle(shuffled_inds)\\n        self.train_data = self.train_data[shuffled_inds]\\n        self.train_labels = self.train_labels[shuffled_inds]\\n'}"
      ]
     },
     "execution_count": 3,
     "metadata": {
      "tags": []
     },
     "output_type": "execute_result"
    }
   ],
   "source": [
    "from google.colab import files\n",
    "files.upload()"
   ]
  },
  {
   "cell_type": "code",
   "execution_count": null,
   "metadata": {
    "colab": {
     "base_uri": "https://localhost:8080/",
     "height": 121
    },
    "colab_type": "code",
    "id": "298FJ0aJQ1Sp",
    "outputId": "ccead211-3eda-4e4b-a6f5-796c77a71aef"
   },
   "outputs": [
    {
     "name": "stdout",
     "output_type": "stream",
     "text": [
      "Go to this URL in a browser: https://accounts.google.com/o/oauth2/auth?client_id=947318989803-6bn6qk8qdgf4n4g3pfee6491hc0brc4i.apps.googleusercontent.com&redirect_uri=urn%3aietf%3awg%3aoauth%3a2.0%3aoob&response_type=code&scope=email%20https%3a%2f%2fwww.googleapis.com%2fauth%2fdocs.test%20https%3a%2f%2fwww.googleapis.com%2fauth%2fdrive%20https%3a%2f%2fwww.googleapis.com%2fauth%2fdrive.photos.readonly%20https%3a%2f%2fwww.googleapis.com%2fauth%2fpeopleapi.readonly\n",
      "\n",
      "Enter your authorization code:\n",
      "··········\n",
      "Mounted at /content/drive\n"
     ]
    }
   ],
   "source": [
    "from google.colab import drive\n",
    "drive.mount('/content/drive')"
   ]
  },
  {
   "cell_type": "markdown",
   "metadata": {
    "colab_type": "text",
    "id": "bC5aFZSLJC5u"
   },
   "source": [
    "## **Importing datasets**"
   ]
  },
  {
   "cell_type": "code",
   "execution_count": null,
   "metadata": {
    "colab": {},
    "colab_type": "code",
    "id": "pc_ryVyaKai6"
   },
   "outputs": [],
   "source": [
    "from datasets import MNISTDataset"
   ]
  },
  {
   "cell_type": "code",
   "execution_count": null,
   "metadata": {
    "colab": {},
    "colab_type": "code",
    "id": "OELlcf7GVXaq"
   },
   "outputs": [],
   "source": [
    "mnist = tf.keras.datasets.mnist\n",
    "(train_images, train_labels), (test_images, test_labels) = mnist.load_data()"
   ]
  },
  {
   "cell_type": "code",
   "execution_count": 5,
   "metadata": {
    "colab": {
     "base_uri": "https://localhost:8080/",
     "height": 282
    },
    "colab_type": "code",
    "id": "1JFjphUnVjzk",
    "outputId": "c90d7660-49d9-4e9f-dd35-714ad5079247"
   },
   "outputs": [
    {
     "data": {
      "text/plain": [
       "<matplotlib.image.AxesImage at 0x7fc27aabb9e8>"
      ]
     },
     "execution_count": 5,
     "metadata": {
      "tags": []
     },
     "output_type": "execute_result"
    },
    {
     "data": {
      "image/png": "[encoded data removed]",
      "text/plain": [
       "<Figure size 432x288 with 1 Axes>"
      ]
     },
     "metadata": {
      "needs_background": "light",
      "tags": []
     },
     "output_type": "display_data"
    }
   ],
   "source": [
    "plt.imshow(train_images[0], cmap=\"Greys_r\")\n"
   ]
  },
  {
   "cell_type": "code",
   "execution_count": 6,
   "metadata": {
    "colab": {
     "base_uri": "https://localhost:8080/",
     "height": 282
    },
    "colab_type": "code",
    "id": "Z59bJPbmVkaF",
    "outputId": "1a62b79d-143b-498d-c4ac-aa8572af526c"
   },
   "outputs": [
    {
     "data": {
      "text/plain": [
       "<matplotlib.image.AxesImage at 0x7fc27a587ba8>"
      ]
     },
     "execution_count": 6,
     "metadata": {
      "tags": []
     },
     "output_type": "execute_result"
    },
    {
     "data": {
      "image/png": "[encoded data removed]",
      "text/plain": [
       "<Figure size 432x288 with 1 Axes>"
      ]
     },
     "metadata": {
      "needs_background": "light",
      "tags": []
     },
     "output_type": "display_data"
    }
   ],
   "source": [
    "plt.imshow(train_images[455], cmap=\"Greys_r\")\n"
   ]
  },
  {
   "cell_type": "code",
   "execution_count": 7,
   "metadata": {
    "colab": {
     "base_uri": "https://localhost:8080/",
     "height": 50
    },
    "colab_type": "code",
    "id": "UsnKcUXWhTvW",
    "outputId": "35f5c7aa-fbde-4f86-aa50-f33cbd9e2166"
   },
   "outputs": [
    {
     "name": "stdout",
     "output_type": "stream",
     "text": [
      "(60000, 28, 28)\n",
      "(10000, 28, 28)\n"
     ]
    }
   ],
   "source": [
    "print(train_images.shape)\n",
    "print(test_images.shape)"
   ]
  },
  {
   "cell_type": "code",
   "execution_count": null,
   "metadata": {
    "colab": {},
    "colab_type": "code",
    "id": "Ak_EbxqdhkLB"
   },
   "outputs": [],
   "source": [
    "mnist_data = MNISTDataset(train_images.reshape([-1, 784]), train_labels, \n",
    "                    test_images.reshape([-1, 784]), test_labels,\n",
    "                    batch_size=128)"
   ]
  },
  {
   "cell_type": "markdown",
   "metadata": {
    "colab_type": "text",
    "id": "0r8wlp8fGzo7"
   },
   "source": [
    "## **MNIST Multi Layer Perceptron**"
   ]
  },
  {
   "cell_type": "markdown",
   "metadata": {
    "colab_type": "text",
    "id": "AoJtW3FOJ-DG"
   },
   "source": [
    "### **Hidden Layer = 2**"
   ]
  },
  {
   "cell_type": "markdown",
   "metadata": {
    "colab_type": "text",
    "id": "77mPdcf6fipR"
   },
   "source": [
    "**Observations made**\n",
    "\n",
    "\n",
    "\n",
    "*   Hidden layers - 2 | No of neurons in hidden layers - 16,8 | Activation Function - RelU, ReLU, Softmax | Acc(Tr,Test) = 89.84,87.03\n",
    "*   Hidden layers - 2 | No of neurons in hidden layers - 112,112 | Activation Function - RelU, ReLU, Softmax | Acc(Tr,Test) = 18.75,11.36\n",
    "*   Hidden layers - 2 | No of neurons in hidden layers - 112,16 | Activation Function - RelU, ReLU, Softmax | Acc(Tr,Test) = 92.9,93.2\n",
    "*   Hidden layers - 2 | No of neurons in hidden layers - 112,32 | Activation Function - RelU, ReLU, Softmax | Acc(Tr,Test) = 91.4,93.6\n",
    "*   Hidden layers - 2 | No of neurons in hidden layers - 112,64 | Activation Function - RelU, ReLU, Softmax | Acc(Tr,Test) = 94.5,93.68\n"
   ]
  },
  {
   "cell_type": "code",
   "execution_count": null,
   "metadata": {
    "colab": {},
    "colab_type": "code",
    "id": "cTEThgm3bFyl"
   },
   "outputs": [],
   "source": [
    "## Define Hyper parameters\n",
    "input_neurons = 784\n",
    "hidden1_neurons = 112\n",
    "hidden2_neurons = 64\n",
    "output_neurons = 10\n",
    "\n",
    "train_steps = 1000\n",
    "learning_rate = 0.1"
   ]
  },
  {
   "cell_type": "code",
   "execution_count": null,
   "metadata": {
    "colab": {},
    "colab_type": "code",
    "id": "cTNmIQx2Nwnf"
   },
   "outputs": [],
   "source": [
    "## Initialising initial weights and biases\n",
    "\n",
    "# hidden layer1\n",
    "w1 = tf.Variable(tf.random.uniform([input_neurons,hidden1_neurons], minval=-0.1, maxval=0.1, dtype=tf.dtypes.float32))\n",
    "b1 = tf.Variable(tf.zeros([hidden1_neurons]))\n",
    "\n",
    "\n",
    "# hidden layer2\n",
    "w2 = tf.Variable(tf.random.uniform([hidden1_neurons,hidden2_neurons], minval=-0.1, maxval=0.1, dtype=tf.dtypes.float32))\n",
    "b2 = tf.Variable(tf.zeros([hidden2_neurons]))\n",
    "\n",
    "\n",
    "# output layer\n",
    "w3 = tf.Variable(tf.random.uniform([hidden2_neurons,output_neurons], minval=-0.1, maxval=0.1, dtype=tf.dtypes.float32))\n",
    "b3 = tf.Variable(tf.zeros([output_neurons]))"
   ]
  },
  {
   "cell_type": "markdown",
   "metadata": {
    "colab_type": "text",
    "id": "CdR5OTmjaCRW"
   },
   "source": [
    "#### **MLP for 2 layer network**\n",
    "\n",
    "The code runs the neural network defined on the defined layers and updates the corresponding weights and biases. It then prints the accuracy and losses after every 100 iteration. \n"
   ]
  },
  {
   "cell_type": "code",
   "execution_count": 24,
   "metadata": {
    "colab": {
     "base_uri": "https://localhost:8080/",
     "height": 218
    },
    "colab_type": "code",
    "id": "PZ6qKzrlOE5n",
    "outputId": "dd352c30-de4f-4ea3-e304-45b9b74f275e"
   },
   "outputs": [
    {
     "name": "stdout",
     "output_type": "stream",
     "text": [
      "Loss: 2.302222967147827 Accuracy: 0.0625\n",
      "Loss: 0.8137916326522827 Accuracy: 0.7265625\n",
      "Loss: 0.4607875347137451 Accuracy: 0.859375\n",
      "Loss: 0.4025427997112274 Accuracy: 0.890625\n",
      "Starting new epoch...\n",
      "Loss: 0.2710282802581787 Accuracy: 0.9453125\n",
      "Loss: 0.2368943691253662 Accuracy: 0.921875\n",
      "Loss: 0.24981030821800232 Accuracy: 0.9375\n",
      "Loss: 0.2642776370048523 Accuracy: 0.921875\n",
      "Loss: 0.2522876560688019 Accuracy: 0.9375\n",
      "Starting new epoch...\n",
      "Loss: 0.19959567487239838 Accuracy: 0.9453125\n"
     ]
    }
   ],
   "source": [
    "train_accuracy_list = []\n",
    "steps_list = []\n",
    "loss_list = []\n",
    "\n",
    "for step in range(train_steps):\n",
    "    img_batch, lbl_batch = mnist_data.next_batch()\n",
    "    with tf.GradientTape(persistent=True) as tape:\n",
    "\n",
    "        # The piece of code does the output of the hidden layers and output layer with its corresponding activation function\n",
    "        h1 = tf.nn.relu(tf.matmul(img_batch, w1) + b1)\n",
    "        h2 = tf.nn.relu(tf.matmul(h1, w2) + b2)\n",
    "        logits= tf.matmul(h2, w3) + b3\n",
    "\n",
    "\n",
    "        # The piece of code calculates the loss obtained at the output layer\n",
    "        loss_output = tf.reduce_mean(tf.nn.sparse_softmax_cross_entropy_with_logits(\n",
    "    logits=logits, labels=lbl_batch))\n",
    "        \n",
    "\n",
    "        \n",
    "    ## Gradient functionality is done using \"tape\"    \n",
    "    grads = tape.gradient(loss_output, [w1, b1, w2, b2, w3, b3])\n",
    "\n",
    "    w1.assign_sub(learning_rate * grads[0])\n",
    "    b1.assign_sub(learning_rate * grads[1])\n",
    "\n",
    "    w2.assign_sub(learning_rate * grads[2])\n",
    "    b2.assign_sub(learning_rate * grads[3])\n",
    "\n",
    "    w3.assign_sub(learning_rate * grads[4])\n",
    "    b3.assign_sub(learning_rate * grads[5])\n",
    "    \n",
    "    # Print the accuracy and losses after every 100 iteration\n",
    "    if not step % 100:\n",
    "        train_preds = tf.argmax(logits, axis=1, output_type=tf.int32)\n",
    "        train_acc = tf.reduce_mean(tf.cast(tf.equal(train_preds, lbl_batch),\n",
    "                             tf.float32))\n",
    "        print(\"Loss: {} Accuracy: {}\".format(loss_output, train_acc))\n",
    "        train_accuracy_list.append(train_acc)\n",
    "        loss_list.append(loss_output)\n",
    "        steps_list.append(step)"
   ]
  },
  {
   "cell_type": "markdown",
   "metadata": {
    "colab_type": "text",
    "id": "VAlpWsZcTzvG"
   },
   "source": [
    "#### **Plots**"
   ]
  },
  {
   "cell_type": "code",
   "execution_count": 25,
   "metadata": {
    "colab": {
     "base_uri": "https://localhost:8080/",
     "height": 585
    },
    "colab_type": "code",
    "id": "AWWNGIDe7Xwf",
    "outputId": "5a81e3a1-0152-40ad-a5db-a0fc4cccc619"
   },
   "outputs": [
    {
     "data": {
      "image/png": "[encoded data removed]",
      "text/plain": [
       "<Figure size 720x576 with 2 Axes>"
      ]
     },
     "metadata": {
      "needs_background": "light",
      "tags": []
     },
     "output_type": "display_data"
    }
   ],
   "source": [
    "plt.figure(figsize=(10,8))\n",
    "\n",
    "plt.subplot(2,1, 1)\n",
    "plt.plot(steps_list,train_accuracy_list,'o-')\n",
    "plt.ylabel('Training Accuracy')\n",
    "plt.xlabel('Step Size')\n",
    "plt.title('Accuracy change for each step increase')\n",
    "\n",
    "plt.subplot(2, 1, 2)\n",
    "plt.plot(steps_list,loss_list,\".-\")\n",
    "plt.ylabel('Losses')\n",
    "plt.xlabel('Step Size')\n",
    "plt.title('Change in loss for each step increase')\n",
    "\n",
    "plt.tight_layout()\n",
    "plt.show()"
   ]
  },
  {
   "cell_type": "markdown",
   "metadata": {
    "colab_type": "text",
    "id": "FihI9Q2arCy0"
   },
   "source": [
    "#### **Testing of the network**\n",
    "\n",
    "Pass the testing data to calculate the test accuracy. "
   ]
  },
  {
   "cell_type": "code",
   "execution_count": 26,
   "metadata": {
    "colab": {
     "base_uri": "https://localhost:8080/",
     "height": 34
    },
    "colab_type": "code",
    "id": "32oh5x1IQlkm",
    "outputId": "bca5f5a1-2376-469b-82e0-8373a1a87b3b"
   },
   "outputs": [
    {
     "name": "stdout",
     "output_type": "stream",
     "text": [
      "Accuracy: 0.9368\n"
     ]
    }
   ],
   "source": [
    "test_pred_h1 = tf.nn.relu(tf.matmul(mnist_data.test_data, w1) + b1)  \n",
    "test_pred_h2 = tf.nn.relu(tf.matmul(test_pred_h1, w2) + b2) \n",
    "test_preds = tf.argmax(tf.matmul(test_pred_h2, w3) + b3, axis=1,\n",
    "                       output_type=tf.int32)\n",
    "test_acc = tf.reduce_mean(tf.cast(tf.equal(test_preds, mnist_data.test_labels),\n",
    "                             tf.float64))\n",
    "\n",
    "print(\"Accuracy: {}\".format(test_acc))"
   ]
  },
  {
   "cell_type": "markdown",
   "metadata": {
    "colab_type": "text",
    "id": "rp8GqR5kra21"
   },
   "source": [
    "### **Hidden Layer = 1**"
   ]
  },
  {
   "cell_type": "markdown",
   "metadata": {
    "colab_type": "text",
    "id": "TS9F77y5LSM4"
   },
   "source": [
    "**Observations made**\n",
    "\n",
    "\n",
    "\n",
    "*   Hidden layers - 1 | No of neurons in hidden layers - 16 | Activation Function - RelU, Softmax | Acc(Tr,Test) = 86.71,91.28\n",
    "*   Hidden layers - 1 | No of neurons in hidden layers - 112 | Activation Function - RelU, Softmax | Acc(Tr,Test) = 94.53,93.05\n",
    "*   Hidden layers - 1 | No of neurons in hidden layers - 64 | Activation Function - RelU, Softmax | Acc(Tr,Test) = 90.62,93.07\n",
    "*   Hidden layers - 1 | No of neurons in hidden layers - 32 | Activation Function - RelU, Softmax | Acc(Tr,Test) = 93.7,92.3"
   ]
  },
  {
   "cell_type": "code",
   "execution_count": null,
   "metadata": {
    "colab": {},
    "colab_type": "code",
    "id": "M8tKD1XXrv_l"
   },
   "outputs": [],
   "source": [
    " ## Define Hyper parameters\n",
    "input_neurons = 784\n",
    "hidden1_neurons = 112\n",
    "output_neurons = 10\n",
    "\n",
    "train_steps = 1000\n",
    "learning_rate = 0.1"
   ]
  },
  {
   "cell_type": "code",
   "execution_count": null,
   "metadata": {
    "colab": {},
    "colab_type": "code",
    "id": "ivoK1F4-rwAA"
   },
   "outputs": [],
   "source": [
    "# hidden layer1\n",
    "w1 = tf.Variable(tf.random.uniform([input_neurons,hidden1_neurons], minval=-0.1, maxval=0.1, dtype=tf.dtypes.float32))\n",
    "b1 = tf.Variable(tf.zeros([hidden1_neurons]))\n",
    "\n",
    "\n",
    "# output layer\n",
    "w3 = tf.Variable(tf.random.uniform([hidden1_neurons,output_neurons], minval=-0.1, maxval=0.1, dtype=tf.dtypes.float32))\n",
    "b3 = tf.Variable(tf.zeros([output_neurons]))"
   ]
  },
  {
   "cell_type": "code",
   "execution_count": null,
   "metadata": {
    "colab": {},
    "colab_type": "code",
    "id": "cIpbvzmGrwAH"
   },
   "outputs": [],
   "source": [
    "## The function MLP defines the output of the hidden layers and output layer with its corresponding activation function\n",
    "\n",
    "def mlp(x):\n",
    "    # hidden layer1\n",
    "    h1 = tf.nn.relu(tf.matmul(x, w1) + b1)\n",
    "\n",
    "\n",
    "    # output layer\n",
    "    logits= tf.matmul(h1, w3) + b3\n",
    "    \n",
    "    return logits"
   ]
  },
  {
   "cell_type": "code",
   "execution_count": 42,
   "metadata": {
    "colab": {
     "base_uri": "https://localhost:8080/",
     "height": 218
    },
    "colab_type": "code",
    "id": "Gx_J15uMrwAT",
    "outputId": "5a2ff712-5666-46f5-f0de-51f88add7ce5"
   },
   "outputs": [
    {
     "name": "stdout",
     "output_type": "stream",
     "text": [
      "Loss: 2.3092432022094727 Accuracy: 0.171875\n",
      "Loss: 0.42835962772369385 Accuracy: 0.9140625\n",
      "Starting new epoch...\n",
      "Loss: 0.35702139139175415 Accuracy: 0.90625\n",
      "Loss: 0.32660362124443054 Accuracy: 0.90625\n",
      "Loss: 0.2711184024810791 Accuracy: 0.890625\n",
      "Loss: 0.41941317915916443 Accuracy: 0.828125\n",
      "Loss: 0.29222214221954346 Accuracy: 0.875\n",
      "Starting new epoch...\n",
      "Loss: 0.239985853433609 Accuracy: 0.9375\n",
      "Loss: 0.24576625227928162 Accuracy: 0.8984375\n",
      "Loss: 0.18738529086112976 Accuracy: 0.9453125\n"
     ]
    }
   ],
   "source": [
    "train_accuracy_list_2 = []\n",
    "steps_list_2 = []\n",
    "loss_list_2 = []\n",
    "\n",
    "for step in range(train_steps):\n",
    "    img_batch, lbl_batch = mnist_data.next_batch()\n",
    "    with tf.GradientTape(persistent=True) as tape:\n",
    "        logits = mlp(img_batch)\n",
    "        loss_output = tf.reduce_mean(tf.nn.sparse_softmax_cross_entropy_with_logits(\n",
    "    logits=logits, labels=lbl_batch))\n",
    "        #loss_h1 = tf.multiply(w3,loss_output)\n",
    "        \n",
    "    #paramater_update(tape,loss_output,loss_h1,learning_rate)\n",
    "    \n",
    "    #Gradient calculation\n",
    "    grads = tape.gradient(loss_output, [w1, b1, w3, b3])\n",
    "\n",
    "    #hidden layer1\n",
    "    w1.assign_sub(learning_rate * grads[0])\n",
    "    b1.assign_sub(learning_rate * grads[1])\n",
    "\n",
    "    # output layer\n",
    "    w3.assign_sub(learning_rate * grads[2])\n",
    "    b3.assign_sub(learning_rate * grads[3])\n",
    "\n",
    "\n",
    "    if not step % 100:\n",
    "        train_preds = tf.argmax(logits, axis=1, output_type=tf.int32)\n",
    "        train_acc = tf.reduce_mean(tf.cast(tf.equal(train_preds, lbl_batch),\n",
    "                             tf.float32))\n",
    "        print(\"Loss: {} Accuracy: {}\".format(loss_output, train_acc))\n",
    "        train_accuracy_list_2.append(train_acc)\n",
    "        loss_list_2.append(loss_output)\n",
    "        steps_list_2.append(step)"
   ]
  },
  {
   "cell_type": "markdown",
   "metadata": {
    "colab_type": "text",
    "id": "H91uCDjnT9Gj"
   },
   "source": [
    "#### **Plots**"
   ]
  },
  {
   "cell_type": "code",
   "execution_count": 43,
   "metadata": {
    "colab": {
     "base_uri": "https://localhost:8080/",
     "height": 585
    },
    "colab_type": "code",
    "id": "OxzOTFfv_1Tl",
    "outputId": "c13c2383-de47-4e46-bfcc-814e03ced182"
   },
   "outputs": [
    {
     "data": {
      "image/png": "[encoded data removed]",
      "text/plain": [
       "<Figure size 720x576 with 2 Axes>"
      ]
     },
     "metadata": {
      "needs_background": "light",
      "tags": []
     },
     "output_type": "display_data"
    }
   ],
   "source": [
    "plt.figure(figsize=(10,8))\n",
    "\n",
    "\n",
    "plt.subplot(2,1, 1)\n",
    "plt.plot(steps_list_2,train_accuracy_list_2,'o-')\n",
    "plt.ylabel('Training Accuracy')\n",
    "plt.xlabel('Step Size')\n",
    "plt.title('Accuracy change for each step increase')\n",
    "\n",
    "plt.subplot(2, 1, 2)\n",
    "plt.plot(steps_list_2,loss_list_2,\".-\")\n",
    "plt.ylabel('Losses')\n",
    "plt.xlabel('Step Size')\n",
    "plt.title('Change in loss for each step increase')\n",
    "\n",
    "plt.tight_layout()\n",
    "plt.show()"
   ]
  },
  {
   "cell_type": "markdown",
   "metadata": {
    "colab_type": "text",
    "id": "ImWnjw_DQnCb"
   },
   "source": [
    "#### **Testing of network with 1 hidden layer**"
   ]
  },
  {
   "cell_type": "code",
   "execution_count": 44,
   "metadata": {
    "colab": {
     "base_uri": "https://localhost:8080/",
     "height": 34
    },
    "colab_type": "code",
    "id": "ZceyS20Yt3kg",
    "outputId": "1119ee24-4c08-4216-96e4-b0685ab18427"
   },
   "outputs": [
    {
     "name": "stdout",
     "output_type": "stream",
     "text": [
      "Accuracy: 0.9305\n"
     ]
    }
   ],
   "source": [
    "test_pred_h1 = tf.nn.relu(tf.matmul(mnist_data.test_data, w1) + b1)  \n",
    "test_preds = tf.argmax(tf.matmul(test_pred_h1, w3) + b3, axis=1,\n",
    "                       output_type=tf.int32)\n",
    "test_acc = tf.reduce_mean(tf.cast(tf.equal(test_preds, mnist_data.test_labels),\n",
    "                             tf.float64))\n",
    "\n",
    "print(\"Accuracy: {}\".format(test_acc))"
   ]
  }
 ],
 "metadata": {
  "colab": {
   "name": "IDL_MNIST_Assignment1.ipnyb",
   "provenance": []
  },
  "kernelspec": {
   "display_name": "Python 3",
   "language": "python",
   "name": "python3"
  },
  "language_info": {
   "codemirror_mode": {
    "name": "ipython",
    "version": 3
   },
   "file_extension": ".py",
   "mimetype": "text/x-python",
   "name": "python",
   "nbconvert_exporter": "python",
   "pygments_lexer": "ipython3",
   "version": "3.7.3"
  }
 },
 "nbformat": 4,
 "nbformat_minor": 1
}
